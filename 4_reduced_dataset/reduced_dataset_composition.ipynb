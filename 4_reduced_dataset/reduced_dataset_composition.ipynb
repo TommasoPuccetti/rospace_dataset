{
 "cells": [
  {
   "cell_type": "markdown",
   "id": "9df2a2b1",
   "metadata": {},
   "source": [
    "# Reduced Dataset Composition\n",
    "- In this notebook we present the process that we apply to compose a dataset with a reduced number of rows and columns, starting from the complete dataset (containing all the features and data point obtained after the merging and labelling steps). \n",
    "- We show the methodology we apply, not only for investigating the features, but also to prepare the data to be used by ML algorithms.\n",
    "- The reduction of the rows that completes the composition of the reduced dataset is reported in the <strong>\"NAME OF THE NOTEBOOK\" </strong>\n",
    "- We select the features by manual evaluation (delete malformed or irrelevant features, delete hidden labels), and using a features selection algorithm on the Tshark features to keep only the most useful for the detection."
   ]
  },
  {
   "cell_type": "markdown",
   "id": "6cc60d8c",
   "metadata": {},
   "source": [
    "## Dataset Processing and Evaluation"
   ]
  },
  {
   "cell_type": "code",
   "execution_count": 1,
   "id": "69381722",
   "metadata": {},
   "outputs": [],
   "source": [
    "import pandas as pd\n",
    "import numpy as np\n",
    "from ast import literal_eval"
   ]
  },
  {
   "cell_type": "code",
   "execution_count": 2,
   "id": "2e4e0592",
   "metadata": {},
   "outputs": [],
   "source": [
    "PATH = '/data/puccetti/space_data/final_merging_all_feature_ordered.csv'"
   ]
  },
  {
   "cell_type": "code",
   "execution_count": 3,
   "id": "314c7275",
   "metadata": {},
   "outputs": [],
   "source": [
    "pd.set_option(\"display.max_columns\", None)\n",
    "pd.get_option(\"display.max_columns\")"
   ]
  },
  {
   "cell_type": "code",
   "execution_count": 4,
   "id": "237cd00a",
   "metadata": {},
   "outputs": [
    {
     "name": "stderr",
     "output_type": "stream",
     "text": [
      "/tmp/ipykernel_26598/689939037.py:1: DtypeWarning: Columns (56,67,71,81,88,106,109,110,122,126,127,130,132,134,136,140,141,142,145,146,147,150,151,152,153,154,155,158,159,166,168,169,170,171,172,173,175,178,182,183,187,188,192,193,195,200,201,202,203,207,210,214,215,216,217,218,219,222,224,226,229,233,235,238,242,243,250,252,253,254,255,256,257,262,265,266,277,281,282,285,287,289,291,295,296,300,301,305,306,310,316,324,330,331,342,346,348,352,354,358,360,363,364,367,368,371,372,375,377,381,382,386,389,392,397,401,402,406,407,410,414,415,419,420,425,431,432,433,436,437,438,441,443,444,445,446,449,450,451,477,480,481) have mixed types. Specify dtype option on import or set low_memory=False.\n",
      "  df = pd.read_csv(PATH, nrows=5000000)\n"
     ]
    }
   ],
   "source": [
    "df = pd.read_csv(PATH, nrows=5000000)"
   ]
  },
  {
   "cell_type": "code",
   "execution_count": 5,
   "id": "8fe3c356",
   "metadata": {},
   "outputs": [],
   "source": [
    "df = df.sort_values('timestamp')"
   ]
  },
  {
   "cell_type": "code",
   "execution_count": 6,
   "id": "0bf9818f",
   "metadata": {},
   "outputs": [
    {
     "name": "stdout",
     "output_type": "stream",
     "text": [
      "0          2023-03-16 14:22:23.903192576\n",
      "1          2023-03-16 14:22:23.903765248\n",
      "2          2023-03-16 14:22:23.904402432\n",
      "3          2023-03-16 14:22:23.904744448\n",
      "4          2023-03-16 14:22:23.905764096\n",
      "                       ...              \n",
      "4999995    2023-06-15 09:40:56.200875264\n",
      "4999996    2023-06-15 09:40:56.201245184\n",
      "4999997    2023-06-15 09:40:56.201245184\n",
      "4999998    2023-06-15 09:40:56.201554432\n",
      "4999999    2023-06-15 09:40:56.201554432\n",
      "Name: timestamp, Length: 5000000, dtype: object\n"
     ]
    }
   ],
   "source": [
    "print(df['timestamp'])"
   ]
  },
  {
   "cell_type": "code",
   "execution_count": 7,
   "id": "986c1545",
   "metadata": {},
   "outputs": [
    {
     "name": "stdout",
     "output_type": "stream",
     "text": [
      "(5000000, 483)\n"
     ]
    }
   ],
   "source": [
    "print(df.shape)"
   ]
  },
  {
   "cell_type": "markdown",
   "id": "2a2e97ca",
   "metadata": {},
   "source": [
    "## Some checks on columns and values"
   ]
  },
  {
   "cell_type": "code",
   "execution_count": 8,
   "id": "42d1c0c0",
   "metadata": {},
   "outputs": [
    {
     "name": "stdout",
     "output_type": "stream",
     "text": [
      "observe                4091350\n",
      "nmap discovery          500000\n",
      "ros2 reconnaissance     401494\n",
      "ros2 reflection           3753\n",
      "ros2 node crashing        3403\n",
      "Name: attack, dtype: int64\n"
     ]
    }
   ],
   "source": [
    "print(df['attack'].value_counts())"
   ]
  },
  {
   "cell_type": "markdown",
   "id": "6deaf6ee",
   "metadata": {},
   "source": [
    "Delete some unuseful columns: \n",
    "- 'Unnamed' columns are just duplicate indexes of dataframes"
   ]
  },
  {
   "cell_type": "code",
   "execution_count": 9,
   "id": "b5abab3c",
   "metadata": {},
   "outputs": [
    {
     "name": "stdout",
     "output_type": "stream",
     "text": [
      "1\n",
      "['Unnamed: 0']\n"
     ]
    }
   ],
   "source": [
    "subs = \"Unnamed\"\n",
    "res = [i for i in df.columns if subs in i]\n",
    "print(len(res))\n",
    "print(res)\n",
    "df=df.drop(res, axis=1)"
   ]
  },
  {
   "cell_type": "code",
   "execution_count": 10,
   "id": "28a6e218",
   "metadata": {
    "scrolled": true
   },
   "outputs": [
    {
     "name": "stdout",
     "output_type": "stream",
     "text": [
      "Index(['timestamp', 'layers.frame.frame.time', 'layers.frame.frame.time_delta',\n",
      "       'layers.frame.frame.time_delta_displayed',\n",
      "       'layers.frame.frame.time_relative', 'layers.frame.frame.number',\n",
      "       'layers.frame.frame.len', 'layers.frame.frame.cap_len',\n",
      "       'layers.frame.frame.protocols', 'layers.sll.sll.pkttype',\n",
      "       ...\n",
      "       'Active', 'pgalloc_dma', 'pgmajfault', 'SwapFree', 'src_topic',\n",
      "       'subscribers_count', 'publishers_count', 'msg_type', 'msg_data',\n",
      "       'attack'],\n",
      "      dtype='object', length=482)\n"
     ]
    }
   ],
   "source": [
    "print(df.columns)"
   ]
  },
  {
   "cell_type": "markdown",
   "id": "84c944ca",
   "metadata": {},
   "source": [
    "## Delete Features related to time \n",
    "If we want to train an detector with a shuffled dataset (we want just to distinguish between normal and attack data points, without considering the chronological order of data point occurrences) we have to delete the features related to time as they mark attacks and normal behavoir and are not generalizable (hidden label).\n",
    "\n",
    "However, we keep the timestamp to use it for time series analysis. The time stamp will be dropped based on the detector that we want to build.  "
   ]
  },
  {
   "cell_type": "code",
   "execution_count": 11,
   "id": "05959f31",
   "metadata": {},
   "outputs": [
    {
     "name": "stdout",
     "output_type": "stream",
     "text": [
      "17\n",
      "['layers.frame.frame.time', 'layers.frame.frame.time_delta', 'layers.frame.frame.time_delta_displayed', 'layers.frame.frame.time_relative', 'layers.tcp.tcp.options_tree.tcp.options.timestamp', 'layers.tcp.tcp.options_tree.tcp.options.timestamp_tree.tcp.option_kind', 'layers.tcp.tcp.options_tree.tcp.options.timestamp_tree.tcp.option_len', 'layers.tcp.tcp.options_tree.tcp.options.timestamp_tree.tcp.options.timestamp.tsval', 'layers.tcp.tcp.options_tree.tcp.options.timestamp_tree.tcp.options.timestamp.tsecr', 'layers.tcp.Timestamps.tcp.time_relative', 'layers.tcp.Timestamps.tcp.time_delta', 'layers.dns.dns.time', 'layers.dhcpv6.Client Identifier.dhcpv6.duidllt.time', 'layers.dhcpv6.Elapsed time.dhcpv6.option.type', 'layers.dhcpv6.Elapsed time.dhcpv6.option.length', 'layers.dhcpv6.Elapsed time.dhcpv6.option.value', 'layers.dhcpv6.Elapsed time.dhcpv6.elapsed_time']\n"
     ]
    }
   ],
   "source": [
    "subs = \"time\"\n",
    "res = [i for i in df.columns if subs in i and i != 'timestamp']\n",
    "print(len(res))\n",
    "print(res)\n",
    "df=df.drop(res, axis=1)"
   ]
  },
  {
   "cell_type": "code",
   "execution_count": 12,
   "id": "f592ab32",
   "metadata": {},
   "outputs": [
    {
     "name": "stdout",
     "output_type": "stream",
     "text": [
      "(5000000, 465)\n"
     ]
    }
   ],
   "source": [
    "print(df.shape)"
   ]
  },
  {
   "cell_type": "markdown",
   "id": "0f618db2",
   "metadata": {},
   "source": [
    "### Delete features that specify Source or Destination at diffrent layers of the protocol stack\n",
    "The model generalization could be degradated by knowledge related to specific values observed during the monitoring campaign. The source and destination addresses are not generalizable, then, we drop them. "
   ]
  },
  {
   "cell_type": "code",
   "execution_count": 13,
   "id": "26eb2677",
   "metadata": {},
   "outputs": [
    {
     "name": "stdout",
     "output_type": "stream",
     "text": [
      "11\n",
      "['layers.ip.ip.dst', 'layers.ip.ip.dst_host', 'layers.tcp.tcp.dstport', 'layers.udp.udp.dstport', 'layers.arp.arp.dst.hw_mac', 'layers.arp.arp.dst.proto_ipv4', 'layers.ipv6.ipv6.dst', 'layers.ipv6.ipv6.dst_host', 'layers.icmp.ip.ip.dst', 'layers.icmp.ip.ip.dst_host', 'layers.icmp.udp.udp.dstport']\n"
     ]
    }
   ],
   "source": [
    "subs = \"dst\"\n",
    "res = [i for i in df.columns if subs in i]\n",
    "print(len(res))\n",
    "print(res)\n",
    "df=df.drop(res, axis=1)"
   ]
  },
  {
   "cell_type": "code",
   "execution_count": 14,
   "id": "bce8566b",
   "metadata": {},
   "outputs": [
    {
     "name": "stdout",
     "output_type": "stream",
     "text": [
      "(5000000, 454)\n"
     ]
    }
   ],
   "source": [
    "print(df.shape)"
   ]
  },
  {
   "cell_type": "code",
   "execution_count": 15,
   "id": "5aa0f869",
   "metadata": {},
   "outputs": [
    {
     "name": "stdout",
     "output_type": "stream",
     "text": [
      "21\n",
      "['layers.sll.sll.src.eth', 'layers.ip.ip.src', 'layers.ip.ip.src_host', 'layers.tcp.tcp.srcport', 'layers.udp.udp.srcport', 'layers.rtps.rtps.guidPrefix.src', 'layers.rtps.rtps.guidPrefix.src_tree.rtps.hostId', 'layers.rtps.rtps.guidPrefix.src_tree.rtps.appId', 'layers.rtps.rtps.guidPrefix.src_tree.rtps.sm.guidPrefix.instanceId', 'layers.arp.arp.src.hw_mac', 'layers.arp.arp.src.proto_ipv4', 'layers.vssmonitoring.vssmonitoring.srcport', 'layers.ipv6.ipv6.src', 'layers.ipv6.ipv6.src_host', 'layers.icmp.ip.ip.src', 'layers.icmp.ip.ip.src_host', 'layers.icmp.udp.udp.srcport', 'layers.ipv6.ipv6.src_sa_mac', 'layers.icmp.udp.udp.srcport_tree._ws.expert._ws.expert.message', 'layers.icmp.udp.udp.srcport_tree._ws.expert._ws.expert.severity', 'layers.icmp.udp.udp.srcport_tree._ws.expert._ws.expert.group']\n"
     ]
    }
   ],
   "source": [
    "subs = \"src\"\n",
    "res = [i for i in df.columns if subs in i and i != 'src_topic']\n",
    "print(len(res))\n",
    "print(res)\n",
    "df=df.drop(res, axis=1)"
   ]
  },
  {
   "cell_type": "code",
   "execution_count": 16,
   "id": "9b10d29c",
   "metadata": {},
   "outputs": [
    {
     "name": "stdout",
     "output_type": "stream",
     "text": [
      "(5000000, 433)\n"
     ]
    }
   ],
   "source": [
    "print(df.shape)"
   ]
  },
  {
   "cell_type": "code",
   "execution_count": 17,
   "id": "11d2ed09",
   "metadata": {},
   "outputs": [
    {
     "name": "stdout",
     "output_type": "stream",
     "text": [
      "4\n",
      "['layers.ip.ip.host', 'layers.ipv6.ipv6.host', 'layers.icmp.ip.ip.host', 'layers.http.http.host']\n"
     ]
    }
   ],
   "source": [
    "subs = \"host\"\n",
    "res = [i for i in df.columns if subs in i and i != 'src_topic']\n",
    "print(len(res))\n",
    "print(res)\n",
    "df=df.drop(res, axis=1)"
   ]
  },
  {
   "cell_type": "code",
   "execution_count": 18,
   "id": "649abeae",
   "metadata": {},
   "outputs": [
    {
     "name": "stdout",
     "output_type": "stream",
     "text": [
      "(5000000, 429)\n"
     ]
    }
   ],
   "source": [
    "print(df.shape)"
   ]
  },
  {
   "cell_type": "code",
   "execution_count": 19,
   "id": "a5575961",
   "metadata": {},
   "outputs": [
    {
     "name": "stdout",
     "output_type": "stream",
     "text": [
      "4\n",
      "['layers.ip.ip.addr', 'layers.ipv6.ipv6.addr', 'layers.icmp.ip.ip.addr', 'layers.dhcpv6.Client Identifier.dhcpv6.duidllt.link_layer_addr']\n"
     ]
    }
   ],
   "source": [
    "subs = \"addr\"\n",
    "res = [i for i in df.columns if subs in i and i != 'src_topic']\n",
    "print(len(res))\n",
    "print(res)\n",
    "df=df.drop(res, axis=1)"
   ]
  },
  {
   "cell_type": "code",
   "execution_count": 20,
   "id": "c0fb604f",
   "metadata": {},
   "outputs": [
    {
     "name": "stdout",
     "output_type": "stream",
     "text": [
      "(5000000, 425)\n"
     ]
    }
   ],
   "source": [
    "print(df.shape)"
   ]
  },
  {
   "cell_type": "markdown",
   "id": "e144450d",
   "metadata": {},
   "source": [
    "### Delete features related to the \"Frame\" protocol\n",
    "From wireshark doc (https://wiki.wireshark.org/Protocols/frame):\n",
    "\n",
    "\"The frame protocol isn't a real protocol itself, but used by Wireshark as a base for all the protocols on top of it. It shows information from capturing, such as the exact time a specific frame was captured. You could think of it as a pseudo dissector.\""
   ]
  },
  {
   "cell_type": "code",
   "execution_count": 21,
   "id": "fc2a326b",
   "metadata": {},
   "outputs": [
    {
     "name": "stdout",
     "output_type": "stream",
     "text": [
      "4\n",
      "['layers.frame.frame.number', 'layers.frame.frame.len', 'layers.frame.frame.cap_len', 'layers.frame.frame.protocols']\n"
     ]
    }
   ],
   "source": [
    "subs = \".frame.\"\n",
    "res = [i for i in df.columns if subs in i and i != 'src_topic']\n",
    "print(len(res))\n",
    "print(res)\n",
    "df=df.drop(res, axis=1)"
   ]
  },
  {
   "cell_type": "code",
   "execution_count": 22,
   "id": "1a24c12f",
   "metadata": {},
   "outputs": [
    {
     "name": "stdout",
     "output_type": "stream",
     "text": [
      "(5000000, 421)\n"
     ]
    }
   ],
   "source": [
    "print(df.shape)"
   ]
  },
  {
   "cell_type": "markdown",
   "id": "dc753971",
   "metadata": {},
   "source": [
    "### Delete features that contains ID keyword\n",
    "We want the dataset to be more general as possible. We drop the ID wich are specific to the execution of the system during the monitoring campaign. Also, the ID can implicitly be an hidden label. For example, the attacker can be associated, during the training to a specific id. However, at test time the association can be different, degrading the performance of the model.\n",
    "\n",
    "First, the features are printed to ensure that we do not drop features with substring \"id\" in the name that are relevant."
   ]
  },
  {
   "cell_type": "code",
   "execution_count": 23,
   "id": "22c7585b",
   "metadata": {},
   "outputs": [
    {
     "name": "stdout",
     "output_type": "stream",
     "text": [
      "37\n",
      "['layers.ip.ip.id', 'layers.dns.dns.id', 'layers.rtps.rtps.guidPrefix', 'layers.rtps.Default port mapping: MULTICAST_METATRAFFIC, domainId=0.rtps.domain_id', 'layers.rtps.rtps.sm.id', 'layers.rtps.rtps.sm.id_tree.rtps.sm.flags', 'layers.rtps.rtps.sm.id_tree.rtps.sm.flags_tree.rtps.flag.reserved', 'layers.rtps.rtps.sm.id_tree.rtps.sm.flags_tree.rtps.flag.data.serialized_key', 'layers.rtps.rtps.sm.id_tree.rtps.sm.flags_tree.rtps.flag.data_present', 'layers.rtps.rtps.sm.id_tree.rtps.sm.flags_tree.rtps.flag.inline_qos', 'layers.rtps.rtps.sm.id_tree.rtps.sm.flags_tree.rtps.flag.endianness', 'layers.rtps.rtps.sm.id_tree.rtps.sm.octetsToNextHeader', 'layers.rtps.rtps.sm.id_tree.rtps.extra_flags', 'layers.rtps.rtps.sm.id_tree.rtps.octets_to_inline_qos', 'layers.rtps.rtps.sm.id_tree.rtps.sm.rdEntityId', 'layers.rtps.rtps.sm.id_tree.rtps.sm.rdEntityId_tree.rtps.sm.rdEntityId.entityKey', 'layers.rtps.rtps.sm.id_tree.rtps.sm.rdEntityId_tree.rtps.sm.rdEntityId.entityKind', 'layers.rtps.rtps.sm.id_tree.rtps.sm.wrEntityId', 'layers.rtps.rtps.sm.id_tree.rtps.sm.wrEntityId_tree.rtps.sm.wrEntityId.entityKey', 'layers.rtps.rtps.sm.id_tree.rtps.sm.wrEntityId_tree.rtps.sm.wrEntityId.entityKind', 'layers.rtps.rtps.sm.id_tree.rtps.sm.seqNumber', 'layers.dhcpv6.dhcpv6.xid', 'layers.icmp.ip.ip.id', 'layers.icmp.dns.dns.id', 'layers.icmp.dns.dns.id_tree._ws.expert._ws.expert.message', 'layers.icmp.dns.dns.id_tree._ws.expert._ws.expert.severity', 'layers.icmp.dns.dns.id_tree._ws.expert._ws.expert.group', 'layers.dns.dns.id_tree._ws.expert._ws.expert.message', 'layers.dns.dns.id_tree._ws.expert._ws.expert.severity', 'layers.dns.dns.id_tree._ws.expert._ws.expert.group', 'layers.mdns.dns.id', 'layers.dhcpv6.Client Identifier.dhcpv6.duid.bytes', 'layers.dhcpv6.Client Identifier.dhcpv6.duid.type', 'layers.dhcpv6.Client Identifier.dhcpv6.duidllt.hwtype', 'layers.mdns.dns.id_tree._ws.expert._ws.expert.message', 'layers.mdns.dns.id_tree._ws.expert._ws.expert.severity', 'layers.mdns.dns.id_tree._ws.expert._ws.expert.group']\n"
     ]
    }
   ],
   "source": [
    "subs = \"id\"\n",
    "res = [i for i in df.columns if subs in i and i != 'src_topic']\n",
    "print(len(res))\n",
    "print(res)\n",
    "df=df.drop(res, axis=1)"
   ]
  },
  {
   "cell_type": "code",
   "execution_count": 24,
   "id": "d28fc983",
   "metadata": {},
   "outputs": [
    {
     "name": "stdout",
     "output_type": "stream",
     "text": [
      "(5000000, 384)\n"
     ]
    }
   ],
   "source": [
    "print(df.shape)"
   ]
  },
  {
   "cell_type": "code",
   "execution_count": 25,
   "id": "f741b2a6",
   "metadata": {},
   "outputs": [
    {
     "name": "stdout",
     "output_type": "stream",
     "text": [
      "4\n",
      "['layers.tcp.tcp.port', 'layers.udp.udp.port', 'layers.rtps.Default port mapping: MULTICAST_METATRAFFIC, domainId=0.rtps.traffic_nature', 'layers.icmp.udp.udp.port']\n"
     ]
    }
   ],
   "source": [
    "subs = \"port\"\n",
    "res = [i for i in df.columns if subs in i and i != 'src_topic']\n",
    "print(len(res))\n",
    "print(res)\n",
    "df=df.drop(res, axis=1)"
   ]
  },
  {
   "cell_type": "code",
   "execution_count": 26,
   "id": "0a4179b2",
   "metadata": {},
   "outputs": [
    {
     "name": "stdout",
     "output_type": "stream",
     "text": [
      "(5000000, 380)\n"
     ]
    }
   ],
   "source": [
    "print(df.shape)"
   ]
  },
  {
   "cell_type": "markdown",
   "id": "65730247",
   "metadata": {},
   "source": [
    "### Delete malformed features\n",
    "These features seems to be badly formatted and can be the results of a formatting exeption during the captures. "
   ]
  },
  {
   "cell_type": "code",
   "execution_count": 27,
   "id": "ff88b272",
   "metadata": {},
   "outputs": [
    {
     "name": "stdout",
     "output_type": "stream",
     "text": [
      "30\n",
      "['layers.dns.Queries.connectivity-check.ubuntu.com: type A, class IN.dns.qry.name', 'layers.dns.Queries.connectivity-check.ubuntu.com: type A, class IN.dns.qry.name.len', 'layers.dns.Queries.connectivity-check.ubuntu.com: type A, class IN.dns.count.labels', 'layers.dns.Queries.connectivity-check.ubuntu.com: type A, class IN.dns.qry.type', 'layers.dns.Queries.connectivity-check.ubuntu.com: type A, class IN.dns.qry.class', 'layers.icmp.dns.Queries.connectivity-check.ubuntu.com: type A, class IN.dns.qry.name', 'layers.icmp.dns.Queries.connectivity-check.ubuntu.com: type A, class IN.dns.qry.name.len', 'layers.icmp.dns.Queries.connectivity-check.ubuntu.com: type A, class IN.dns.count.labels', 'layers.icmp.dns.Queries.connectivity-check.ubuntu.com: type A, class IN.dns.qry.type', 'layers.icmp.dns.Queries.connectivity-check.ubuntu.com: type A, class IN.dns.qry.class', 'layers.icmp.dns.Queries.connectivity-check.ubuntu.com: type AAAA, class IN.dns.qry.name', 'layers.icmp.dns.Queries.connectivity-check.ubuntu.com: type AAAA, class IN.dns.qry.name.len', 'layers.icmp.dns.Queries.connectivity-check.ubuntu.com: type AAAA, class IN.dns.count.labels', 'layers.icmp.dns.Queries.connectivity-check.ubuntu.com: type AAAA, class IN.dns.qry.type', 'layers.icmp.dns.Queries.connectivity-check.ubuntu.com: type AAAA, class IN.dns.qry.class', 'layers.dns.Queries.connectivity-check.ubuntu.com: type AAAA, class IN.dns.qry.name', 'layers.dns.Queries.connectivity-check.ubuntu.com: type AAAA, class IN.dns.qry.name.len', 'layers.dns.Queries.connectivity-check.ubuntu.com: type AAAA, class IN.dns.count.labels', 'layers.dns.Queries.connectivity-check.ubuntu.com: type AAAA, class IN.dns.qry.type', 'layers.dns.Queries.connectivity-check.ubuntu.com: type AAAA, class IN.dns.qry.class', 'layers.dns.Queries.ntp.ubuntu.com: type A, class IN.dns.qry.name', 'layers.dns.Queries.ntp.ubuntu.com: type A, class IN.dns.qry.name.len', 'layers.dns.Queries.ntp.ubuntu.com: type A, class IN.dns.count.labels', 'layers.dns.Queries.ntp.ubuntu.com: type A, class IN.dns.qry.type', 'layers.dns.Queries.ntp.ubuntu.com: type A, class IN.dns.qry.class', 'layers.icmp.dns.Queries.ntp.ubuntu.com: type A, class IN.dns.qry.name', 'layers.icmp.dns.Queries.ntp.ubuntu.com: type A, class IN.dns.qry.name.len', 'layers.icmp.dns.Queries.ntp.ubuntu.com: type A, class IN.dns.count.labels', 'layers.icmp.dns.Queries.ntp.ubuntu.com: type A, class IN.dns.qry.type', 'layers.icmp.dns.Queries.ntp.ubuntu.com: type A, class IN.dns.qry.class']\n"
     ]
    }
   ],
   "source": [
    "subs = \"ubuntu\"\n",
    "res = [i for i in df.columns if subs in i and i != 'src_topic']\n",
    "print(len(res))\n",
    "print(res)\n",
    "df=df.drop(res, axis=1)"
   ]
  },
  {
   "cell_type": "code",
   "execution_count": 28,
   "id": "c0cc6a3a",
   "metadata": {},
   "outputs": [
    {
     "name": "stdout",
     "output_type": "stream",
     "text": [
      "(5000000, 350)\n"
     ]
    }
   ],
   "source": [
    "print(df.shape)"
   ]
  },
  {
   "cell_type": "code",
   "execution_count": 29,
   "id": "92db02df",
   "metadata": {},
   "outputs": [
    {
     "name": "stdout",
     "output_type": "stream",
     "text": [
      "50\n",
      "['layers.dns.Queries.eu-v20.events.data.microsoft.com: type A, class IN.dns.qry.name', 'layers.dns.Queries.eu-v20.events.data.microsoft.com: type A, class IN.dns.qry.name.len', 'layers.dns.Queries.eu-v20.events.data.microsoft.com: type A, class IN.dns.count.labels', 'layers.dns.Queries.eu-v20.events.data.microsoft.com: type A, class IN.dns.qry.type', 'layers.dns.Queries.eu-v20.events.data.microsoft.com: type A, class IN.dns.qry.class', 'layers.dns.Queries.eu-v20.events.data.microsoft.com: type AAAA, class IN.dns.qry.name', 'layers.dns.Queries.eu-v20.events.data.microsoft.com: type AAAA, class IN.dns.qry.name.len', 'layers.dns.Queries.eu-v20.events.data.microsoft.com: type AAAA, class IN.dns.count.labels', 'layers.dns.Queries.eu-v20.events.data.microsoft.com: type AAAA, class IN.dns.qry.type', 'layers.dns.Queries.eu-v20.events.data.microsoft.com: type AAAA, class IN.dns.qry.class', 'layers.dns.Queries.winatp-gw-neu.microsoft.com: type A, class IN.dns.qry.name', 'layers.dns.Queries.winatp-gw-neu.microsoft.com: type A, class IN.dns.qry.name.len', 'layers.dns.Queries.winatp-gw-neu.microsoft.com: type A, class IN.dns.count.labels', 'layers.dns.Queries.winatp-gw-neu.microsoft.com: type A, class IN.dns.qry.type', 'layers.dns.Queries.winatp-gw-neu.microsoft.com: type A, class IN.dns.qry.class', 'layers.dns.Queries.winatp-gw-neu.microsoft.com: type AAAA, class IN.dns.qry.name', 'layers.dns.Queries.winatp-gw-neu.microsoft.com: type AAAA, class IN.dns.qry.name.len', 'layers.dns.Queries.winatp-gw-neu.microsoft.com: type AAAA, class IN.dns.count.labels', 'layers.dns.Queries.winatp-gw-neu.microsoft.com: type AAAA, class IN.dns.qry.type', 'layers.dns.Queries.winatp-gw-neu.microsoft.com: type AAAA, class IN.dns.qry.class', 'layers.icmp.dns.Queries.winatp-gw-neu.microsoft.com: type AAAA, class IN.dns.qry.name', 'layers.icmp.dns.Queries.winatp-gw-neu.microsoft.com: type AAAA, class IN.dns.qry.name.len', 'layers.icmp.dns.Queries.winatp-gw-neu.microsoft.com: type AAAA, class IN.dns.count.labels', 'layers.icmp.dns.Queries.winatp-gw-neu.microsoft.com: type AAAA, class IN.dns.qry.type', 'layers.icmp.dns.Queries.winatp-gw-neu.microsoft.com: type AAAA, class IN.dns.qry.class', 'layers.icmp.dns.Queries.winatp-gw-neu.microsoft.com: type A, class IN.dns.qry.name', 'layers.icmp.dns.Queries.winatp-gw-neu.microsoft.com: type A, class IN.dns.qry.name.len', 'layers.icmp.dns.Queries.winatp-gw-neu.microsoft.com: type A, class IN.dns.count.labels', 'layers.icmp.dns.Queries.winatp-gw-neu.microsoft.com: type A, class IN.dns.qry.type', 'layers.icmp.dns.Queries.winatp-gw-neu.microsoft.com: type A, class IN.dns.qry.class', 'layers.icmp.dns.Queries.eu-v20.events.data.microsoft.com: type AAAA, class IN.dns.qry.name', 'layers.icmp.dns.Queries.eu-v20.events.data.microsoft.com: type AAAA, class IN.dns.qry.name.len', 'layers.icmp.dns.Queries.eu-v20.events.data.microsoft.com: type AAAA, class IN.dns.count.labels', 'layers.icmp.dns.Queries.eu-v20.events.data.microsoft.com: type AAAA, class IN.dns.qry.type', 'layers.icmp.dns.Queries.eu-v20.events.data.microsoft.com: type AAAA, class IN.dns.qry.class', 'layers.icmp.dns.Queries.eu-v20.events.data.microsoft.com: type A, class IN.dns.qry.name', 'layers.icmp.dns.Queries.eu-v20.events.data.microsoft.com: type A, class IN.dns.qry.name.len', 'layers.icmp.dns.Queries.eu-v20.events.data.microsoft.com: type A, class IN.dns.count.labels', 'layers.icmp.dns.Queries.eu-v20.events.data.microsoft.com: type A, class IN.dns.qry.type', 'layers.icmp.dns.Queries.eu-v20.events.data.microsoft.com: type A, class IN.dns.qry.class', 'layers.dns.Queries.europe.x.cp.wd.microsoft.com: type A, class IN.dns.qry.name', 'layers.dns.Queries.europe.x.cp.wd.microsoft.com: type A, class IN.dns.qry.name.len', 'layers.dns.Queries.europe.x.cp.wd.microsoft.com: type A, class IN.dns.count.labels', 'layers.dns.Queries.europe.x.cp.wd.microsoft.com: type A, class IN.dns.qry.type', 'layers.dns.Queries.europe.x.cp.wd.microsoft.com: type A, class IN.dns.qry.class', 'layers.icmp.dns.Queries.europe.x.cp.wd.microsoft.com: type A, class IN.dns.qry.name', 'layers.icmp.dns.Queries.europe.x.cp.wd.microsoft.com: type A, class IN.dns.qry.name.len', 'layers.icmp.dns.Queries.europe.x.cp.wd.microsoft.com: type A, class IN.dns.count.labels', 'layers.icmp.dns.Queries.europe.x.cp.wd.microsoft.com: type A, class IN.dns.qry.type', 'layers.icmp.dns.Queries.europe.x.cp.wd.microsoft.com: type A, class IN.dns.qry.class']\n"
     ]
    }
   ],
   "source": [
    "subs = \"microsoft\"\n",
    "res = [i for i in df.columns if subs in i and i != 'src_topic']\n",
    "print(len(res))\n",
    "print(res)\n",
    "df=df.drop(res, axis=1)"
   ]
  },
  {
   "cell_type": "code",
   "execution_count": 30,
   "id": "774a24d2",
   "metadata": {},
   "outputs": [
    {
     "name": "stdout",
     "output_type": "stream",
     "text": [
      "(5000000, 300)\n"
     ]
    }
   ],
   "source": [
    "print(df.shape)"
   ]
  },
  {
   "cell_type": "markdown",
   "id": "a8172f8d",
   "metadata": {},
   "source": [
    "### Manual evaluation of the Tshark features "
   ]
  },
  {
   "cell_type": "code",
   "execution_count": 31,
   "id": "8fabae5a",
   "metadata": {},
   "outputs": [
    {
     "name": "stdout",
     "output_type": "stream",
     "text": [
      "268\n",
      "['layers.sll.sll.pkttype', 'layers.sll.sll.hatype', 'layers.sll.sll.unused', 'layers.sll.sll.etype', 'layers.ip.ip.version', 'layers.ip.ip.hdr_len', 'layers.ip.ip.dsfield', 'layers.ip.ip.dsfield_tree.ip.dsfield.dscp', 'layers.ip.ip.dsfield_tree.ip.dsfield.ecn', 'layers.ip.ip.len', 'layers.ip.ip.flags', 'layers.ip.ip.flags_tree.ip.flags.rb', 'layers.ip.ip.flags_tree.ip.flags.df', 'layers.ip.ip.flags_tree.ip.flags.mf', 'layers.ip.ip.flags_tree.ip.frag_offset', 'layers.ip.ip.ttl', 'layers.ip.ip.proto', 'layers.ip.ip.checksum', 'layers.ip.ip.checksum.status', 'layers.tcp.tcp.stream', 'layers.tcp.tcp.len', 'layers.tcp.tcp.seq', 'layers.tcp.tcp.nxtseq', 'layers.tcp.tcp.ack', 'layers.tcp.tcp.hdr_len', 'layers.tcp.tcp.flags', 'layers.tcp.tcp.flags_tree.tcp.flags.res', 'layers.tcp.tcp.flags_tree.tcp.flags.ns', 'layers.tcp.tcp.flags_tree.tcp.flags.cwr', 'layers.tcp.tcp.flags_tree.tcp.flags.ecn', 'layers.tcp.tcp.flags_tree.tcp.flags.urg', 'layers.tcp.tcp.flags_tree.tcp.flags.ack', 'layers.tcp.tcp.flags_tree.tcp.flags.push', 'layers.tcp.tcp.flags_tree.tcp.flags.reset', 'layers.tcp.tcp.flags_tree.tcp.flags.syn', 'layers.tcp.tcp.flags_tree.tcp.flags.syn_tree._ws.expert._ws.expert.message', 'layers.tcp.tcp.flags_tree.tcp.flags.syn_tree._ws.expert._ws.expert.severity', 'layers.tcp.tcp.flags_tree.tcp.flags.syn_tree._ws.expert._ws.expert.group', 'layers.tcp.tcp.flags_tree.tcp.flags.fin', 'layers.tcp.tcp.flags_tree.tcp.flags.str', 'layers.tcp.tcp.window_size_value', 'layers.tcp.tcp.window_size', 'layers.tcp.tcp.checksum', 'layers.tcp.tcp.checksum.status', 'layers.tcp.tcp.urgent_pointer', 'layers.tcp.tcp.options', 'layers.tcp.tcp.options_tree.tcp.options.mss', 'layers.tcp.tcp.options_tree.tcp.options.mss_tree.tcp.option_kind', 'layers.tcp.tcp.options_tree.tcp.options.mss_tree.tcp.option_len', 'layers.tcp.tcp.options_tree.tcp.options.mss_tree.tcp.options.mss_val', 'layers.tcp.tcp.options_tree.tcp.options.sack_perm', 'layers.tcp.tcp.options_tree.tcp.options.sack_perm_tree.tcp.option_kind', 'layers.tcp.tcp.options_tree.tcp.options.sack_perm_tree.tcp.option_len', 'layers.tcp.tcp.options_tree.tcp.options.nop', 'layers.tcp.tcp.options_tree.tcp.options.nop_tree.tcp.option_kind', 'layers.tcp.tcp.options_tree.tcp.options.wscale', 'layers.tcp.tcp.options_tree.tcp.options.wscale_tree.tcp.option_kind', 'layers.tcp.tcp.options_tree.tcp.options.wscale_tree.tcp.option_len', 'layers.tcp.tcp.options_tree.tcp.options.wscale_tree.tcp.options.wscale.shift', 'layers.tcp.tcp.options_tree.tcp.options.wscale_tree.tcp.options.wscale.multiplier', 'layers.tcp.tcp.flags_tree.tcp.flags.reset_tree._ws.expert._ws.expert.message', 'layers.tcp.tcp.flags_tree.tcp.flags.reset_tree._ws.expert._ws.expert.severity', 'layers.tcp.tcp.flags_tree.tcp.flags.reset_tree._ws.expert._ws.expert.group', 'layers.tcp.tcp.window_size_scalefactor', 'layers.tcp.tcp.analysis.tcp.analysis.acks_frame', 'layers.tcp.tcp.analysis.tcp.analysis.ack_rtt', 'layers.tcp.tcp.analysis.tcp.analysis.initial_rtt', 'layers.tcp.tcp.analysis.tcp.analysis.bytes_in_flight', 'layers.tcp.tcp.analysis.tcp.analysis.push_bytes_sent', 'layers.tcp.tcp.payload', 'layers.ssl.ssl.record.ssl.record.content_type', 'layers.ssl.ssl.record.ssl.record.version', 'layers.ssl.ssl.record.ssl.record.length', 'layers._ws.short', 'layers.udp.udp.length', 'layers.udp.udp.checksum', 'layers.udp.udp.checksum.status', 'layers.udp.udp.stream', 'layers.dns.dns.flags', 'layers.dns.dns.flags_tree.dns.flags.response', 'layers.dns.dns.flags_tree.dns.flags.opcode', 'layers.dns.dns.flags_tree.dns.flags.truncated', 'layers.dns.dns.flags_tree.dns.flags.recdesired', 'layers.dns.dns.flags_tree.dns.flags.z', 'layers.dns.dns.flags_tree.dns.flags.authenticated', 'layers.dns.dns.flags_tree.dns.flags.checkdisable', 'layers.dns.dns.count.queries', 'layers.dns.dns.count.answers', 'layers.dns.dns.count.auth_rr', 'layers.dns.dns.count.add_rr', 'layers.dns.Additional records.<Root>: type OPT.dns.resp.name', 'layers.dns.Additional records.<Root>: type OPT.dns.resp.type', 'layers.dns.Additional records.<Root>: type OPT.dns.rr.udp_payload_size', 'layers.dns.Additional records.<Root>: type OPT.dns.resp.ext_rcode', 'layers.dns.Additional records.<Root>: type OPT.dns.resp.edns0_version', 'layers.dns.Additional records.<Root>: type OPT.dns.resp.z', 'layers.dns.Additional records.<Root>: type OPT.dns.resp.z_tree.dns.resp.z.do', 'layers.dns.Additional records.<Root>: type OPT.dns.resp.z_tree.dns.resp.z.reserved', 'layers.dns.Additional records.<Root>: type OPT.dns.resp.len', 'layers.ssl', 'layers.ssl.Ignored Unknown Record._ws.expert._ws.expert.message', 'layers.ssl.Ignored Unknown Record._ws.expert._ws.expert.severity', 'layers.ssl.Ignored Unknown Record._ws.expert._ws.expert.group', 'layers.ssl.ssl.record.ssl.app_data', 'layers.rtps.rtps.magic', 'layers.rtps.rtps.version', 'layers.rtps.rtps.version_tree.rtps.version.major', 'layers.rtps.rtps.version_tree.rtps.version.minor', 'layers.rtps.rtps.vendorId', 'layers.tcp.tcp.flags_tree.tcp.flags.fin_tree._ws.expert._ws.expert.message', 'layers.tcp.tcp.flags_tree.tcp.flags.fin_tree._ws.expert._ws.expert.severity', 'layers.tcp.tcp.flags_tree.tcp.flags.fin_tree._ws.expert._ws.expert.group', 'layers.sll.eth.padding', 'layers.arp.arp.hw.type', 'layers.arp.arp.proto.type', 'layers.arp.arp.hw.size', 'layers.arp.arp.proto.size', 'layers.arp.arp.opcode', 'layers.arp.arp.isgratuitous', 'layers.ipv6.ipv6.version', 'layers.ipv6.ip.version', 'layers.ipv6.ipv6.tclass', 'layers.ipv6.ipv6.tclass_tree.ipv6.tclass.dscp', 'layers.ipv6.ipv6.tclass_tree.ipv6.tclass.ecn', 'layers.ipv6.ipv6.flow', 'layers.ipv6.ipv6.plen', 'layers.ipv6.ipv6.nxt', 'layers.ipv6.ipv6.hlim', 'layers.icmpv6.icmpv6.type', 'layers.icmpv6.icmpv6.code', 'layers.icmpv6.icmpv6.checksum', 'layers.icmpv6.icmpv6.checksum.status', 'layers.icmpv6.icmpv6.reserved', 'layers.dhcpv6.dhcpv6.msgtype', 'layers.dhcpv6.Option Request.dhcpv6.option.type', 'layers.dhcpv6.Option Request.dhcpv6.option.length', 'layers.dhcpv6.Option Request.dhcpv6.option.value', 'layers.dhcpv6.Option Request.dhcpv6.requested_option_code', 'layers.icmp.icmp.type', 'layers.icmp.icmp.code', 'layers.icmp.icmp.checksum', 'layers.icmp.icmp.checksum.status', 'layers.icmp.icmp.unused', 'layers.icmp.ip.ip.version', 'layers.icmp.ip.ip.hdr_len', 'layers.icmp.ip.ip.dsfield', 'layers.icmp.ip.ip.dsfield_tree.ip.dsfield.dscp', 'layers.icmp.ip.ip.dsfield_tree.ip.dsfield.ecn', 'layers.icmp.ip.ip.len', 'layers.icmp.ip.ip.flags', 'layers.icmp.ip.ip.flags_tree.ip.flags.rb', 'layers.icmp.ip.ip.flags_tree.ip.flags.df', 'layers.icmp.ip.ip.flags_tree.ip.flags.mf', 'layers.icmp.ip.ip.flags_tree.ip.frag_offset', 'layers.icmp.ip.ip.ttl', 'layers.icmp.ip.ip.proto', 'layers.icmp.ip.ip.checksum', 'layers.icmp.ip.ip.checksum.status', 'layers.icmp.udp.udp.length', 'layers.icmp.udp.udp.checksum', 'layers.icmp.udp.udp.checksum.status', 'layers.icmp.udp.udp.stream', 'layers.icmp.dns.dns.flags', 'layers.icmp.dns.dns.flags_tree.dns.flags.response', 'layers.icmp.dns.dns.flags_tree.dns.flags.opcode', 'layers.icmp.dns.dns.flags_tree.dns.flags.truncated', 'layers.icmp.dns.dns.flags_tree.dns.flags.recdesired', 'layers.icmp.dns.dns.flags_tree.dns.flags.z', 'layers.icmp.dns.dns.flags_tree.dns.flags.checkdisable', 'layers.icmp.dns.dns.count.queries', 'layers.icmp.dns.dns.count.answers', 'layers.icmp.dns.dns.count.auth_rr', 'layers.icmp.dns.dns.count.add_rr', 'layers.icmp.dns.Additional records.<Root>: type OPT.dns.resp.name', 'layers.icmp.dns.Additional records.<Root>: type OPT.dns.resp.type', 'layers.icmp.dns.Additional records.<Root>: type OPT.dns.rr.udp_payload_size', 'layers.icmp.dns.Additional records.<Root>: type OPT.dns.resp.ext_rcode', 'layers.icmp.dns.Additional records.<Root>: type OPT.dns.resp.edns0_version', 'layers.icmp.dns.Additional records.<Root>: type OPT.dns.resp.z', 'layers.icmp.dns.Additional records.<Root>: type OPT.dns.resp.z_tree.dns.resp.z.do', 'layers.icmp.dns.Additional records.<Root>: type OPT.dns.resp.z_tree.dns.resp.z.reserved', 'layers.icmp.dns.Additional records.<Root>: type OPT.dns.resp.len', 'layers.dns.dns.flags_tree.dns.flags.authoritative', 'layers.dns.dns.flags_tree.dns.flags.recavail', 'layers.dns.dns.flags_tree.dns.flags.rcode', 'layers.dns.dns.response_to', 'layers.icmp.dns.dns.flags_tree.dns.flags.authoritative', 'layers.icmp.dns.dns.flags_tree.dns.flags.recavail', 'layers.icmp.dns.dns.flags_tree.dns.flags.authenticated', 'layers.icmp.dns.dns.flags_tree.dns.flags.rcode', 'layers.icmp.dns.dns.retransmit_response_in', 'layers.dns.dns.retransmit_response_in', 'layers.dns.dns.retransmission', 'layers.icmp.dns.dns.retransmit_request_in', 'layers.mdns.dns.flags', 'layers.mdns.dns.flags_tree.dns.flags.response', 'layers.mdns.dns.flags_tree.dns.flags.opcode', 'layers.mdns.dns.flags_tree.dns.flags.truncated', 'layers.mdns.dns.flags_tree.dns.flags.recdesired', 'layers.mdns.dns.flags_tree.dns.flags.z', 'layers.mdns.dns.flags_tree.dns.flags.checkdisable', 'layers.mdns.dns.count.queries', 'layers.mdns.dns.count.answers', 'layers.mdns.dns.count.auth_rr', 'layers.mdns.dns.count.add_rr', 'layers.mdns.Queries._pgpkey-hkp._tcp.local: type PTR, class IN, \"QM\" question.dns.qry.name', 'layers.mdns.Queries._pgpkey-hkp._tcp.local: type PTR, class IN, \"QM\" question.dns.qry.name.len', 'layers.mdns.Queries._pgpkey-hkp._tcp.local: type PTR, class IN, \"QM\" question.dns.count.labels', 'layers.mdns.Queries._pgpkey-hkp._tcp.local: type PTR, class IN, \"QM\" question.dns.qry.type', 'layers.mdns.Queries._pgpkey-hkp._tcp.local: type PTR, class IN, \"QM\" question.dns.qry.class', 'layers.mdns.Queries._pgpkey-hkp._tcp.local: type PTR, class IN, \"QM\" question.dns.qry.qu', 'layers.mdns.Queries._ipp._tcp.local: type PTR, class IN, \"QM\" question.dns.qry.name', 'layers.mdns.Queries._ipp._tcp.local: type PTR, class IN, \"QM\" question.dns.qry.name.len', 'layers.mdns.Queries._ipp._tcp.local: type PTR, class IN, \"QM\" question.dns.count.labels', 'layers.mdns.Queries._ipp._tcp.local: type PTR, class IN, \"QM\" question.dns.qry.type', 'layers.mdns.Queries._ipp._tcp.local: type PTR, class IN, \"QM\" question.dns.qry.class', 'layers.mdns.Queries._ipp._tcp.local: type PTR, class IN, \"QM\" question.dns.qry.qu', 'layers.mdns.Queries._ipps._tcp.local: type PTR, class IN, \"QM\" question.dns.qry.name', 'layers.mdns.Queries._ipps._tcp.local: type PTR, class IN, \"QM\" question.dns.qry.name.len', 'layers.mdns.Queries._ipps._tcp.local: type PTR, class IN, \"QM\" question.dns.count.labels', 'layers.mdns.Queries._ipps._tcp.local: type PTR, class IN, \"QM\" question.dns.qry.type', 'layers.mdns.Queries._ipps._tcp.local: type PTR, class IN, \"QM\" question.dns.qry.class', 'layers.mdns.Queries._ipps._tcp.local: type PTR, class IN, \"QM\" question.dns.qry.qu', 'layers.tcp.tcp.analysis.tcp.analysis.flags._ws.expert._ws.expert.message', 'layers.tcp.tcp.analysis.tcp.analysis.flags._ws.expert._ws.expert.severity', 'layers.tcp.tcp.analysis.tcp.analysis.flags._ws.expert._ws.expert.group', 'layers.ipv6.ipv6.sa_mac', 'layers.dhcpv6.Client Identifier.dhcpv6.option.type', 'layers.dhcpv6.Client Identifier.dhcpv6.option.length', 'layers.dhcpv6.Client Identifier.dhcpv6.option.value', 'layers.tcp.tcp.analysis.tcp.analysis.duplicate_ack_num', 'layers.tcp.tcp.analysis.tcp.analysis.duplicate_ack_frame', 'layers.tcp.tcp.analysis.tcp.analysis.duplicate_ack_frame_tree._ws.expert._ws.expert.message', 'layers.tcp.tcp.analysis.tcp.analysis.duplicate_ack_frame_tree._ws.expert._ws.expert.severity', 'layers.tcp.tcp.analysis.tcp.analysis.duplicate_ack_frame_tree._ws.expert._ws.expert.group', 'layers.data.data.data', 'layers.data.data.len', 'layers.tcp.tcp.analysis.tcp.analysis.flags.tcp.analysis.rto', 'layers.tcp.tcp.analysis.tcp.analysis.flags.tcp.analysis.rto_frame', 'layers.dns.dns.retransmit_request_in', 'layers.mdns.dns.retransmit_request_in', 'layers.mdns.dns.retransmission', 'layers.tcp.tcp.options_tree.tcp.options.sack', 'layers.tcp.tcp.options_tree.tcp.options.sack_tree.tcp.option_kind', 'layers.tcp.tcp.options_tree.tcp.options.sack_tree.tcp.option_len', 'layers.tcp.tcp.options_tree.tcp.options.sack_tree.tcp.options.sack_le', 'layers.tcp.tcp.options_tree.tcp.options.sack_tree.tcp.options.sack_re', 'layers.tcp.tcp.options_tree.tcp.options.sack_tree.tcp.options.sack.count', 'layers.http.http.request.line', 'layers.http.http.request.full_uri', 'layers.http.http.request', 'layers.http.http.request_number', 'layers.http.http.content_type', 'layers.http.http.response.line', 'layers.http.HTTP/1.1 200 OK\\\\r\\\\n._ws.expert._ws.expert.message', 'layers.http.HTTP/1.1 200 OK\\\\r\\\\n._ws.expert._ws.expert.severity', 'layers.http.HTTP/1.1 200 OK\\\\r\\\\n._ws.expert._ws.expert.group', 'layers.http.HTTP/1.1 200 OK\\\\r\\\\n.http.response.version', 'layers.http.HTTP/1.1 200 OK\\\\r\\\\n.http.response.code', 'layers.http.HTTP/1.1 200 OK\\\\r\\\\n.http.response.code.desc', 'layers.http.HTTP/1.1 200 OK\\\\r\\\\n.http.response.phrase', 'layers.http.http.user_agent', 'layers.http.GET / HTTP/1.1\\\\r\\\\n._ws.expert._ws.expert.message', 'layers.http.GET / HTTP/1.1\\\\r\\\\n._ws.expert._ws.expert.severity', 'layers.http.GET / HTTP/1.1\\\\r\\\\n._ws.expert._ws.expert.group', 'layers.http.GET / HTTP/1.1\\\\r\\\\n.http.request.method', 'layers.http.GET / HTTP/1.1\\\\r\\\\n.http.request.uri', 'layers.http.GET / HTTP/1.1\\\\r\\\\n.http.request.version']\n"
     ]
    }
   ],
   "source": [
    "subs = \".\"\n",
    "res = [i for i in df.columns if subs in i]\n",
    "print(len(res))\n",
    "print(res)\n",
    "#df=df.drop(res, axis=1)"
   ]
  },
  {
   "cell_type": "markdown",
   "id": "29c3802f",
   "metadata": {},
   "source": [
    "### Drop the malformed features \n",
    "We drop the features with \"/\" or \"\\\""
   ]
  },
  {
   "cell_type": "code",
   "execution_count": 32,
   "id": "f34d5e38",
   "metadata": {},
   "outputs": [
    {
     "name": "stdout",
     "output_type": "stream",
     "text": [
      "13\n",
      "['layers.http.HTTP/1.1 200 OK\\\\r\\\\n._ws.expert._ws.expert.message', 'layers.http.HTTP/1.1 200 OK\\\\r\\\\n._ws.expert._ws.expert.severity', 'layers.http.HTTP/1.1 200 OK\\\\r\\\\n._ws.expert._ws.expert.group', 'layers.http.HTTP/1.1 200 OK\\\\r\\\\n.http.response.version', 'layers.http.HTTP/1.1 200 OK\\\\r\\\\n.http.response.code', 'layers.http.HTTP/1.1 200 OK\\\\r\\\\n.http.response.code.desc', 'layers.http.HTTP/1.1 200 OK\\\\r\\\\n.http.response.phrase', 'layers.http.GET / HTTP/1.1\\\\r\\\\n._ws.expert._ws.expert.message', 'layers.http.GET / HTTP/1.1\\\\r\\\\n._ws.expert._ws.expert.severity', 'layers.http.GET / HTTP/1.1\\\\r\\\\n._ws.expert._ws.expert.group', 'layers.http.GET / HTTP/1.1\\\\r\\\\n.http.request.method', 'layers.http.GET / HTTP/1.1\\\\r\\\\n.http.request.uri', 'layers.http.GET / HTTP/1.1\\\\r\\\\n.http.request.version']\n"
     ]
    }
   ],
   "source": [
    "subs = \"/\"\n",
    "res = [i for i in df.columns if subs in i]\n",
    "print(len(res))\n",
    "print(res)\n",
    "df=df.drop(res, axis=1)"
   ]
  },
  {
   "cell_type": "code",
   "execution_count": 33,
   "id": "f23502b2",
   "metadata": {},
   "outputs": [
    {
     "name": "stdout",
     "output_type": "stream",
     "text": [
      "0\n",
      "[]\n"
     ]
    }
   ],
   "source": [
    "subs = \"\\\\\"\n",
    "res = [i for i in df.columns if subs in i]\n",
    "print(len(res))\n",
    "print(res)\n",
    "df=df.drop(res, axis=1)"
   ]
  },
  {
   "cell_type": "code",
   "execution_count": 34,
   "id": "fe8c736e",
   "metadata": {},
   "outputs": [
    {
     "name": "stdout",
     "output_type": "stream",
     "text": [
      "(5000000, 287)\n"
     ]
    }
   ],
   "source": [
    "print(df.shape)"
   ]
  },
  {
   "cell_type": "code",
   "execution_count": 35,
   "id": "54b15707",
   "metadata": {},
   "outputs": [
    {
     "name": "stdout",
     "output_type": "stream",
     "text": [
      "18\n",
      "['layers.mdns.Queries._pgpkey-hkp._tcp.local: type PTR, class IN, \"QM\" question.dns.qry.name', 'layers.mdns.Queries._pgpkey-hkp._tcp.local: type PTR, class IN, \"QM\" question.dns.qry.name.len', 'layers.mdns.Queries._pgpkey-hkp._tcp.local: type PTR, class IN, \"QM\" question.dns.count.labels', 'layers.mdns.Queries._pgpkey-hkp._tcp.local: type PTR, class IN, \"QM\" question.dns.qry.type', 'layers.mdns.Queries._pgpkey-hkp._tcp.local: type PTR, class IN, \"QM\" question.dns.qry.class', 'layers.mdns.Queries._pgpkey-hkp._tcp.local: type PTR, class IN, \"QM\" question.dns.qry.qu', 'layers.mdns.Queries._ipp._tcp.local: type PTR, class IN, \"QM\" question.dns.qry.name', 'layers.mdns.Queries._ipp._tcp.local: type PTR, class IN, \"QM\" question.dns.qry.name.len', 'layers.mdns.Queries._ipp._tcp.local: type PTR, class IN, \"QM\" question.dns.count.labels', 'layers.mdns.Queries._ipp._tcp.local: type PTR, class IN, \"QM\" question.dns.qry.type', 'layers.mdns.Queries._ipp._tcp.local: type PTR, class IN, \"QM\" question.dns.qry.class', 'layers.mdns.Queries._ipp._tcp.local: type PTR, class IN, \"QM\" question.dns.qry.qu', 'layers.mdns.Queries._ipps._tcp.local: type PTR, class IN, \"QM\" question.dns.qry.name', 'layers.mdns.Queries._ipps._tcp.local: type PTR, class IN, \"QM\" question.dns.qry.name.len', 'layers.mdns.Queries._ipps._tcp.local: type PTR, class IN, \"QM\" question.dns.count.labels', 'layers.mdns.Queries._ipps._tcp.local: type PTR, class IN, \"QM\" question.dns.qry.type', 'layers.mdns.Queries._ipps._tcp.local: type PTR, class IN, \"QM\" question.dns.qry.class', 'layers.mdns.Queries._ipps._tcp.local: type PTR, class IN, \"QM\" question.dns.qry.qu']\n"
     ]
    }
   ],
   "source": [
    "subs = \"PTR\"\n",
    "res = [i for i in df.columns if subs in i]\n",
    "print(len(res))\n",
    "print(res)\n",
    "df=df.drop(res, axis=1)"
   ]
  },
  {
   "cell_type": "code",
   "execution_count": 36,
   "id": "b06a4491",
   "metadata": {},
   "outputs": [
    {
     "name": "stdout",
     "output_type": "stream",
     "text": [
      "(5000000, 269)\n"
     ]
    }
   ],
   "source": [
    "print(df.shape)"
   ]
  },
  {
   "cell_type": "code",
   "execution_count": 37,
   "id": "93a706f3",
   "metadata": {},
   "outputs": [
    {
     "name": "stdout",
     "output_type": "stream",
     "text": [
      "1\n",
      "['layers.http.http.request.full_uri']\n"
     ]
    }
   ],
   "source": [
    "subs = \"full_uri\"\n",
    "res = [i for i in df.columns if subs in i]\n",
    "print(len(res))\n",
    "print(res)\n",
    "df=df.drop(res, axis=1)"
   ]
  },
  {
   "cell_type": "code",
   "execution_count": 38,
   "id": "ea35ecc7",
   "metadata": {},
   "outputs": [
    {
     "name": "stdout",
     "output_type": "stream",
     "text": [
      "1\n",
      "['layers.http.http.request_number']\n"
     ]
    }
   ],
   "source": [
    "subs = \"request_number\"\n",
    "res = [i for i in df.columns if subs in i]\n",
    "print(len(res))\n",
    "print(res)\n",
    "df=df.drop(res, axis=1)"
   ]
  },
  {
   "cell_type": "code",
   "execution_count": 39,
   "id": "67e5af49",
   "metadata": {},
   "outputs": [
    {
     "name": "stdout",
     "output_type": "stream",
     "text": [
      "18\n",
      "['layers.dns.Additional records.<Root>: type OPT.dns.resp.name', 'layers.dns.Additional records.<Root>: type OPT.dns.resp.type', 'layers.dns.Additional records.<Root>: type OPT.dns.rr.udp_payload_size', 'layers.dns.Additional records.<Root>: type OPT.dns.resp.ext_rcode', 'layers.dns.Additional records.<Root>: type OPT.dns.resp.edns0_version', 'layers.dns.Additional records.<Root>: type OPT.dns.resp.z', 'layers.dns.Additional records.<Root>: type OPT.dns.resp.z_tree.dns.resp.z.do', 'layers.dns.Additional records.<Root>: type OPT.dns.resp.z_tree.dns.resp.z.reserved', 'layers.dns.Additional records.<Root>: type OPT.dns.resp.len', 'layers.icmp.dns.Additional records.<Root>: type OPT.dns.resp.name', 'layers.icmp.dns.Additional records.<Root>: type OPT.dns.resp.type', 'layers.icmp.dns.Additional records.<Root>: type OPT.dns.rr.udp_payload_size', 'layers.icmp.dns.Additional records.<Root>: type OPT.dns.resp.ext_rcode', 'layers.icmp.dns.Additional records.<Root>: type OPT.dns.resp.edns0_version', 'layers.icmp.dns.Additional records.<Root>: type OPT.dns.resp.z', 'layers.icmp.dns.Additional records.<Root>: type OPT.dns.resp.z_tree.dns.resp.z.do', 'layers.icmp.dns.Additional records.<Root>: type OPT.dns.resp.z_tree.dns.resp.z.reserved', 'layers.icmp.dns.Additional records.<Root>: type OPT.dns.resp.len']\n"
     ]
    }
   ],
   "source": [
    "subs = \"<Root>\"\n",
    "res = [i for i in df.columns if subs in i]\n",
    "print(len(res))\n",
    "print(res)\n",
    "df=df.drop(res, axis=1)"
   ]
  },
  {
   "cell_type": "code",
   "execution_count": 40,
   "id": "442909b7",
   "metadata": {},
   "outputs": [
    {
     "name": "stdout",
     "output_type": "stream",
     "text": [
      "(5000000, 249)\n"
     ]
    }
   ],
   "source": [
    "print(df.shape)"
   ]
  },
  {
   "cell_type": "code",
   "execution_count": 41,
   "id": "749c839a",
   "metadata": {},
   "outputs": [
    {
     "name": "stdout",
     "output_type": "stream",
     "text": [
      "17\n",
      "['layers.ip.ip.hdr_len', 'layers.ip.ip.len', 'layers.tcp.tcp.len', 'layers.tcp.tcp.hdr_len', 'layers.tcp.tcp.options_tree.tcp.options.mss_tree.tcp.option_len', 'layers.tcp.tcp.options_tree.tcp.options.sack_perm_tree.tcp.option_len', 'layers.tcp.tcp.options_tree.tcp.options.wscale_tree.tcp.option_len', 'layers.ssl.ssl.record.ssl.record.length', 'layers.udp.udp.length', 'layers.ipv6.ipv6.plen', 'layers.dhcpv6.Option Request.dhcpv6.option.length', 'layers.icmp.ip.ip.hdr_len', 'layers.icmp.ip.ip.len', 'layers.icmp.udp.udp.length', 'layers.dhcpv6.Client Identifier.dhcpv6.option.length', 'layers.data.data.len', 'layers.tcp.tcp.options_tree.tcp.options.sack_tree.tcp.option_len']\n"
     ]
    }
   ],
   "source": [
    "subs = \"len\"\n",
    "res = [i for i in df.columns if subs in i]\n",
    "print(len(res))\n",
    "print(res)\n",
    "df=df.drop(res, axis=1)"
   ]
  },
  {
   "cell_type": "code",
   "execution_count": 42,
   "id": "ef7f26cd",
   "metadata": {},
   "outputs": [
    {
     "name": "stdout",
     "output_type": "stream",
     "text": [
      "(5000000, 232)\n"
     ]
    }
   ],
   "source": [
    "print(df.shape)"
   ]
  },
  {
   "cell_type": "code",
   "execution_count": 43,
   "id": "e2434c02",
   "metadata": {},
   "outputs": [
    {
     "name": "stdout",
     "output_type": "stream",
     "text": [
      "2\n",
      "['layers.tcp.tcp.seq', 'layers.tcp.tcp.nxtseq']\n"
     ]
    }
   ],
   "source": [
    "subs = \"seq\"\n",
    "res = [i for i in df.columns if subs in i]\n",
    "print(len(res))\n",
    "print(res)\n",
    "df=df.drop(res, axis=1)"
   ]
  },
  {
   "cell_type": "markdown",
   "id": "c4e118cb",
   "metadata": {},
   "source": [
    "### Save list of features "
   ]
  },
  {
   "cell_type": "code",
   "execution_count": 44,
   "id": "9f037f5d",
   "metadata": {},
   "outputs": [],
   "source": [
    "features = df.columns"
   ]
  },
  {
   "cell_type": "code",
   "execution_count": 45,
   "id": "cf78d469",
   "metadata": {},
   "outputs": [],
   "source": [
    "dict = {'features': features}\n",
    "     \n",
    "df_features = pd.DataFrame(dict)"
   ]
  },
  {
   "cell_type": "code",
   "execution_count": 46,
   "id": "043aa8e3",
   "metadata": {},
   "outputs": [],
   "source": [
    "df_features.to_csv(\"/data/puccetti/space_data/features_usable_temp.csv\")"
   ]
  },
  {
   "cell_type": "markdown",
   "id": "4f00a563",
   "metadata": {},
   "source": [
    "### Create dataset with the subset of the features \n",
    "The objecftive is to understand the memory occupation of the resulting dataset"
   ]
  },
  {
   "cell_type": "code",
   "execution_count": 47,
   "id": "4666cdf5",
   "metadata": {},
   "outputs": [],
   "source": [
    "PATH = '/data/puccetti/space_data/final_merging_all_feature_ordered.csv'"
   ]
  },
  {
   "cell_type": "code",
   "execution_count": 48,
   "id": "ffd409ff",
   "metadata": {},
   "outputs": [],
   "source": [
    "features = pd.read_csv(\"/data/puccetti/space_data/features_usable_temp.csv\")\n",
    "to_load = features['features'].values.tolist()"
   ]
  },
  {
   "cell_type": "code",
   "execution_count": 49,
   "id": "a42ab608",
   "metadata": {},
   "outputs": [
    {
     "name": "stderr",
     "output_type": "stream",
     "text": [
      "/tmp/ipykernel_26598/3683786333.py:1: DtypeWarning: Columns (17,22,29,46,56,60,63,66,67,71,81,88,97,99,101,106,110,141,142,145,146,147,150,175,193,195,207,210,222,224,229,233,235,238,243,250,262,266,331,360,364,367,389,392,425,432,436,437,445,477,480,481) have mixed types. Specify dtype option on import or set low_memory=False.\n",
      "  df = pd.read_csv(PATH, usecols=to_load)\n"
     ]
    }
   ],
   "source": [
    "df = pd.read_csv(PATH, usecols=to_load)"
   ]
  },
  {
   "cell_type": "code",
   "execution_count": 50,
   "id": "6c02a7af",
   "metadata": {},
   "outputs": [
    {
     "name": "stdout",
     "output_type": "stream",
     "text": [
      "(30247050, 230)\n"
     ]
    }
   ],
   "source": [
    "print(df.shape)"
   ]
  },
  {
   "cell_type": "code",
   "execution_count": 51,
   "id": "b13911a8",
   "metadata": {},
   "outputs": [],
   "source": [
    "df.to_csv(\"/data/puccetti/space_data/usable_temp.csv\")"
   ]
  },
  {
   "cell_type": "code",
   "execution_count": 52,
   "id": "1151df03",
   "metadata": {},
   "outputs": [
    {
     "name": "stderr",
     "output_type": "stream",
     "text": [
      "/tmp/ipykernel_26598/4150833397.py:1: DtypeWarning: Columns (7,10,17,21,31,35,38,41,42,45,49,53,62,64,65,66,69,81,82,85,86,87,90,91,94,96,103,106,111,113,116,120,122,124,127,134,136,139,162,173,176,178,181,184,190,195,197,198,199,225,228,229) have mixed types. Specify dtype option on import or set low_memory=False.\n",
      "  df = pd.read_csv(\"/data/puccetti/space_data/usable_temp.csv\")\n"
     ]
    }
   ],
   "source": [
    "df = pd.read_csv(\"/data/puccetti/space_data/usable_temp.csv\")"
   ]
  },
  {
   "cell_type": "markdown",
   "id": "f7a07532",
   "metadata": {},
   "source": [
    "# Prepare the data for training\n",
    "In this section, we prepare the data to be processed by ML algorithms. In particular, we perform the following steps:\n",
    "- <strong>Convert mixed dtypes </strong>: we uniform the type of features with mixed type values.\n",
    "- <strong>Handle NaN values</strong>: we replace NaN and infinite values with -1. \n",
    "- <strong>Convert Label to Numeric</strong>: We substitute label values with numeric values. Then, we create two versions of the dataset: with  binary labels (attack, normal), and with multiple labels (one label for each attack).\n",
    "- <strong>Convert String To Numeric</strong>: we convert the string values to numbers using categorical encoding. This technique assigns a unique number to any unique string values of a feature.\n",
    "- <strong>Split the dataset in Training and Test sets</strong>: after removing labels and timestamps columns, we split the dataframe in training and test sets with a 60/40 split."
   ]
  },
  {
   "cell_type": "markdown",
   "id": "2aad0b74",
   "metadata": {},
   "source": [
    "## Convert mixed dtypes\n",
    "We convert mixed dtypes columns to string using the following lambda function:"
   ]
  },
  {
   "cell_type": "code",
   "execution_count": 53,
   "id": "63192295",
   "metadata": {},
   "outputs": [],
   "source": [
    "def convert_dtype(x):\n",
    "    if not x:\n",
    "        return ''\n",
    "    try:\n",
    "        return str(x)   \n",
    "    except:        \n",
    "        return ''\n",
    "    \n",
    "def convert_hex(x):\n",
    "    if not x:\n",
    "        return 0\n",
    "    try:\n",
    "        return literal_eval(x)\n",
    "    except:        \n",
    "        return 0"
   ]
  },
  {
   "cell_type": "code",
   "execution_count": 54,
   "id": "48d85ac1",
   "metadata": {},
   "outputs": [],
   "source": [
    "#Indexes of the columns to be converted\n",
    "to_convert = [7,10,17,21,31,35,38,41,42,45,49,53,62,64,65,66,69,81,82,85,86,87,90,91,94,96,103,106,111,113,116,120,122,124,127,134,136,139,162,173,176,178,181,184,190,195,197,198,199,225,228,229]"
   ]
  },
  {
   "cell_type": "code",
   "execution_count": 55,
   "id": "fef6c5b0",
   "metadata": {
    "scrolled": true
   },
   "outputs": [],
   "source": [
    "#Convert\n",
    "for i in to_convert:\n",
    "    df[df.columns[i]] = df[df.columns[i]].apply(lambda x: convert_dtype(x))"
   ]
  },
  {
   "cell_type": "code",
   "execution_count": 56,
   "id": "f0aef2a5",
   "metadata": {},
   "outputs": [
    {
     "name": "stdout",
     "output_type": "stream",
     "text": [
      "(30247050, 231)\n"
     ]
    }
   ],
   "source": [
    "print(df.shape)"
   ]
  },
  {
   "cell_type": "markdown",
   "id": "5d187b9a",
   "metadata": {},
   "source": [
    "### Handling NaN values"
   ]
  },
  {
   "cell_type": "code",
   "execution_count": 57,
   "id": "a8a7393f",
   "metadata": {},
   "outputs": [],
   "source": [
    "nanv = []\n",
    "for col in df.columns:\n",
    "    nanv.append(df[col].isnull().values.any())"
   ]
  },
  {
   "cell_type": "code",
   "execution_count": 58,
   "id": "98d7d02e",
   "metadata": {
    "scrolled": true
   },
   "outputs": [
    {
     "name": "stdout",
     "output_type": "stream",
     "text": [
      "[False, False, False, False, False, False, True, False, True, True, False, True, True, True, True, True, True, False, True, True, True, False, True, True, True, True, True, True, True, True, True, False, True, True, True, False, True, True, False, True, True, False, False, True, True, False, True, True, True, False, True, True, True, False, True, True, True, True, True, True, True, True, False, True, False, False, False, True, True, False, True, True, True, True, True, True, True, True, True, True, True, False, False, True, True, False, False, False, True, True, False, False, True, True, False, True, False, True, True, True, True, True, True, False, True, True, False, True, True, True, True, False, True, False, True, True, False, True, True, True, False, True, False, True, False, True, True, False, True, True, True, True, True, True, False, True, False, True, True, False, True, True, True, True, True, True, True, True, True, True, True, True, True, True, True, True, True, True, True, True, True, True, False, True, True, True, True, True, True, True, True, True, True, False, True, True, False, True, False, True, True, False, True, True, False, True, True, True, True, True, False, True, True, True, True, False, True, False, False, False, True, True, True, True, True, True, True, True, True, True, True, True, True, True, True, True, True, True, True, True, True, True, True, True, True, False, True, True, False, False, False]\n"
     ]
    }
   ],
   "source": [
    "print(nanv)"
   ]
  },
  {
   "cell_type": "code",
   "execution_count": 59,
   "id": "3ffe2268",
   "metadata": {},
   "outputs": [],
   "source": [
    "df.replace([np.inf, -np.inf], -1, inplace=True)\n",
    "df.fillna(-1, inplace=True)\n",
    "df=df.dropna(thresh=1, axis=1)"
   ]
  },
  {
   "cell_type": "code",
   "execution_count": 60,
   "id": "6dc851b6",
   "metadata": {},
   "outputs": [],
   "source": [
    "df.replace('nan', -1, inplace=True)"
   ]
  },
  {
   "cell_type": "code",
   "execution_count": 61,
   "id": "f1fc2e13",
   "metadata": {},
   "outputs": [
    {
     "name": "stdout",
     "output_type": "stream",
     "text": [
      "[False, False, False, False, False, False, False, False, False, False, False, False, False, False, False, False, False, False, False, False, False, False, False, False, False, False, False, False, False, False, False, False, False, False, False, False, False, False, False, False, False, False, False, False, False, False, False, False, False, False, False, False, False, False, False, False, False, False, False, False, False, False, False, False, False, False, False, False, False, False, False, False, False, False, False, False, False, False, False, False, False, False, False, False, False, False, False, False, False, False, False, False, False, False, False, False, False, False, False, False, False, False, False, False, False, False, False, False, False, False, False, False, False, False, False, False, False, False, False, False, False, False, False, False, False, False, False, False, False, False, False, False, False, False, False, False, False, False, False, False, False, False, False, False, False, False, False, False, False, False, False, False, False, False, False, False, False, False, False, False, False, False, False, False, False, False, False, False, False, False, False, False, False, False, False, False, False, False, False, False, False, False, False, False, False, False, False, False, False, False, False, False, False, False, False, False, False, False, False, False, False, False, False, False, False, False, False, False, False, False, False, False, False, False, False, False, False, False, False, False, False, False, False, False, False, False, False, False, False, False, False]\n"
     ]
    }
   ],
   "source": [
    "nanv = []\n",
    "for col in df.columns:\n",
    "    nanv.append(df[col].isnull().values.any())\n",
    "print(nanv)"
   ]
  },
  {
   "cell_type": "code",
   "execution_count": 62,
   "id": "54846900",
   "metadata": {},
   "outputs": [],
   "source": [
    "#Save the processed dataset\n",
    "df.to_csv('/data/puccetti/space_data/usable_temp_nan.csv')\n",
    "#df = pd.read_csv('/data/puccetti/space_data/final_full_dataset_nan.csv')"
   ]
  },
  {
   "cell_type": "markdown",
   "id": "8331ed77",
   "metadata": {},
   "source": [
    "### Convert Label columns to Numeric values\n",
    "We substitute label values with numeric values. We create two version of the dataset:\n",
    "- binary classification\n",
    "- multiple label classification"
   ]
  },
  {
   "cell_type": "code",
   "execution_count": 63,
   "id": "ea303f96",
   "metadata": {},
   "outputs": [
    {
     "name": "stdout",
     "output_type": "stream",
     "text": [
      "0           2023-03-16 14:22:23.903192576\n",
      "1           2023-03-16 14:22:23.903765248\n",
      "2           2023-03-16 14:22:23.904402432\n",
      "3           2023-03-16 14:22:23.904744448\n",
      "4           2023-03-16 14:22:23.905764096\n",
      "                        ...              \n",
      "30247045    2023-06-16 19:58:12.266677760\n",
      "30247046    2023-06-16 19:58:12.267390208\n",
      "30247047    2023-06-16 19:58:12.267472640\n",
      "30247048    2023-06-16 19:58:12.267490048\n",
      "30247049    2023-06-16 19:58:12.309100288\n",
      "Name: timestamp, Length: 30247050, dtype: object\n"
     ]
    }
   ],
   "source": [
    "print(df['timestamp'])"
   ]
  },
  {
   "cell_type": "code",
   "execution_count": 64,
   "id": "4729afd3",
   "metadata": {},
   "outputs": [
    {
     "name": "stdout",
     "output_type": "stream",
     "text": [
      "metasploit SYN flood    14696890\n",
      "nmap SYN flood           7993846\n",
      "observe                  6645324\n",
      "nmap discovery            500000\n",
      "ros2 reconnaissance       401494\n",
      "ros2 node crashing          5743\n",
      "ros2 reflection             3753\n",
      "Name: attack, dtype: int64\n"
     ]
    }
   ],
   "source": [
    "print(df['attack'].value_counts())"
   ]
  },
  {
   "cell_type": "code",
   "execution_count": 65,
   "id": "6c895852",
   "metadata": {},
   "outputs": [
    {
     "data": {
      "text/plain": [
       "(array([0, 2, 5, 6, 4, 3, 1]), 7)"
      ]
     },
     "execution_count": 65,
     "metadata": {},
     "output_type": "execute_result"
    }
   ],
   "source": [
    "df['attack'] = df['attack'].replace('metasploit SYN flood', 1) \n",
    "df['attack'] = df['attack'].replace('nmap discovery', 2)\n",
    "df['attack'] = df['attack'].replace('nmap SYN flood', 3) \n",
    "df['attack'] = df['attack'].replace('ros2 node crashing', 4)\n",
    "df['attack'] = df['attack'].replace('ros2 reconnaissance', 5)\n",
    "df['attack'] = df['attack'].replace('ros2 reflection', 6)\n",
    "df['attack'] = df['attack'].replace('observe', 0)\n",
    "\n",
    "df['attack'] = pd.to_numeric(df['attack'])\n",
    "\n",
    "df['attack'].unique(), df['attack'].nunique()"
   ]
  },
  {
   "cell_type": "code",
   "execution_count": 66,
   "id": "1eb62ba2",
   "metadata": {},
   "outputs": [
    {
     "name": "stdout",
     "output_type": "stream",
     "text": [
      "1    14696890\n",
      "3     7993846\n",
      "0     6645324\n",
      "2      500000\n",
      "5      401494\n",
      "4        5743\n",
      "6        3753\n",
      "Name: attack, dtype: int64\n"
     ]
    }
   ],
   "source": [
    "print(df['attack'].value_counts())"
   ]
  },
  {
   "cell_type": "code",
   "execution_count": 67,
   "id": "8dcdbbf1",
   "metadata": {},
   "outputs": [],
   "source": [
    "df.to_csv('/data/puccetti/space_data/usable_temp_multi.csv')"
   ]
  },
  {
   "cell_type": "code",
   "execution_count": 68,
   "id": "96d4f793",
   "metadata": {},
   "outputs": [],
   "source": [
    "df['attack'] = df['attack'].replace(2, 1)\n",
    "df['attack'] = df['attack'].replace(3, 1) \n",
    "df['attack'] = df['attack'].replace(4, 1)\n",
    "df['attack'] = df['attack'].replace(5, 1)\n",
    "df['attack'] = df['attack'].replace(6, 1)"
   ]
  },
  {
   "cell_type": "code",
   "execution_count": 69,
   "id": "4352cff1",
   "metadata": {},
   "outputs": [
    {
     "name": "stdout",
     "output_type": "stream",
     "text": [
      "1    23601726\n",
      "0     6645324\n",
      "Name: attack, dtype: int64\n"
     ]
    }
   ],
   "source": [
    "print(df['attack'].value_counts())"
   ]
  },
  {
   "cell_type": "code",
   "execution_count": 70,
   "id": "be79ddf2",
   "metadata": {},
   "outputs": [],
   "source": [
    "df.to_csv('/data/puccetti/space_data/usable_temp_bin.csv')"
   ]
  },
  {
   "cell_type": "markdown",
   "id": "8fc5116d",
   "metadata": {},
   "source": [
    "## Convert String to Numeric"
   ]
  },
  {
   "cell_type": "code",
   "execution_count": 71,
   "id": "995ae7eb",
   "metadata": {},
   "outputs": [],
   "source": [
    "list_column_string=df.select_dtypes(exclude=[np.number])\n",
    "\n",
    "for i in list_column_string:\n",
    "    if i != 'timestamp':\n",
    "        df[i] = pd.Categorical(df[i])"
   ]
  },
  {
   "cell_type": "code",
   "execution_count": 72,
   "id": "fcbf5c91",
   "metadata": {},
   "outputs": [],
   "source": [
    "for i in list_column_string:\n",
    "    if i != 'timestamp':\n",
    "        df[i] = df[i].cat.codes"
   ]
  },
  {
   "cell_type": "markdown",
   "id": "e253b41f",
   "metadata": {},
   "source": [
    "### Split the dataset to create Train and Test Sets"
   ]
  },
  {
   "cell_type": "code",
   "execution_count": 73,
   "id": "ba9ed11d",
   "metadata": {},
   "outputs": [],
   "source": [
    "from sklearn.model_selection import train_test_split"
   ]
  },
  {
   "cell_type": "code",
   "execution_count": 74,
   "id": "f7fe0ece",
   "metadata": {},
   "outputs": [
    {
     "name": "stdout",
     "output_type": "stream",
     "text": [
      "Dataset shape: (30247050, 230)\n"
     ]
    }
   ],
   "source": [
    "#df = df.drop(['Unnamed: 0'], axis=1)\n",
    "df = df.drop(['timestamp'], axis=1)\n",
    "print(\"Dataset shape: \" + str(df.shape))"
   ]
  },
  {
   "cell_type": "code",
   "execution_count": 75,
   "id": "0ea04e2d",
   "metadata": {},
   "outputs": [
    {
     "name": "stdout",
     "output_type": "stream",
     "text": [
      "1\n",
      "['Unnamed: 0']\n"
     ]
    }
   ],
   "source": [
    "subs = \"Unnamed\"\n",
    "res = [i for i in df.columns if subs in i]\n",
    "print(len(res))\n",
    "print(res)\n",
    "df=df.drop(res, axis=1)"
   ]
  },
  {
   "cell_type": "markdown",
   "id": "b44af145",
   "metadata": {},
   "source": [
    "I want to make the feature selection only on the feature related to the network monitor (Tshark)."
   ]
  },
  {
   "cell_type": "code",
   "execution_count": 76,
   "id": "9abf7f0d",
   "metadata": {},
   "outputs": [
    {
     "name": "stdout",
     "output_type": "stream",
     "text": [
      "198\n"
     ]
    }
   ],
   "source": [
    "subs = \".\"\n",
    "res = [i for i in df.columns if subs in i]\n",
    "print(len(res))"
   ]
  },
  {
   "cell_type": "code",
   "execution_count": 78,
   "id": "1cebff86",
   "metadata": {},
   "outputs": [],
   "source": [
    "label = df['attack']\n",
    "df = df.drop(['attack'], axis=1)\n",
    "\n",
    "x_train, x_test, y_train, y_test = train_test_split(df[res], label, test_size=0.4, random_state=42)\n",
    "\n",
    "x_train = x_train.to_numpy()\n",
    "x_test = x_test.to_numpy()"
   ]
  },
  {
   "cell_type": "code",
   "execution_count": 79,
   "id": "b6b01c58",
   "metadata": {},
   "outputs": [
    {
     "name": "stdout",
     "output_type": "stream",
     "text": [
      "Train Set Shape: (18148230, 198)\n",
      "Train Set Label Shape: (18148230,)\n",
      "Test Set Shape: (12098820, 198)\n",
      "Test Set Label Shape: (12098820,)\n"
     ]
    }
   ],
   "source": [
    "print(\"Train Set Shape: \" + str(x_train.shape))\n",
    "print(\"Train Set Label Shape: \" + str(y_train.shape))\n",
    "print(\"Test Set Shape: \" + str(x_test.shape))\n",
    "print(\"Test Set Label Shape: \" + str(y_test.shape))"
   ]
  },
  {
   "cell_type": "markdown",
   "id": "3afcb494",
   "metadata": {},
   "source": [
    "# Select best features for the light version of the dataset\n",
    "We use the feature ranking algorithm of ExtraTreesClassifier to select the best Tshark features. "
   ]
  },
  {
   "cell_type": "code",
   "execution_count": 80,
   "id": "7e2c4ed6",
   "metadata": {},
   "outputs": [],
   "source": [
    "from sklearn.ensemble import ExtraTreesClassifier\n",
    "from sklearn.feature_selection import SelectFromModel"
   ]
  },
  {
   "cell_type": "code",
   "execution_count": 81,
   "id": "9a772cf8",
   "metadata": {},
   "outputs": [
    {
     "data": {
      "text/plain": [
       "array([1.13910822e-02, 1.27566710e-02, 2.36111938e-02, 1.10788548e-04,\n",
       "       1.37356228e-02, 3.10693957e-05, 1.10606544e-04, 1.24532835e-02,\n",
       "       6.39916232e-02, 1.54908340e-02, 3.75477375e-02, 2.28914434e-05,\n",
       "       2.46530753e-05, 7.15428216e-03, 3.25095565e-03, 4.99499203e-02,\n",
       "       1.67866265e-02, 5.69900745e-02, 3.37684839e-02, 6.76913524e-04,\n",
       "       1.11525403e-04, 6.21370943e-04, 2.80709863e-04, 5.31840261e-04,\n",
       "       8.59062744e-04, 4.12366630e-02, 2.62099899e-03, 1.58707979e-03,\n",
       "       1.64999210e-02, 2.39206703e-02, 4.62840850e-02, 1.54767023e-02,\n",
       "       3.91403165e-03, 4.97502319e-04, 9.34643428e-03, 1.00535905e-02,\n",
       "       7.58778324e-03, 1.26580733e-03, 2.40636031e-07, 1.00687336e-01,\n",
       "       1.97235373e-04, 1.14213919e-04, 5.93018142e-05, 3.33300611e-04,\n",
       "       2.04132413e-04, 4.32268501e-02, 8.03508674e-02, 7.24221504e-04,\n",
       "       1.97092415e-04, 8.74856162e-05, 7.30467572e-05, 1.43462290e-03,\n",
       "       5.14176284e-04, 9.73569276e-04, 4.53423076e-03, 2.03125732e-02,\n",
       "       7.57281038e-03, 2.11764036e-02, 4.21021423e-03, 3.14279322e-03,\n",
       "       1.49878095e-02, 1.64885307e-02, 1.18703579e-04, 1.75530535e-02,\n",
       "       2.29685024e-03, 8.97922647e-03, 5.38070979e-03, 6.00547157e-05,\n",
       "       8.46672712e-05, 2.09881934e-05, 3.41283662e-07, 6.78319893e-06,\n",
       "       4.30210012e-05, 1.02791504e-04, 2.10597693e-05, 5.46819591e-05,\n",
       "       1.73077744e-06, 6.34617086e-05, 1.35436927e-04, 1.58967381e-04,\n",
       "       7.24563463e-05, 5.77047418e-05, 4.39778238e-05, 4.54065727e-03,\n",
       "       2.57103370e-03, 3.93711833e-03, 4.17874791e-03, 1.59584069e-04,\n",
       "       4.42798017e-03, 3.21049144e-05, 1.62135626e-05, 3.29362576e-05,\n",
       "       8.22309448e-03, 6.93979562e-04, 1.44673934e-06, 7.93493156e-04,\n",
       "       1.54799193e-03, 1.10723290e-03, 6.62014993e-07, 1.71969069e-05,\n",
       "       1.50596536e-02, 2.88684991e-05, 7.32371793e-06, 1.04219257e-02,\n",
       "       4.75715802e-04, 7.54026951e-03, 4.09774049e-03, 1.84139790e-02,\n",
       "       4.07621989e-03, 1.73565911e-05, 9.57707914e-06, 3.93491640e-05,\n",
       "       6.45853475e-07, 1.10764446e-05, 3.03090232e-08, 2.56459956e-06,\n",
       "       4.45941705e-05, 7.22333217e-05, 7.89981035e-04, 2.96461033e-05,\n",
       "       1.41055163e-05, 8.55321866e-05, 1.31320427e-07, 8.45707503e-08,\n",
       "       6.12723247e-06, 5.35749987e-05, 8.16211324e-06, 2.90064427e-04,\n",
       "       2.49797931e-04, 2.95204332e-05, 1.47961419e-04, 2.30026806e-05,\n",
       "       7.88208811e-04, 3.57447471e-05, 4.21233083e-04, 2.92746773e-04,\n",
       "       8.16211718e-04, 9.28024530e-06, 4.81691521e-05, 5.67920833e-04,\n",
       "       4.04931880e-04, 2.53663136e-04, 1.69174709e-05, 8.51448960e-04,\n",
       "       3.15208632e-04, 3.89442653e-05, 3.08598822e-05, 1.25896584e-04,\n",
       "       2.44791224e-06, 4.08222998e-05, 5.36130899e-06, 1.22585006e-04,\n",
       "       9.79330116e-06, 8.93408967e-06, 1.05906157e-06, 1.08236627e-05,\n",
       "       5.68413296e-05, 5.55932050e-05, 6.89974754e-06, 2.20321111e-04,\n",
       "       4.62818296e-06, 1.41713032e-05, 6.42198597e-06, 6.90141013e-06,\n",
       "       1.90224343e-05, 2.00752635e-05, 3.21663195e-06, 6.36787382e-06,\n",
       "       1.62535811e-06, 2.29904842e-06, 7.96813774e-06, 5.10418782e-05,\n",
       "       6.14185475e-05, 8.23905280e-05, 4.67132973e-06, 6.94845217e-06,\n",
       "       1.74731862e-07, 3.97622399e-06, 1.44254878e-05, 5.28925168e-06,\n",
       "       5.78896437e-06, 1.65717272e-05, 1.49969536e-05, 6.22132303e-06,\n",
       "       9.33074533e-06, 2.26571853e-06, 7.68073139e-06, 1.70531817e-06,\n",
       "       5.42088766e-06, 6.30286142e-06, 3.11175629e-06, 3.24454360e-06,\n",
       "       5.20591809e-06, 3.02668802e-05, 1.66672090e-05, 1.33815291e-05,\n",
       "       2.00299444e-04, 3.05262751e-05])"
      ]
     },
     "execution_count": 81,
     "metadata": {},
     "output_type": "execute_result"
    }
   ],
   "source": [
    "clf = ExtraTreesClassifier(n_estimators=30)\n",
    "clf = clf.fit(x_train, y_train)\n",
    "clf.feature_importances_"
   ]
  },
  {
   "cell_type": "code",
   "execution_count": 82,
   "id": "2054d75e",
   "metadata": {},
   "outputs": [],
   "source": [
    "importances = clf.feature_importances_\n",
    "indices = np.argsort(importances)[-30:]"
   ]
  },
  {
   "cell_type": "code",
   "execution_count": 83,
   "id": "71057702",
   "metadata": {},
   "outputs": [
    {
     "name": "stdout",
     "output_type": "stream",
     "text": [
      "[ 34  35 103   0   7   1   4  60 100  31   9  61  28  16  63 107  55  57\n",
      "   2  29  18  10  25  45  30  15  17   8  46  39]\n"
     ]
    }
   ],
   "source": [
    "print(indices)"
   ]
  },
  {
   "cell_type": "code",
   "execution_count": 84,
   "id": "a2461a22",
   "metadata": {},
   "outputs": [],
   "source": [
    "best_features = df.columns[indices]"
   ]
  },
  {
   "cell_type": "code",
   "execution_count": 85,
   "id": "f5306f5c",
   "metadata": {},
   "outputs": [
    {
     "name": "stdout",
     "output_type": "stream",
     "text": [
      "30\n"
     ]
    }
   ],
   "source": [
    "subs = \".\"\n",
    "res = [i for i in df.columns if subs not in i]\n",
    "print(len(res))"
   ]
  },
  {
   "cell_type": "code",
   "execution_count": 86,
   "id": "6f797444",
   "metadata": {},
   "outputs": [],
   "source": [
    "best_features = set(best_features)\n",
    "res = set(res)\n",
    "union = list(best_features.union(res))"
   ]
  },
  {
   "cell_type": "code",
   "execution_count": 87,
   "id": "d3d6cae2",
   "metadata": {},
   "outputs": [
    {
     "name": "stdout",
     "output_type": "stream",
     "text": [
      "['Tcp_Listen', 'layers.tcp.tcp.flags_tree.tcp.flags.ack', 'layers.tcp.tcp.stream', 'layers.ip.ip.checksum.status', 'layers.sll.sll.hatype', 'layers.tcp.tcp.analysis.tcp.analysis.acks_frame', 'Disk_Read', 'layers.ip.ip.flags_tree.ip.flags.rb', 'layers.tcp.tcp.flags_tree.tcp.flags.syn_tree._ws.expert._ws.expert.severity', 'Cached', 'publishers_count', 'SwapFree', 'layers.tcp.tcp.flags_tree.tcp.flags.syn_tree._ws.expert._ws.expert.message', 'pgdeactivate', 'Tcp_Close', 'layers.tcp.tcp.window_size', 'Buffers', 'Active', 'layers.ip.ip.checksum', 'layers.tcp.tcp.options_tree.tcp.options.nop_tree.tcp.option_kind', 'pgactivate', 'Inactive', 'msg_type', 'Net_Received', 'layers.ssl.ssl.record.ssl.record.content_type', 'layers.icmpv6.icmpv6.type', 'layers.tcp.tcp.window_size_value', 'layers.tcp.tcp.payload', 'Net_Sent', 'pgfault', 'layers.tcp.tcp.flags_tree.tcp.flags.syn', 'Tcp_Syn', 'layers.ip.ip.version', 'subscribers_count', 'layers.tcp.tcp.analysis.tcp.analysis.initial_rtt', 'layers.tcp.tcp.options_tree.tcp.options.nop', 'layers.tcp.tcp.flags_tree.tcp.flags.syn_tree._ws.expert._ws.expert.group', 'layers.ip.ip.dsfield_tree.ip.dsfield.ecn', 'layers.tcp.tcp.ack', 'layers.tcp.tcp.options', 'nr_active_file', 'layers.sll.sll.unused', 'layers.sll.sll.pkttype', 'nr_inactive_file', 'pgfree', 'msg_data', 'pgpgin', 'Disk_Write', 'pgalloc_dma', 'MemFree', 'Tcp_Established', 'layers.ip.ip.flags_tree.ip.flags.df', 'pgmajfault', 'layers.ip.ip.flags', 'pgpgout', 'Tcp_TimeWait', 'layers.ipv6.ipv6.tclass_tree.ipv6.tclass.ecn', 'layers._ws.short', 'src_topic', 'layers.ipv6.ip.version']\n",
      "60\n"
     ]
    }
   ],
   "source": [
    "print(union)\n",
    "print(len(union))"
   ]
  },
  {
   "cell_type": "code",
   "execution_count": 88,
   "id": "ff84c356",
   "metadata": {},
   "outputs": [],
   "source": [
    "np.save('/data/puccetti/space_data/usable_features.npy', union, allow_pickle=True)"
   ]
  },
  {
   "cell_type": "code",
   "execution_count": null,
   "id": "dd811739",
   "metadata": {},
   "outputs": [],
   "source": []
  },
  {
   "cell_type": "code",
   "execution_count": null,
   "id": "442953e1",
   "metadata": {},
   "outputs": [],
   "source": []
  },
  {
   "cell_type": "markdown",
   "id": "cde41857",
   "metadata": {},
   "source": [
    "# Compose the reduced dataset"
   ]
  },
  {
   "cell_type": "code",
   "execution_count": 89,
   "id": "697d2e0b",
   "metadata": {},
   "outputs": [],
   "source": [
    "features = np.load('/data/puccetti/space_data/usable_features.npy')"
   ]
  },
  {
   "cell_type": "code",
   "execution_count": 91,
   "id": "d82c08b1",
   "metadata": {},
   "outputs": [],
   "source": [
    "features = list(features)"
   ]
  },
  {
   "cell_type": "code",
   "execution_count": 92,
   "id": "e0ef45bb",
   "metadata": {},
   "outputs": [],
   "source": [
    "features.append('attack')"
   ]
  },
  {
   "cell_type": "code",
   "execution_count": 93,
   "id": "f0cb314e",
   "metadata": {},
   "outputs": [
    {
     "name": "stderr",
     "output_type": "stream",
     "text": [
      "/tmp/ipykernel_26598/284184748.py:1: DtypeWarning: Columns (22,29,56,66,97,101,477,480,481) have mixed types. Specify dtype option on import or set low_memory=False.\n",
      "  df = pd.read_csv(PATH, usecols=features)\n"
     ]
    }
   ],
   "source": [
    "df = pd.read_csv(PATH, usecols=features)"
   ]
  },
  {
   "cell_type": "code",
   "execution_count": 94,
   "id": "71de3cdc",
   "metadata": {},
   "outputs": [
    {
     "name": "stdout",
     "output_type": "stream",
     "text": [
      "0           observe\n",
      "1           observe\n",
      "2           observe\n",
      "3           observe\n",
      "4           observe\n",
      "             ...   \n",
      "30247045    observe\n",
      "30247046    observe\n",
      "30247047    observe\n",
      "30247048    observe\n",
      "30247049    observe\n",
      "Name: attack, Length: 30247050, dtype: object\n"
     ]
    }
   ],
   "source": [
    "print(df['attack'])"
   ]
  },
  {
   "cell_type": "code",
   "execution_count": 95,
   "id": "3d9a6190",
   "metadata": {},
   "outputs": [],
   "source": [
    "df.to_csv('/data/puccetti/space_data/reduced_final.csv')"
   ]
  },
  {
   "cell_type": "code",
   "execution_count": null,
   "id": "ca41a09a",
   "metadata": {},
   "outputs": [],
   "source": [
    "#df = pd.read_csv('/data/puccetti/space_data/usable_temp_bin.csv', usecols=features)"
   ]
  },
  {
   "cell_type": "code",
   "execution_count": null,
   "id": "48c56a2f",
   "metadata": {},
   "outputs": [],
   "source": [
    "#df.to_csv('/data/puccetti/space_data/usable_final_bin.csv')"
   ]
  },
  {
   "cell_type": "code",
   "execution_count": null,
   "id": "9985a963",
   "metadata": {},
   "outputs": [],
   "source": [
    "#df = pd.read_csv('/data/puccetti/space_data/usable_temp_multi.csv', usecols=features)"
   ]
  },
  {
   "cell_type": "code",
   "execution_count": null,
   "id": "3b779878",
   "metadata": {},
   "outputs": [],
   "source": [
    "#df.to_csv('/data/puccetti/space_data/usable_final_multi.csv')"
   ]
  }
 ],
 "metadata": {
  "kernelspec": {
   "display_name": "space_paper",
   "language": "python",
   "name": "space_paper"
  },
  "language_info": {
   "codemirror_mode": {
    "name": "ipython",
    "version": 3
   },
   "file_extension": ".py",
   "mimetype": "text/x-python",
   "name": "python",
   "nbconvert_exporter": "python",
   "pygments_lexer": "ipython3",
   "version": "3.10.9"
  }
 },
 "nbformat": 4,
 "nbformat_minor": 5
}
