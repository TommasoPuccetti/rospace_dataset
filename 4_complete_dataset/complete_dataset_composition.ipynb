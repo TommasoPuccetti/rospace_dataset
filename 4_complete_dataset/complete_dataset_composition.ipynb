{
 "cells": [
  {
   "cell_type": "markdown",
   "id": "6cc60d8c",
   "metadata": {},
   "source": [
    "# Dataset Processing and Evaluation"
   ]
  },
  {
   "cell_type": "code",
   "execution_count": 2,
   "id": "69381722",
   "metadata": {},
   "outputs": [],
   "source": [
    "import pandas as pd\n",
    "import numpy as np\n",
    "from ast import literal_eval"
   ]
  },
  {
   "cell_type": "code",
   "execution_count": 3,
   "id": "2e4e0592",
   "metadata": {},
   "outputs": [],
   "source": [
    "PATH = '/data/puccetti/space_data/all_run_tiny.csv'"
   ]
  },
  {
   "cell_type": "code",
   "execution_count": 4,
   "id": "314c7275",
   "metadata": {},
   "outputs": [],
   "source": [
    "pd.set_option(\"display.max_columns\", None)\n",
    "pd.get_option(\"display.max_columns\")"
   ]
  },
  {
   "cell_type": "code",
   "execution_count": 5,
   "id": "237cd00a",
   "metadata": {},
   "outputs": [
    {
     "name": "stderr",
     "output_type": "stream",
     "text": [
      "/tmp/ipykernel_17723/2842134287.py:1: DtypeWarning: Columns (25,29,30,37,39,40,41,42,43,44,54,65,69,72,75,76,80,83,90,98,107,109,111,116,119,120,132,136,137,140,142,144,146,150,151,153,156,157,158,161,162,163,164,165,166,169,170,177,179,180,181,182,183,184,187,192,196,197,201,202,206,207,209,214,215,216,217,221,224,228,229,230,231,232,233,245,247,249,252,256,258,261,265,266,273,275,276,277,278,279,280,285,288,289,300,304,305,308,310,312,314,318,319,323,325,329,330,334,341,350,357,358,369,373,375,379,381,385,389,392,393,396,397,400,401,404,406,410,411,415,420,423,434,438,439,443,445,448,452,453,457,459,474,480,481,482,485,486,489,492,494,495,496,498,501,502,503) have mixed types. Specify dtype option on import or set low_memory=False.\n",
      "  df = pd.read_csv(PATH, nrows=10000000)\n"
     ]
    }
   ],
   "source": [
    "df = pd.read_csv(PATH)"
   ]
  },
  {
   "cell_type": "markdown",
   "id": "2a2e97ca",
   "metadata": {},
   "source": [
    "## Some checks on columns and values"
   ]
  },
  {
   "cell_type": "markdown",
   "id": "7038b296",
   "metadata": {},
   "source": [
    "Check unique values in the label ('attack' column)"
   ]
  },
  {
   "cell_type": "code",
   "execution_count": 6,
   "id": "42d1c0c0",
   "metadata": {},
   "outputs": [
    {
     "name": "stdout",
     "output_type": "stream",
     "text": [
      "(506658, 537)\n",
      "ros2 reconnaissance     136909\n",
      "observe                 118982\n",
      "nmap discovery          100000\n",
      "metasploit SYN flood     96863\n",
      "nmap SYN flood           50575\n",
      "ros2 node crashing        3329\n",
      "Name: attack, dtype: int64\n"
     ]
    }
   ],
   "source": [
    "print(df.shape)\n",
    "print(df['attack'].value_counts())"
   ]
  },
  {
   "cell_type": "markdown",
   "id": "89bd9e28",
   "metadata": {},
   "source": [
    "Print the size of the dataset"
   ]
  },
  {
   "cell_type": "code",
   "execution_count": 7,
   "id": "46f4a7e5",
   "metadata": {},
   "outputs": [
    {
     "name": "stdout",
     "output_type": "stream",
     "text": [
      "(506658, 537)\n"
     ]
    }
   ],
   "source": [
    "print(df.shape)"
   ]
  },
  {
   "cell_type": "markdown",
   "id": "6deaf6ee",
   "metadata": {},
   "source": [
    "Delete some unuseful columns: \n",
    "- 'Unnamed' columns are just duplicate indexes of dataframes"
   ]
  },
  {
   "cell_type": "code",
   "execution_count": 8,
   "id": "af6a4930",
   "metadata": {},
   "outputs": [
    {
     "name": "stdout",
     "output_type": "stream",
     "text": [
      "3\n",
      "['Unnamed: 0.2', 'Unnamed: 0.1', 'Unnamed: 0']\n"
     ]
    }
   ],
   "source": [
    "subs = \"Unnamed\"\n",
    "res = [i for i in df.columns if subs in i]\n",
    "print(len(res))\n",
    "print(res)\n",
    "df=df.drop(res, axis=1)"
   ]
  },
  {
   "cell_type": "markdown",
   "id": "25a240ae",
   "metadata": {},
   "source": [
    "Search for \"duplicate\" substring in all columns as contains target ip "
   ]
  },
  {
   "cell_type": "code",
   "execution_count": 9,
   "id": "37c5d93f",
   "metadata": {},
   "outputs": [
    {
     "name": "stdout",
     "output_type": "stream",
     "text": [
      "[]\n"
     ]
    }
   ],
   "source": [
    "subs = \"Duplicate\"\n",
    "res = [i for i in df.columns if subs in i]\n",
    "print(res)"
   ]
  },
  {
   "cell_type": "code",
   "execution_count": 10,
   "id": "ee810d13",
   "metadata": {},
   "outputs": [
    {
     "name": "stdout",
     "output_type": "stream",
     "text": [
      "(506658, 534)\n"
     ]
    }
   ],
   "source": [
    "df = df.drop(res, axis=1)\n",
    "print(df.shape)"
   ]
  },
  {
   "cell_type": "code",
   "execution_count": 11,
   "id": "28a6e218",
   "metadata": {
    "scrolled": true
   },
   "outputs": [
    {
     "name": "stdout",
     "output_type": "stream",
     "text": [
      "Index(['timestamp',\n",
      "       'layers.frame.frame.interface_id_tree.frame.interface_name',\n",
      "       'layers.frame.frame.encap_type', 'layers.frame.frame.time',\n",
      "       'layers.frame.frame.offset_shift', 'layers.frame.frame.time_delta',\n",
      "       'layers.frame.frame.time_delta_displayed',\n",
      "       'layers.frame.frame.time_relative', 'layers.frame.frame.number',\n",
      "       'layers.frame.frame.len',\n",
      "       ...\n",
      "       'Active', 'pgalloc_dma', 'pgmajfault', 'SwapFree', 'src_topic',\n",
      "       'subscribers_count', 'publishers_count', 'msg_type', 'msg_data',\n",
      "       'attack'],\n",
      "      dtype='object', length=534)\n"
     ]
    }
   ],
   "source": [
    "print(df.columns)"
   ]
  },
  {
   "cell_type": "markdown",
   "id": "380a4efe",
   "metadata": {},
   "source": [
    "## Delete columns with 0 or 1  unique values"
   ]
  },
  {
   "cell_type": "code",
   "execution_count": 12,
   "id": "761d1956",
   "metadata": {},
   "outputs": [],
   "source": [
    "for col in df.columns:\n",
    "    n_unique = len(df[col].unique())\n",
    "    if n_unique == 1 or n_unique == 0:\n",
    "        df.drop(col,inplace=True, axis=1)"
   ]
  },
  {
   "cell_type": "code",
   "execution_count": 13,
   "id": "918309af",
   "metadata": {},
   "outputs": [
    {
     "name": "stdout",
     "output_type": "stream",
     "text": [
      "(506658, 484)\n"
     ]
    }
   ],
   "source": [
    "print(df.shape)"
   ]
  },
  {
   "cell_type": "code",
   "execution_count": 22,
   "id": "009a2eab",
   "metadata": {},
   "outputs": [],
   "source": [
    "df=df.drop(['expNumber', '#'], axis=1)"
   ]
  },
  {
   "cell_type": "code",
   "execution_count": 23,
   "id": "c00e2db9",
   "metadata": {},
   "outputs": [
    {
     "name": "stdout",
     "output_type": "stream",
     "text": [
      "(506658, 482)\n"
     ]
    }
   ],
   "source": [
    "print(df.shape)"
   ]
  },
  {
   "cell_type": "code",
   "execution_count": 24,
   "id": "ff873e24",
   "metadata": {},
   "outputs": [],
   "source": [
    "np.save('/data/puccetti/space_data/all_features.npy', df.columns, allow_pickle=True)"
   ]
  }
 ],
 "metadata": {
  "kernelspec": {
   "display_name": "space_paper",
   "language": "python",
   "name": "space_paper"
  },
  "language_info": {
   "codemirror_mode": {
    "name": "ipython",
    "version": 3
   },
   "file_extension": ".py",
   "mimetype": "text/x-python",
   "name": "python",
   "nbconvert_exporter": "python",
   "pygments_lexer": "ipython3",
   "version": "3.10.9"
  }
 },
 "nbformat": 4,
 "nbformat_minor": 5
}
