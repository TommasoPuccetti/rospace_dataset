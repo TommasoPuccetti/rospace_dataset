{
 "cells": [
  {
   "cell_type": "markdown",
   "id": "3afcb494",
   "metadata": {},
   "source": [
    "# Create a small version of the dataset \n",
    "\n",
    "For each run:\n",
    "- 1) Create a small csv file by randomly selecting a subset of the batches in wich the run data flows is splitted.\n",
    "- 2) From each batch we extract and equal number of 'observe' and 'attack' labelled rows from each file.\n",
    "\n",
    "In this way we create, for each run or experiment, a dataset wich can be used easily, without memory constraint problems.\n",
    "We use the default configuration of pandas concat function to perform an outer join between batches of the same run. In this way we preserve all the features collected during the run. \n",
    "\n",
    "- These small csv data are merged toghether to obtain a small version of the final dataset that includes network traffic from all the runs or esperiments.\n",
    "- As we set Tshark to extract all possible information from all the network interfaces, we ended up having  different features or indicator for different experiment or run.\n",
    "- In this case we set the concat pandas function to perform an inner join. The rationale is that we want to keep only the feature that are in common between different experiments to have a dataset that is as general as possible."
   ]
  },
  {
   "cell_type": "code",
   "execution_count": 2,
   "id": "d3e2c4c6",
   "metadata": {},
   "outputs": [],
   "source": [
    "import pandas as pd \n",
    "import os "
   ]
  },
  {
   "cell_type": "code",
   "execution_count": 17,
   "id": "81b4b8da",
   "metadata": {},
   "outputs": [],
   "source": [
    "RUN_5 = '/data/puccetti/space_data/cinqui_tiny.csv'\n",
    "RUN_13_1 = '/data/puccetti/space_data/run_13/merged/tiny.csv'\n",
    "RUN_13_2 = '/data/puccetti/space_data/run_13/merged/tiny_refl.csv'\n",
    "RUN_17 = '/data/puccetti/space_data/run_17/temp_merged/tiny.csv' \n",
    "RUN_18 = '/data/puccetti/space_data/run_18/merged/tiny_18.csv'\n",
    "RUN_19 = '/data/puccetti/space_data/run_19/merged/tiny.csv'"
   ]
  },
  {
   "cell_type": "code",
   "execution_count": 18,
   "id": "d2960cb6",
   "metadata": {},
   "outputs": [
    {
     "name": "stderr",
     "output_type": "stream",
     "text": [
      "/tmp/ipykernel_8973/3586756066.py:1: DtypeWarning: Columns (123,124,136,140,141,144,146,148,150,154,218,223,227,228,232,233,237,262,265,269,270,271,272,273,274,286,288,294,299,300,305,306,310,313,319,322,326,327,334,336,337,338,339,340,341,346,349,350,361,365,366,369,371,373,375,379,380,384,386,390,396,400,422,431,438,439,450,454,456,460,462,466,513,514,517,518,521,522,525,541,545,546,550,555,567,571,574,578,586,590,591,595,596,600,601,605,618,622,623,627,630,634,647,651,667,671,672,676,685,688,692,694,698,700,704,706,710,712,716,717,721,722,726,733,738,742,743,747,748,749,759,765,769,770,774,778,782,801,805,812,816,817,831,844,848,849,853) have mixed types. Specify dtype option on import or set low_memory=False.\n",
      "  df_1 = pd.read_csv(RUN_5, nrows=100000)\n"
     ]
    },
    {
     "name": "stdout",
     "output_type": "stream",
     "text": [
      "(100000, 1376)\n"
     ]
    }
   ],
   "source": [
    "df_1 = pd.read_csv(RUN_5, nrows=100000)\n",
    "print(df_1.shape)"
   ]
  },
  {
   "cell_type": "code",
   "execution_count": 19,
   "id": "6a3faa61",
   "metadata": {},
   "outputs": [
    {
     "name": "stderr",
     "output_type": "stream",
     "text": [
      "/tmp/ipykernel_8973/381042363.py:1: DtypeWarning: Columns (92,99,120,121,140,143,147,148,149,150,151,152,177,180,184,187,195,198,199,200,201,202,203,204,208,211,213,214,215,216,218,221,223,226,227,230,231,232,233,234,235,238,239,246,248,249,250,251,252,253,328,330,334,335,336,337,340,343,344,345,400,401,403,406,407,410,411,414,418,448,449,461,465,466,469,471,473,479,483,493,497,498,502,523,533,536,537,538,546,549,550,551,552,589,600,603,604,605,606,608,611,612,613,645,646,651,652,656,659,661,700,702,704,707,708,709,712,714,717,721,722,729,731,732,733,734,735,736,741,770,774,776,780,800,804,813,817,829,887,1031,1035,1127,1131,1183,1187,1312,1313,1324,1328,1329,1332,1334,1336,1338,1342,1343,1347,1349,1353,1359,1365,1410,1414,1415,1419,1431,1434,1438,1508,1512,1513,1517,1518,1522,1523,1527,1528,1532,1545,1549,1550,1554,1555,1559,1560,1564,1624,1628,1629,1633,1634,1638,1639,1643,1652,1662,1666,1667,1671,1672,1676,1677,1681,1682,1686,1687,1691,1692,1696,1697,1701,1708,1717,1718,1719,1720,1721,1736,1742,1760,1772,1778,1958,1962,1963,1967,1968,1972,1973,1977,2092,2096,2134,2138,2139,2143,2815,2821,2833,2851,2881,2905,2911,3276,3300,3336,3675,3676,3677,3680,3681) have mixed types. Specify dtype option on import or set low_memory=False.\n",
      "  df_2 = pd.read_csv(RUN_13_1, nrows=100000)\n"
     ]
    },
    {
     "name": "stdout",
     "output_type": "stream",
     "text": [
      "(100000, 3684)\n"
     ]
    }
   ],
   "source": [
    "df_2 = pd.read_csv(RUN_13_1, nrows=100000)\n",
    "print(df_2.shape)"
   ]
  },
  {
   "cell_type": "code",
   "execution_count": 21,
   "id": "d57c3eee",
   "metadata": {},
   "outputs": [
    {
     "name": "stderr",
     "output_type": "stream",
     "text": [
      "/tmp/ipykernel_8973/1095452061.py:1: DtypeWarning: Columns (92,99,120,121,140,143,147,148,149,150,151,152,177,180,184,187,195,198,199,200,201,202,203,204,208,211,213,214,215,216,218,221,223,226,227,230,231,232,233,234,235,238,239,246,248,249,250,251,252,253,328,330,334,335,336,337,340,343,344,345,400,401,403,406,407,410,411,414,418,448,449,461,465,466,469,471,473,479,483,493,497,498,502,523,533,536,537,538,546,549,550,551,552,589,600,603,604,605,608,611,612,613,645,646,651,652,656,659,661,700,702,704,707,708,709,712,714,717,721,722,729,731,732,733,734,735,736,741,770,774,776,780,800,804,813,817,829,887,1127,1131,1183,1187,1312,1313,1324,1328,1329,1332,1334,1336,1338,1342,1343,1347,1349,1353,1359,1365,1410,1414,1415,1419,1431,1434,1438,1508,1512,1513,1517,1518,1522,1523,1527,1528,1532,1545,1549,1550,1554,1555,1559,1560,1564,1624,1628,1629,1633,1634,1638,1639,1643,1652,1662,1666,1667,1671,1672,1676,1677,1681,1682,1686,1687,1691,1692,1696,1697,1701,1708,1717,1718,1719,1720,1721,1736,1742,1760,1772,1778,1958,1962,1963,1967,1968,1972,1973,1977,2092,2096,2134,2138,2139,2143,2595,2601,2833,2851,2881,3276,3300,3675,3676,3677,3680,3681) have mixed types. Specify dtype option on import or set low_memory=False.\n",
      "  df_3 = pd.read_csv(RUN_13_2, nrows=100000)\n"
     ]
    },
    {
     "name": "stdout",
     "output_type": "stream",
     "text": [
      "(100000, 3685)\n"
     ]
    }
   ],
   "source": [
    "df_3 = pd.read_csv(RUN_13_2, nrows=100000)\n",
    "print(df_3.shape)"
   ]
  },
  {
   "cell_type": "code",
   "execution_count": 26,
   "id": "9f2cf1e1",
   "metadata": {},
   "outputs": [
    {
     "name": "stdout",
     "output_type": "stream",
     "text": [
      "(6658, 3175)\n"
     ]
    },
    {
     "name": "stderr",
     "output_type": "stream",
     "text": [
      "/tmp/ipykernel_8973/3119351203.py:1: DtypeWarning: Columns (44,50,53,54,57,58,59,60,61,62,66,67,71,72,73,74,75,76,90,158,378,380,382,392,396,397,398,399,401,404,408,411,419,424,431,435,440,444,448,449,456,458,459,460,461,462,463,468,471,472,475,476,477,478,479,480,484,485,491,493,494,495,496,497,498,504,507,511,512,513,514,515,516,567,570,571,572,573,574,575,576,580,583,585,586,587,588,593,596,597,598,599,602,605,606,607,609,612,613,614,636,639,640,641,643,646,647,648,650,654,655,698,791,795,796,797,800,808,809,810,813,830,833,834,835,838,842,866,888,889,901,905,906,909,911,913,915,919,946,950,951,955,1190,1191,1202,1206,1208,1212,1220,1231,1235,1238,1241,1242,1246,1249,1256,1261,1268,1275,1278,1280,1282,1286,1318,1322,1323,1327,1335,1339,1340,1344,1365,1369,1565,1569,1590,1897,1903) have mixed types. Specify dtype option on import or set low_memory=False.\n",
      "  df_4 = pd.read_csv(RUN_17, nrows=100000)\n"
     ]
    }
   ],
   "source": [
    "df_4 = pd.read_csv(RUN_17, nrows=100000)\n",
    "print(df_4.shape)"
   ]
  },
  {
   "cell_type": "code",
   "execution_count": 27,
   "id": "f91f23f3",
   "metadata": {},
   "outputs": [
    {
     "name": "stderr",
     "output_type": "stream",
     "text": [
      "/tmp/ipykernel_8973/1462876131.py:1: DtypeWarning: Columns (24,27,31,32,33,34,35,36,37,38,41,44,56,57,58,60,64,65,66,67,71,75,76,83,85,86,87,88,89,90,100,111,115,118,121,130,132,134,136,142,149,152,153,156,157,158,159,160,161,164,165,172,174,175,176,177,178,179,181,184,186,189,193,194,201,203,204,205,206,207,208,213,216,217,228,232,234,238,239,242,244,246,248,252,253,257,259,264,270,271,283,287,288,291,293,295,297,301,303,306,310,313,322,326,341,350,362,365,366,382,386,388,392,394,398,399,401,408,416,419,420,423,424,427,431,436,440,443,447,448,452,453,457,487,497,499,503,504,508,514,518,519,523,524,528,529,533,535,609,638,848,852,853,857,893,929,941) have mixed types. Specify dtype option on import or set low_memory=False.\n",
      "  df_5 = pd.read_csv(RUN_18, nrows=100000)\n"
     ]
    },
    {
     "name": "stdout",
     "output_type": "stream",
     "text": [
      "(100000, 963)\n"
     ]
    }
   ],
   "source": [
    "df_5 = pd.read_csv(RUN_18, nrows=100000)\n",
    "print(df_5.shape)"
   ]
  },
  {
   "cell_type": "code",
   "execution_count": 28,
   "id": "2bb5e701",
   "metadata": {},
   "outputs": [
    {
     "name": "stderr",
     "output_type": "stream",
     "text": [
      "/tmp/ipykernel_8973/1559690316.py:1: DtypeWarning: Columns (22,65,79,83,86,93,95,97,100,104,107,113,118,122,123,124,125,126,131,134,135,138,139,140,141,142,143,146,147,154,156,157,158,159,160,161,165,167,170,174,175,182,184,185,186,187,188,189,197,207,212,216,227,230,231,242,246,247,250,252,254,256,260,261,265,267,271,272,273,288,292,293,296,298,300,310,313,317,318,319,320,321,322,323,324,326,329,330,333,334,337,341,344,348,350,353,355,357,358,359,360,361,362,363,365,369,373,374,378,382,388,393,397,398,402,406,408,414,418,419,423,426,427,431,432,436,437,441,442,446,449,451,454,455,539,548,550,592,594,597,608,609) have mixed types. Specify dtype option on import or set low_memory=False.\n",
      "  df_6 = pd.read_csv(RUN_19, nrows=100000)\n"
     ]
    },
    {
     "name": "stdout",
     "output_type": "stream",
     "text": [
      "(100000, 4331)\n"
     ]
    }
   ],
   "source": [
    "df_6 = pd.read_csv(RUN_19, nrows=100000)\n",
    "print(df_6.shape)"
   ]
  },
  {
   "cell_type": "markdown",
   "id": "e75bd40d",
   "metadata": {},
   "source": [
    "## Merged dataset using common features \n",
    "First, visualize common features"
   ]
  },
  {
   "cell_type": "code",
   "execution_count": 32,
   "id": "aa1c7f94",
   "metadata": {},
   "outputs": [
    {
     "name": "stdout",
     "output_type": "stream",
     "text": [
      "Index(['Unnamed: 0.1', 'Unnamed: 0', 'timestamp',\n",
      "       'layers.frame.frame.interface_id_tree.frame.interface_name',\n",
      "       'layers.frame.frame.encap_type', 'layers.frame.frame.time',\n",
      "       'layers.frame.frame.offset_shift', 'layers.frame.frame.time_delta',\n",
      "       'layers.frame.frame.time_delta_displayed',\n",
      "       'layers.frame.frame.time_relative',\n",
      "       ...\n",
      "       'Tcp_TimeWait', 'inplace_y', 'datetime_y', 'src_topic',\n",
      "       'subscribers_count', 'publishers_count', 'msg_type', 'msg_data',\n",
      "       'inplace', 'attack'],\n",
      "      dtype='object', length=3684)\n"
     ]
    }
   ],
   "source": [
    "a = df_2.columns.intersection(df_3.columns)\n",
    "print(a)"
   ]
  },
  {
   "cell_type": "code",
   "execution_count": 33,
   "id": "4659dd92",
   "metadata": {},
   "outputs": [
    {
     "name": "stdout",
     "output_type": "stream",
     "text": [
      "Index(['Unnamed: 0.1', 'Unnamed: 0', 'timestamp',\n",
      "       'layers.frame.frame.interface_id_tree.frame.interface_name',\n",
      "       'layers.frame.frame.encap_type', 'layers.frame.frame.time',\n",
      "       'layers.frame.frame.offset_shift', 'layers.frame.frame.time_delta',\n",
      "       'layers.frame.frame.time_delta_displayed',\n",
      "       'layers.frame.frame.time_relative',\n",
      "       ...\n",
      "       'layers.mdns.Answers._smb._tcp.local: type PTR, class IN, GNB-SAIRCC._smb._tcp.local.dns.resp.ttl',\n",
      "       'layers.mdns.Answers._smb._tcp.local: type PTR, class IN, GNB-SAIRCC._smb._tcp.local.dns.resp.len',\n",
      "       'layers.mdns.Answers._smb._tcp.local: type PTR, class IN, GNB-SAIRCC._smb._tcp.local.dns.ptr.domain_name',\n",
      "       'layers.mdns.Answers._smb._tcp.local: type PTR, class IN, EIK-NB-002._smb._tcp.local.dns.resp.name',\n",
      "       'layers.mdns.Answers._smb._tcp.local: type PTR, class IN, EIK-NB-002._smb._tcp.local.dns.resp.type',\n",
      "       'layers.mdns.Answers._smb._tcp.local: type PTR, class IN, EIK-NB-002._smb._tcp.local.dns.resp.class',\n",
      "       'layers.mdns.Answers._smb._tcp.local: type PTR, class IN, EIK-NB-002._smb._tcp.local.dns.resp.cache_flush',\n",
      "       'layers.mdns.Answers._smb._tcp.local: type PTR, class IN, EIK-NB-002._smb._tcp.local.dns.resp.ttl',\n",
      "       'layers.mdns.Answers._smb._tcp.local: type PTR, class IN, EIK-NB-002._smb._tcp.local.dns.resp.len',\n",
      "       'layers.mdns.Answers._smb._tcp.local: type PTR, class IN, EIK-NB-002._smb._tcp.local.dns.ptr.domain_name'],\n",
      "      dtype='object', length=1137)\n"
     ]
    }
   ],
   "source": [
    "a = df_4.columns.intersection(a)\n",
    "print(a)"
   ]
  },
  {
   "cell_type": "code",
   "execution_count": 34,
   "id": "742235fd",
   "metadata": {},
   "outputs": [
    {
     "name": "stdout",
     "output_type": "stream",
     "text": [
      "Index(['Unnamed: 0.1', 'Unnamed: 0', 'timestamp',\n",
      "       'layers.frame.frame.interface_id_tree.frame.interface_name',\n",
      "       'layers.frame.frame.encap_type', 'layers.frame.frame.time',\n",
      "       'layers.frame.frame.offset_shift', 'layers.frame.frame.time_delta',\n",
      "       'layers.frame.frame.time_delta_displayed',\n",
      "       'layers.frame.frame.time_relative',\n",
      "       ...\n",
      "       'layers.dhcpv6.Identity Association for Non-temporary Address.dhcpv6.option.value',\n",
      "       'layers.dhcpv6.Identity Association for Non-temporary Address.dhcpv6.iaid',\n",
      "       'layers.dhcpv6.Identity Association for Non-temporary Address.dhcpv6.iaid.t1',\n",
      "       'layers.dhcpv6.Identity Association for Non-temporary Address.dhcpv6.iaid.t2',\n",
      "       'layers.http.http.prev_request_in', 'layers.tcp.segments.tcp.segment',\n",
      "       'layers.tcp.segments.tcp.segment.count',\n",
      "       'layers.tcp.segments.tcp.reassembled.length',\n",
      "       'layers.tcp.segments.tcp.reassembled.data',\n",
      "       'layers.tcp.tcp.analysis.tcp.analysis.flags._ws.expert.tcp.analysis.out_of_order'],\n",
      "      dtype='object', length=656)\n"
     ]
    }
   ],
   "source": [
    "a = df_5.columns.intersection(a)\n",
    "print(a)"
   ]
  },
  {
   "cell_type": "code",
   "execution_count": 35,
   "id": "64df302a",
   "metadata": {},
   "outputs": [
    {
     "name": "stdout",
     "output_type": "stream",
     "text": [
      "Index(['Unnamed: 0', 'timestamp',\n",
      "       'layers.frame.frame.interface_id_tree.frame.interface_name',\n",
      "       'layers.frame.frame.encap_type', 'layers.frame.frame.time',\n",
      "       'layers.frame.frame.offset_shift', 'layers.frame.frame.time_delta',\n",
      "       'layers.frame.frame.time_delta_displayed',\n",
      "       'layers.frame.frame.time_relative', 'layers.frame.frame.number',\n",
      "       ...\n",
      "       'layers.ipv6.ipv6.hopopts.ipv6.hopopts.len',\n",
      "       'layers.ipv6.ipv6.hopopts.ipv6.hopopts.len_oct',\n",
      "       'layers.ipv6.ipv6.hopopts.ipv6.opt.ipv6.opt.type',\n",
      "       'layers.ipv6.ipv6.hopopts.ipv6.opt.ipv6.opt.type_tree.ipv6.opt.type.action',\n",
      "       'layers.ipv6.ipv6.hopopts.ipv6.opt.ipv6.opt.type_tree.ipv6.opt.type.change',\n",
      "       'layers.ipv6.ipv6.hopopts.ipv6.opt.ipv6.opt.type_tree.ipv6.opt.type.rest',\n",
      "       'layers.ipv6.ipv6.hopopts.ipv6.opt.ipv6.opt.length',\n",
      "       'layers.ipv6.ipv6.hopopts.ipv6.opt.ipv6.opt.padn',\n",
      "       'layers.mdns.dns.response_to', 'layers.mdns.dns.time'],\n",
      "      dtype='object', length=597)\n"
     ]
    }
   ],
   "source": [
    "a = df_6.columns.intersection(a)\n",
    "print(a)"
   ]
  },
  {
   "cell_type": "markdown",
   "id": "c4986ebe",
   "metadata": {},
   "source": [
    "### Merging with pd.concat on common features "
   ]
  },
  {
   "cell_type": "code",
   "execution_count": 41,
   "id": "5e6b0909",
   "metadata": {},
   "outputs": [
    {
     "name": "stdout",
     "output_type": "stream",
     "text": [
      "(506658, 536)\n"
     ]
    }
   ],
   "source": [
    "merged_df = pd.concat([df_1, df_2, df_3, df_4, df_5, df_6], axis=0, join='inner')\n",
    "print(merged_df.shape)"
   ]
  },
  {
   "cell_type": "code",
   "execution_count": 42,
   "id": "7ff5d57c",
   "metadata": {},
   "outputs": [
    {
     "name": "stdout",
     "output_type": "stream",
     "text": [
      "       Unnamed: 0.1  Unnamed: 0                      timestamp  \\\n",
      "0               0.0      107860  2023-03-16 14:26:13.254204416   \n",
      "1               1.0     1659748  2023-03-16 19:45:21.152042752   \n",
      "2               2.0     1801161  2023-03-16 20:17:30.410588160   \n",
      "3               3.0      477408  2023-03-16 15:18:00.754676992   \n",
      "4               4.0     1720555  2023-03-16 19:58:56.206301696   \n",
      "...             ...         ...                            ...   \n",
      "99995           NaN      143160  2023-06-16 11:51:04.365880576   \n",
      "99996           NaN      135588  2023-06-16 11:51:01.861616384   \n",
      "99997           NaN      146070  2023-06-16 11:51:05.335385856   \n",
      "99998           NaN      126630  2023-06-16 11:50:58.894487040   \n",
      "99999           NaN      188108  2023-06-16 11:51:19.328907520   \n",
      "\n",
      "      layers.frame.frame.interface_id_tree.frame.interface_name  \\\n",
      "0                                                    any          \n",
      "1                                                    any          \n",
      "2                                                    any          \n",
      "3                                                    any          \n",
      "4                                                    any          \n",
      "...                                                  ...          \n",
      "99995                                                any          \n",
      "99996                                                any          \n",
      "99997                                                any          \n",
      "99998                                                any          \n",
      "99999                                                any          \n",
      "\n",
      "       layers.frame.frame.encap_type               layers.frame.frame.time  \\\n",
      "0                                 25   Mar 16, 2023 15:26:13.254204463 CET   \n",
      "1                                 25   Mar 16, 2023 20:45:21.152042608 CET   \n",
      "2                                 25   Mar 16, 2023 21:17:30.410588208 CET   \n",
      "3                                 25   Mar 16, 2023 16:18:00.754677094 CET   \n",
      "4                                 25   Mar 16, 2023 20:58:56.206301656 CET   \n",
      "...                              ...                                   ...   \n",
      "99995                             25  Jun 16, 2023 13:51:04.365880581 CEST   \n",
      "99996                             25  Jun 16, 2023 13:51:01.861616480 CEST   \n",
      "99997                             25  Jun 16, 2023 13:51:05.335385833 CEST   \n",
      "99998                             25  Jun 16, 2023 13:50:58.894487202 CEST   \n",
      "99999                             25  Jun 16, 2023 13:51:19.328907718 CEST   \n",
      "\n",
      "       layers.frame.frame.offset_shift  layers.frame.frame.time_delta  \\\n",
      "0                                  0.0                   6.514000e-06   \n",
      "1                                  0.0                   7.100000e-08   \n",
      "2                                  0.0                   7.394000e-06   \n",
      "3                                  0.0                   3.847390e-02   \n",
      "4                                  0.0                   6.646200e-05   \n",
      "...                                ...                            ...   \n",
      "99995                              0.0                   4.377960e-04   \n",
      "99996                              0.0                   2.980240e-04   \n",
      "99997                              0.0                   3.847200e-04   \n",
      "99998                              0.0                   3.181460e-04   \n",
      "99999                              0.0                   4.048760e-04   \n",
      "\n",
      "       layers.frame.frame.time_delta_displayed  \\\n",
      "0                                 6.514000e-06   \n",
      "1                                 7.100000e-08   \n",
      "2                                 7.394000e-06   \n",
      "3                                 3.847390e-02   \n",
      "4                                 6.646200e-05   \n",
      "...                                        ...   \n",
      "99995                             4.377960e-04   \n",
      "99996                             2.980240e-04   \n",
      "99997                             3.847200e-04   \n",
      "99998                             3.181460e-04   \n",
      "99999                             4.048760e-04   \n",
      "\n",
      "       layers.frame.frame.time_relative  ...      Active  pgalloc_dma  \\\n",
      "0                            371.765272  ...  11019376.0       1024.0   \n",
      "1                          19519.663110  ...    260148.0       1024.0   \n",
      "2                          21448.921655  ...    809160.0       1024.0   \n",
      "3                           3479.265744  ...  10836924.0       1024.0   \n",
      "4                          20334.717369  ...    585340.0       1024.0   \n",
      "...                                 ...  ...         ...          ...   \n",
      "99995                       1342.028881  ...   4253536.0       1024.0   \n",
      "99996                       1339.524617  ...   4253520.0       1024.0   \n",
      "99997                       1342.998386  ...   4253536.0       1024.0   \n",
      "99998                       1336.557488  ...   4253516.0       1024.0   \n",
      "99999                       1356.991908  ...   4253600.0       1024.0   \n",
      "\n",
      "       pgmajfault   SwapFree                              src_topic  \\\n",
      "0         42635.0  2020812.0                                /rosout   \n",
      "1         44223.0  2020812.0             /mansarda3/image/image_raw   \n",
      "2         76494.0   684744.0                      /mansarda2/tracks   \n",
      "3         42696.0  2020812.0  /mansarda1/image/image_raw/compressed   \n",
      "4         57131.0  1625048.0             /mansarda1/image/image_raw   \n",
      "...           ...        ...                                    ...   \n",
      "99995    835890.0  1891756.0                                    NaN   \n",
      "99996    835890.0  1891756.0                                    NaN   \n",
      "99997    835890.0  1891756.0                                    NaN   \n",
      "99998    835890.0  1891756.0                                    NaN   \n",
      "99999    835890.0  1891756.0                                    NaN   \n",
      "\n",
      "      subscribers_count  publishers_count               msg_type  \\\n",
      "0                   2.0              26.0                    Log   \n",
      "1                   2.0               1.0                  Image   \n",
      "2                   3.0               1.0  TrackedObjectsStamped   \n",
      "3                   1.0               1.0        CompressedImage   \n",
      "4                   2.0               1.0                  Image   \n",
      "...                 ...               ...                    ...   \n",
      "99995               NaN               NaN                    NaN   \n",
      "99996               NaN               NaN                    NaN   \n",
      "99997               NaN               NaN                    NaN   \n",
      "99998               NaN               NaN                    NaN   \n",
      "99999               NaN               NaN                    NaN   \n",
      "\n",
      "                                                msg_data                attack  \n",
      "0      Log(level=20;name=MonitorNode;msg=logged entry...        nmap discovery  \n",
      "1      Image(frame_id=\"camera3\";enconding=\"bgr8\";widt...        nmap discovery  \n",
      "2      <class 'darknet_ros_msgs.msg._tracked_objects_...        nmap discovery  \n",
      "3      CompressedImage(format=\"bgr8; jpeg compressed ...        nmap discovery  \n",
      "4      Image(frame_id=\"camera1\";enconding=\"bgr8\";widt...        nmap discovery  \n",
      "...                                                  ...                   ...  \n",
      "99995                                                NaN  metasploit SYN flood  \n",
      "99996                                                NaN  metasploit SYN flood  \n",
      "99997                                                NaN  metasploit SYN flood  \n",
      "99998                                                NaN  metasploit SYN flood  \n",
      "99999                                                NaN  metasploit SYN flood  \n",
      "\n",
      "[506658 rows x 536 columns]\n"
     ]
    }
   ],
   "source": [
    "print(merged_df)"
   ]
  },
  {
   "cell_type": "markdown",
   "id": "5f626755",
   "metadata": {},
   "source": [
    "### Remove index columns "
   ]
  },
  {
   "cell_type": "code",
   "execution_count": null,
   "id": "6cfda7c6",
   "metadata": {},
   "outputs": [],
   "source": [
    "subs = \"Unnamed\"\n",
    "res = [i for i in df.columns if subs in i]\n",
    "print(len(res))\n",
    "print(res)\n",
    "df=df.drop(res, axis=1)"
   ]
  },
  {
   "cell_type": "code",
   "execution_count": 44,
   "id": "aae4cc51",
   "metadata": {},
   "outputs": [],
   "source": [
    "merged_df.to_csv('/data/puccetti/space_data/all_run_tiny.csv')"
   ]
  }
 ],
 "metadata": {
  "kernelspec": {
   "display_name": "space_paper",
   "language": "python",
   "name": "space_paper"
  },
  "language_info": {
   "codemirror_mode": {
    "name": "ipython",
    "version": 3
   },
   "file_extension": ".py",
   "mimetype": "text/x-python",
   "name": "python",
   "nbconvert_exporter": "python",
   "pygments_lexer": "ipython3",
   "version": "3.10.9"
  }
 },
 "nbformat": 4,
 "nbformat_minor": 5
}
