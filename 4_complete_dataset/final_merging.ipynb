{
 "cells": [
  {
   "cell_type": "markdown",
   "id": "2afa01a6",
   "metadata": {},
   "source": [
    "# Compose the Final Dataset"
   ]
  },
  {
   "cell_type": "code",
   "execution_count": 1,
   "id": "94dc0ca6",
   "metadata": {},
   "outputs": [],
   "source": [
    "import pandas as pd \n",
    "import numpy as np\n",
    "import random\n",
    "import os"
   ]
  },
  {
   "cell_type": "markdown",
   "id": "dbf6ecb9",
   "metadata": {},
   "source": [
    "## Merging batches from the same experiment/run\n",
    "We merge the batches of each experiment by indicating as input the \"merged\" subfolder included in each run directory. "
   ]
  },
  {
   "cell_type": "code",
   "execution_count": 20,
   "id": "88339db5",
   "metadata": {},
   "outputs": [],
   "source": [
    "RUNS = [\"/data/puccetti/space_data/run_19/merged/\"]"
   ]
  },
  {
   "cell_type": "code",
   "execution_count": 4,
   "id": "28823069",
   "metadata": {},
   "outputs": [
    {
     "name": "stdout",
     "output_type": "stream",
     "text": [
      "482\n"
     ]
    }
   ],
   "source": [
    "features = list(np.load('/data/puccetti/space_data/all_features.npy', allow_pickle=True))\n",
    "#features.append('timestamp')\n",
    "print(len(features))"
   ]
  },
  {
   "cell_type": "code",
   "execution_count": 22,
   "id": "f1dbf3c9",
   "metadata": {
    "scrolled": false
   },
   "outputs": [
    {
     "name": "stdout",
     "output_type": "stream",
     "text": [
      "['1merged-23_06_2023@17_15_21.csv', '1merged-23_06_2023@17_21_20.csv', '1merged-23_06_2023@17_27_14.csv', '1merged-23_06_2023@17_31_47.csv', '1merged-23_06_2023@17_38_32.csv', '1merged-23_06_2023@17_44_33.csv', '1merged-23_06_2023@17_51_06.csv', '1merged-23_06_2023@17_55_34.csv', '1merged-23_06_2023@18_03_12.csv', '1merged-23_06_2023@18_11_07.csv', '2merged-23_06_2023@23_54_24.csv', '2merged-24_06_2023@00_00_33.csv', '2merged-24_06_2023@00_06_31.csv', '2merged-24_06_2023@00_12_08.csv', '2merged-24_06_2023@00_16_19.csv', '2merged-24_06_2023@00_23_05.csv', '2merged-24_06_2023@00_29_50.csv', '2merged-24_06_2023@00_35_50.csv', '2merged-24_06_2023@00_41_07.csv', '2merged-24_06_2023@00_46_59.csv', '2merged-24_06_2023@00_49_08.csv', '2merged-24_06_2023@00_55_29.csv', '2merged-24_06_2023@01_01_45.csv', '2merged-24_06_2023@01_07_17.csv', '2merged-24_06_2023@01_14_07.csv', '2merged-24_06_2023@01_27_48.csv', '2merged-24_06_2023@01_39_11.csv', '2merged-24_06_2023@01_47_54.csv', '2merged-24_06_2023@01_53_11.csv', '2merged-24_06_2023@01_58_12.csv', '2merged-24_06_2023@02_02_26.csv', '2merged-24_06_2023@02_04_22.csv', '2merged-24_06_2023@02_10_08.csv', '2merged-24_06_2023@02_15_06.csv', '2merged-24_06_2023@02_27_36.csv', '2merged-24_06_2023@02_33_49.csv', '2merged-24_06_2023@02_39_59.csv', '2merged-24_06_2023@02_45_45.csv', '2merged-24_06_2023@02_51_04.csv', '2merged-24_06_2023@02_56_03.csv', '2merged-24_06_2023@03_00_15.csv', '2merged-24_06_2023@04_13_44.csv', '2merged-24_06_2023@04_15_30.csv', '2merged-24_06_2023@04_20_31.csv', '2merged-24_06_2023@04_24_23.csv', '2merged-24_06_2023@04_30_37.csv', '2merged-24_06_2023@04_36_27.csv', '2merged-24_06_2023@04_42_03.csv', '2merged-24_06_2023@04_47_05.csv', '2merged-24_06_2023@04_52_07.csv', '2merged-24_06_2023@04_55_55.csv', '2merged-24_06_2023@05_01_49.csv', '2merged-24_06_2023@05_07_44.csv', '2merged-24_06_2023@05_08_56.csv', '2merged-24_06_2023@05_13_18.csv', '2merged-24_06_2023@05_19_40.csv', '2merged-24_06_2023@05_25_51.csv', '2merged-24_06_2023@05_31_41.csv', '2merged-24_06_2023@05_37_02.csv', '2merged-24_06_2023@05_42_02.csv', '2merged-24_06_2023@05_46_19.csv', '2merged-24_06_2023@05_53_54.csv', '2merged-24_06_2023@06_00_09.csv', '2merged-24_06_2023@06_05_48.csv', '7merged-24_06_2023@15_40_59.csv', '7merged-24_06_2023@15_46_40.csv', '7merged-24_06_2023@15_52_08.csv', '7merged-24_06_2023@15_57_06.csv', '7merged-24_06_2023@16_01_39.csv', '7merged-24_06_2023@16_05_36.csv', '7merged-24_06_2023@16_12_07.csv', '7merged-24_06_2023@16_18_01.csv', '7merged-24_06_2023@16_23_40.csv', '7merged-24_06_2023@16_28_43.csv', '8merged-24_06_2023@16_35_51.csv', '8merged-24_06_2023@16_41_29.csv', '8merged-24_06_2023@16_46_47.csv', '8merged-24_06_2023@16_51_46.csv', '8merged-24_06_2023@16_55_52.csv', '8merged-24_06_2023@17_02_21.csv', '8merged-24_06_2023@17_08_07.csv', '8merged-24_06_2023@17_13_58.csv', '8merged-24_06_2023@17_19_01.csv', '8merged-24_06_2023@17_23_57.csv', '90merged-24_06_2023@17_30_53.csv', '90merged-24_06_2023@17_36_30.csv', '90merged-24_06_2023@17_41_23.csv', '90merged-24_06_2023@17_46_17.csv', '90merged-24_06_2023@17_50_38.csv', '90merged-24_06_2023@17_56_57.csv', '90merged-24_06_2023@18_03_17.csv', '90merged-24_06_2023@18_08_47.csv', '90merged-24_06_2023@18_13_56.csv', '90merged-24_06_2023@18_19_02.csv', '91merged-24_06_2023@18_36_27.csv', '91merged-24_06_2023@18_58_54.csv', '91merged-24_06_2023@19_21_18.csv', '91merged-24_06_2023@19_43_39.csv', '91merged-24_06_2023@20_05_56.csv', '91merged-24_06_2023@20_28_36.csv', '91merged-24_06_2023@20_50_38.csv', '91merged-24_06_2023@21_10_32.csv', '92merged-24_06_2023@21_31_58.csv', '92merged-24_06_2023@21_53_31.csv', '92merged-24_06_2023@22_14_12.csv', '92merged-24_06_2023@22_34_24.csv', '92merged-24_06_2023@22_53_44.csv', '92merged-24_06_2023@23_11_38.csv', 'unlabeled']\n"
     ]
    },
    {
     "name": "stderr",
     "output_type": "stream",
     "text": [
      "/tmp/ipykernel_2771/1281596387.py:7: DtypeWarning: Columns (70,73,82,84,86,87,91,95,100,102,105,109,110,117,119,120,121,122,123,124,129,132,133,144,148,149,152,154,156,162,166,168,172,173,174,175,180,202,206,209,215,216,228,232,233,236,238,240,242,246,250,252,255,256,259,260,261,262,263,264,267,268,275,277,278,279,280,281,282,301,374,377,381,382,383,384,385,386,387,388,390,393,394,397,398,401,405,413,415,420,424,425,429,430,434,496,506,583,586,587) have mixed types. Specify dtype option on import or set low_memory=False.\n",
      "  merged_df = pd.read_csv(run + all_packets[0], usecols=list(temp_features))\n"
     ]
    },
    {
     "name": "stdout",
     "output_type": "stream",
     "text": [
      "First packet shape (177588, 461)\n"
     ]
    },
    {
     "name": "stderr",
     "output_type": "stream",
     "text": [
      "/tmp/ipykernel_2771/1281596387.py:16: DtypeWarning: Columns (70,73,82,84,86,87,91,95,100,102,105,109,110,117,119,120,121,122,123,124,129,132,133,144,148,149,152,154,156,162,166,168,172,173,174,175,180,202,206,209,215,216,228,232,233,236,238,240,242,246,250,252,255,256,259,260,261,262,263,264,267,268,275,277,278,279,280,281,282,337,342,351,355,356,360,361,365,367,371,374,377,381,382,383,384,385,386,387,388,390,393,394,397,398,401,405,413,415,425,429,435,439,444,445,513,517,519,523,583,586,587) have mixed types. Specify dtype option on import or set low_memory=False.\n",
      "  df_temp = pd.read_csv(run + pack, usecols=list(temp_features))\n"
     ]
    },
    {
     "name": "stdout",
     "output_type": "stream",
     "text": [
      "Packet to merge shape (170537, 461)\n",
      "Merged dataframe (348125, 461)\n"
     ]
    },
    {
     "name": "stderr",
     "output_type": "stream",
     "text": [
      "/tmp/ipykernel_2771/1281596387.py:16: DtypeWarning: Columns (70,73,82,84,86,87,91,95,100,102,105,109,110,117,119,120,121,122,123,124,129,132,133,144,148,149,152,154,156,162,166,168,172,173,174,175,180,199,202,206,209,215,216,228,232,233,236,238,240,242,246,247,250,252,255,256,259,260,261,262,263,264,267,268,275,277,278,279,280,281,282,301,337,342,351,355,356,360,361,365,367,371,374,377,381,382,383,384,385,386,387,388,390,393,394,397,398,401,405,420,424,425,429,430,434,435,439,441,496,525,529,535,539,583,586,587) have mixed types. Specify dtype option on import or set low_memory=False.\n",
      "  df_temp = pd.read_csv(run + pack, usecols=list(temp_features))\n"
     ]
    },
    {
     "name": "stdout",
     "output_type": "stream",
     "text": [
      "Packet to merge shape (167389, 461)\n",
      "Merged dataframe (515514, 461)\n",
      "Packet to merge shape (429, 461)\n",
      "Merged dataframe (515943, 461)\n"
     ]
    },
    {
     "name": "stderr",
     "output_type": "stream",
     "text": [
      "/tmp/ipykernel_2771/1281596387.py:16: DtypeWarning: Columns (70,73,82,84,86,87,91,95,100,102,105,109,110,117,119,120,121,122,123,124,129,132,133,144,148,149,152,154,156,162,166,168,172,173,174,175,180,202,206,209,215,216,228,232,233,236,238,240,242,246,250,252,255,256,259,260,261,262,263,264,267,268,275,277,278,279,280,281,282,301,337,342,351,355,356,360,361,365,367,371,374,377,381,382,383,384,385,386,387,388,390,393,394,397,398,401,405,420,424,425,429,430,434,435,439,441,525,529,535,539,583,586,587) have mixed types. Specify dtype option on import or set low_memory=False.\n",
      "  df_temp = pd.read_csv(run + pack, usecols=list(temp_features))\n"
     ]
    },
    {
     "name": "stdout",
     "output_type": "stream",
     "text": [
      "Packet to merge shape (164836, 461)\n",
      "Merged dataframe (680779, 461)\n"
     ]
    },
    {
     "name": "stderr",
     "output_type": "stream",
     "text": [
      "/tmp/ipykernel_2771/1281596387.py:16: DtypeWarning: Columns (70,73,82,84,86,87,91,95,100,102,105,109,110,117,119,120,121,122,123,124,129,132,133,144,148,149,152,154,156,162,166,168,172,173,174,175,180,202,206,209,215,216,228,232,233,236,238,240,242,246,250,252,255,256,259,260,261,262,263,264,267,268,275,277,278,279,280,281,282,301,337,342,351,355,356,360,361,365,367,371,374,377,381,382,383,384,385,386,387,388,390,393,394,397,398,401,405,413,415,420,424,425,429,430,434,435,439,583,586,587) have mixed types. Specify dtype option on import or set low_memory=False.\n",
      "  df_temp = pd.read_csv(run + pack, usecols=list(temp_features))\n"
     ]
    },
    {
     "name": "stdout",
     "output_type": "stream",
     "text": [
      "Packet to merge shape (170892, 461)\n",
      "Merged dataframe (851671, 461)\n"
     ]
    },
    {
     "name": "stderr",
     "output_type": "stream",
     "text": [
      "/tmp/ipykernel_2771/1281596387.py:16: DtypeWarning: Columns (70,73,82,84,86,87,91,95,100,102,105,109,110,117,119,120,121,122,123,124,129,132,133,144,148,149,152,154,156,162,166,168,172,173,174,175,180,202,206,209,215,216,228,232,233,236,238,240,242,246,247,250,252,255,256,259,260,261,262,263,264,267,268,275,277,278,279,280,281,282,301,337,342,351,355,361,365,367,371,374,377,381,382,383,384,385,386,387,388,390,393,394,397,398,401,405,420,424,425,429,430,434,435,439,441,583,586,587) have mixed types. Specify dtype option on import or set low_memory=False.\n",
      "  df_temp = pd.read_csv(run + pack, usecols=list(temp_features))\n"
     ]
    },
    {
     "name": "stdout",
     "output_type": "stream",
     "text": [
      "Packet to merge shape (174259, 461)\n",
      "Merged dataframe (1025930, 461)\n",
      "Packet to merge shape (478, 461)\n",
      "Merged dataframe (1026408, 461)\n"
     ]
    },
    {
     "name": "stderr",
     "output_type": "stream",
     "text": [
      "/tmp/ipykernel_2771/1281596387.py:16: DtypeWarning: Columns (70,73,82,84,86,87,91,95,100,102,105,109,110,117,119,120,121,122,123,124,129,132,133,144,148,149,152,154,156,162,166,168,172,173,174,175,180,202,206,209,215,216,228,232,233,236,238,240,242,246,255,256,259,260,261,262,263,264,267,268,275,277,278,279,280,281,282,337,342,351,355,356,360,361,365,367,371,374,377,381,382,383,384,385,386,387,388,390,393,394,397,398,401,405,430,434,583,586,587) have mixed types. Specify dtype option on import or set low_memory=False.\n",
      "  df_temp = pd.read_csv(run + pack, usecols=list(temp_features))\n"
     ]
    },
    {
     "name": "stdout",
     "output_type": "stream",
     "text": [
      "Packet to merge shape (172333, 461)\n",
      "Merged dataframe (1198741, 461)\n"
     ]
    },
    {
     "name": "stderr",
     "output_type": "stream",
     "text": [
      "/tmp/ipykernel_2771/1281596387.py:16: DtypeWarning: Columns (70,73,82,84,86,87,91,95,100,102,105,109,110,117,119,120,121,122,123,124,129,132,133,144,148,149,152,154,156,162,166,168,172,173,174,175,180,202,206,209,215,216,228,232,233,236,238,240,242,246,250,252,255,256,259,260,261,262,263,264,267,268,275,277,278,279,280,281,282,301,337,342,351,355,356,360,361,365,367,371,374,377,381,382,383,384,385,386,387,388,390,393,394,397,398,401,405,420,424,425,429,430,434,435,439,496,583,586,587) have mixed types. Specify dtype option on import or set low_memory=False.\n",
      "  df_temp = pd.read_csv(run + pack, usecols=list(temp_features))\n"
     ]
    },
    {
     "name": "stdout",
     "output_type": "stream",
     "text": [
      "Packet to merge shape (162708, 461)\n",
      "Merged dataframe (1361449, 461)\n"
     ]
    },
    {
     "name": "stderr",
     "output_type": "stream",
     "text": [
      "/tmp/ipykernel_2771/1281596387.py:16: DtypeWarning: Columns (47,50,51,54,55,56,57,58,59,62,63,70,72,73,74,75,76,77,79,81,85,86,87,88,131,134,143,145,147,152,154,157,161,162,169,171,172,173,174,175,176,181,184,185,201,204,206,208,210,214,215,219,221,224,225,237,241,242,245,247,249,251,255,262,266,269,275,289,292,296,297,298,299,300,301,302,303,314,318,320,324,332,370,372,378,379,381,384,385,388,389,392,396,398,400,403,407,408,412,413,417,419,423,424,428,429,433,434,438,439,443,450,460,521,524,525) have mixed types. Specify dtype option on import or set low_memory=False.\n",
      "  df_temp = pd.read_csv(run + pack, usecols=list(temp_features))\n"
     ]
    },
    {
     "name": "stdout",
     "output_type": "stream",
     "text": [
      "Packet to merge shape (172584, 440)\n",
      "Merged dataframe (1534033, 461)\n"
     ]
    },
    {
     "name": "stderr",
     "output_type": "stream",
     "text": [
      "/tmp/ipykernel_2771/1281596387.py:16: DtypeWarning: Columns (47,50,51,54,55,56,57,58,59,62,63,70,72,73,74,75,76,77,79,81,85,86,87,88,131,134,143,145,147,152,154,157,161,162,169,171,172,173,174,175,176,181,184,185,201,204,206,208,210,214,215,219,221,224,225,237,241,242,245,247,249,251,255,262,266,269,275,289,292,296,297,298,299,300,301,332,370,378,379,381,384,385,388,389,392,396,398,400,429,433,450,460,521,524,525) have mixed types. Specify dtype option on import or set low_memory=False.\n",
      "  df_temp = pd.read_csv(run + pack, usecols=list(temp_features))\n"
     ]
    },
    {
     "name": "stdout",
     "output_type": "stream",
     "text": [
      "Packet to merge shape (162790, 440)\n",
      "Merged dataframe (1696823, 461)\n"
     ]
    },
    {
     "name": "stderr",
     "output_type": "stream",
     "text": [
      "/tmp/ipykernel_2771/1281596387.py:16: DtypeWarning: Columns (47,50,51,54,55,56,57,58,59,62,63,70,72,73,74,75,76,77,79,81,85,86,87,88,131,134,143,145,147,152,154,157,161,162,169,171,172,173,174,175,176,181,184,185,201,204,206,208,210,214,215,219,221,224,225,237,241,242,245,247,249,251,255,256,259,262,266,269,275,284,289,292,296,297,298,299,300,301,332,370,372,378,379,381,384,385,388,389,392,396,398,400,403,407,408,412,413,417,419,423,424,428,429,433,434,438,439,443,450,460,521,524,525) have mixed types. Specify dtype option on import or set low_memory=False.\n",
      "  df_temp = pd.read_csv(run + pack, usecols=list(temp_features))\n"
     ]
    },
    {
     "name": "stdout",
     "output_type": "stream",
     "text": [
      "Packet to merge shape (173159, 440)\n",
      "Merged dataframe (1869982, 461)\n"
     ]
    },
    {
     "name": "stderr",
     "output_type": "stream",
     "text": [
      "/tmp/ipykernel_2771/1281596387.py:16: DtypeWarning: Columns (47,50,51,54,55,56,57,58,59,62,63,70,72,73,74,75,76,77,79,81,85,86,87,88,131,134,143,145,147,152,154,157,161,162,169,171,172,173,174,175,176,181,184,185,201,204,206,208,210,214,215,219,221,224,225,237,241,242,245,247,249,251,255,256,259,262,266,269,275,289,292,296,297,298,299,300,301,332,370,378,379,381,384,385,388,389,392,396,398,400,403,407,408,412,413,417,419,423,424,428,429,433,434,438,439,443,450,460,469,471,521,524,525) have mixed types. Specify dtype option on import or set low_memory=False.\n",
      "  df_temp = pd.read_csv(run + pack, usecols=list(temp_features))\n"
     ]
    },
    {
     "name": "stdout",
     "output_type": "stream",
     "text": [
      "Packet to merge shape (180987, 440)\n",
      "Merged dataframe (2050969, 461)\n",
      "Packet to merge shape (468, 440)\n",
      "Merged dataframe (2051437, 461)\n"
     ]
    },
    {
     "name": "stderr",
     "output_type": "stream",
     "text": [
      "/tmp/ipykernel_2771/1281596387.py:16: DtypeWarning: Columns (47,50,51,54,55,56,57,58,59,62,63,70,72,73,74,75,76,77,79,81,85,86,87,88,131,134,143,145,147,152,154,157,161,162,169,171,172,173,174,175,176,181,184,185,201,204,206,208,210,214,215,219,224,225,237,241,242,245,247,249,251,255,262,266,269,275,284,289,292,296,297,298,299,300,301,332,370,372,378,379,381,384,385,388,389,392,396,403,407,408,412,413,417,419,423,424,428,429,433,434,438,439,443,450,460,521,524,525) have mixed types. Specify dtype option on import or set low_memory=False.\n",
      "  df_temp = pd.read_csv(run + pack, usecols=list(temp_features))\n"
     ]
    },
    {
     "name": "stdout",
     "output_type": "stream",
     "text": [
      "Packet to merge shape (162554, 440)\n",
      "Merged dataframe (2213991, 461)\n"
     ]
    },
    {
     "name": "stderr",
     "output_type": "stream",
     "text": [
      "/tmp/ipykernel_2771/1281596387.py:16: DtypeWarning: Columns (47,50,51,54,55,56,57,58,59,62,63,70,72,73,74,75,76,77,79,81,85,86,87,88,131,134,143,145,147,152,154,157,161,162,169,171,172,173,174,175,176,181,184,185,201,204,206,208,210,214,215,219,221,224,225,237,241,242,245,247,249,251,255,256,259,262,266,269,275,289,292,296,297,298,299,300,301,332,378,379,381,384,385,388,389,392,396,403,407,408,412,413,417,419,423,429,433,434,438,439,443,450,460,469,471,521,524,525) have mixed types. Specify dtype option on import or set low_memory=False.\n",
      "  df_temp = pd.read_csv(run + pack, usecols=list(temp_features))\n"
     ]
    },
    {
     "name": "stdout",
     "output_type": "stream",
     "text": [
      "Packet to merge shape (171012, 440)\n",
      "Merged dataframe (2385003, 461)\n"
     ]
    },
    {
     "name": "stderr",
     "output_type": "stream",
     "text": [
      "/tmp/ipykernel_2771/1281596387.py:16: DtypeWarning: Columns (47,50,51,54,55,56,57,58,59,62,63,70,72,73,74,75,76,77,79,81,85,86,87,88,131,134,143,145,147,152,154,157,161,162,169,171,172,173,174,175,176,181,184,185,201,204,206,208,210,214,215,219,224,225,237,241,242,245,247,249,251,255,262,266,269,275,289,292,296,297,298,299,300,301,332,370,372,378,379,381,384,385,388,389,392,396,398,400,403,407,408,412,413,417,419,423,424,428,429,433,434,438,439,443,450,460,521,524,525) have mixed types. Specify dtype option on import or set low_memory=False.\n",
      "  df_temp = pd.read_csv(run + pack, usecols=list(temp_features))\n"
     ]
    },
    {
     "name": "stdout",
     "output_type": "stream",
     "text": [
      "Packet to merge shape (171637, 440)\n",
      "Merged dataframe (2556640, 461)\n"
     ]
    },
    {
     "name": "stderr",
     "output_type": "stream",
     "text": [
      "/tmp/ipykernel_2771/1281596387.py:16: DtypeWarning: Columns (47,50,51,54,55,56,57,58,59,62,63,70,72,73,74,75,76,77,79,81,85,86,87,88,131,134,143,145,147,152,154,157,161,162,169,171,172,173,174,175,176,181,184,185,201,204,206,208,210,214,215,219,221,224,225,237,241,242,245,247,249,251,255,256,259,262,266,269,275,284,289,292,296,297,298,299,300,301,332,370,372,378,379,381,384,385,388,389,392,396,398,400,403,407,408,412,413,417,419,423,424,428,429,433,434,438,439,443,450,460,469,471,481,521,524,525) have mixed types. Specify dtype option on import or set low_memory=False.\n",
      "  df_temp = pd.read_csv(run + pack, usecols=list(temp_features))\n"
     ]
    },
    {
     "name": "stdout",
     "output_type": "stream",
     "text": [
      "Packet to merge shape (169990, 440)\n",
      "Merged dataframe (2726630, 461)\n"
     ]
    },
    {
     "name": "stderr",
     "output_type": "stream",
     "text": [
      "/tmp/ipykernel_2771/1281596387.py:16: DtypeWarning: Columns (47,50,51,54,55,56,57,58,59,62,63,70,72,73,74,75,76,77,147,152,154,157,161,162,169,171,172,173,174,175,176,181,184,185,201,204,206,208,215,219,221,256,259,262,266,269,275,332,398,400,521,524,525) have mixed types. Specify dtype option on import or set low_memory=False.\n",
      "  df_temp = pd.read_csv(run + pack, usecols=list(temp_features))\n"
     ]
    },
    {
     "name": "stdout",
     "output_type": "stream",
     "text": [
      "Packet to merge shape (11132, 440)\n",
      "Merged dataframe (2737762, 461)\n",
      "Packet to merge shape (447, 440)\n",
      "Merged dataframe (2738209, 461)\n"
     ]
    },
    {
     "name": "stderr",
     "output_type": "stream",
     "text": [
      "/tmp/ipykernel_2771/1281596387.py:16: DtypeWarning: Columns (78,82,83,84,85,87,90,97,99,101,102,113,116,117,120,121,122,123,124,125,128,129,136,138,139,140,141,142,143,145,149,152,158,164,166,169,173,174,181,183,184,185,186,187,188,222,223,235,239,240,243,245,247,249,253,259,263,285,292,295,296,307,311,318,322,323,326,328,330,332,336,347,355,359,363,366,370,371,375,376,380,384,388,391,395,396,397,398,399,400,401,402,404,407,408,411,412,415,419,421,560,563,564) have mixed types. Specify dtype option on import or set low_memory=False.\n",
      "  df_temp = pd.read_csv(run + pack, usecols=list(temp_features))\n"
     ]
    },
    {
     "name": "stdout",
     "output_type": "stream",
     "text": [
      "Packet to merge shape (167259, 452)\n",
      "Merged dataframe (2905468, 461)\n"
     ]
    },
    {
     "name": "stderr",
     "output_type": "stream",
     "text": [
      "/tmp/ipykernel_2771/1281596387.py:16: DtypeWarning: Columns (78,82,83,84,85,87,90,97,99,101,102,113,116,117,120,121,122,123,124,125,128,129,136,138,139,140,141,142,143,145,149,152,158,164,166,169,173,174,181,183,184,185,186,187,188,222,223,235,239,240,243,245,247,249,253,254,258,259,263,285,292,295,296,307,311,313,317,318,322,323,326,328,330,332,336,347,355,359,363,366,370,371,375,376,380,384,388,391,395,396,397,398,399,400,401,402,404,407,408,411,412,415,419,421,429,431,479,483,560,563,564) have mixed types. Specify dtype option on import or set low_memory=False.\n",
      "  df_temp = pd.read_csv(run + pack, usecols=list(temp_features))\n"
     ]
    },
    {
     "name": "stdout",
     "output_type": "stream",
     "text": [
      "Packet to merge shape (160689, 452)\n",
      "Merged dataframe (3066157, 461)\n",
      "Packet to merge shape (565, 452)\n",
      "Merged dataframe (3066722, 461)\n"
     ]
    },
    {
     "name": "stderr",
     "output_type": "stream",
     "text": [
      "/tmp/ipykernel_2771/1281596387.py:16: DtypeWarning: Columns (78,82,83,84,85,87,90,97,99,101,102,113,116,117,120,121,122,123,124,125,128,129,136,138,139,140,141,142,143,145,149,152,158,164,166,169,173,174,181,183,184,185,186,187,188,222,223,235,239,240,243,245,247,249,253,254,258,259,263,285,292,295,296,307,311,313,317,318,322,323,326,328,330,332,336,347,355,359,363,366,370,371,375,376,380,384,388,391,395,396,397,398,399,400,401,402,404,407,408,411,412,415,419,421,485,489,500,504,560,563,564) have mixed types. Specify dtype option on import or set low_memory=False.\n",
      "  df_temp = pd.read_csv(run + pack, usecols=list(temp_features))\n"
     ]
    },
    {
     "name": "stdout",
     "output_type": "stream",
     "text": [
      "Packet to merge shape (162170, 452)\n",
      "Merged dataframe (3228892, 461)\n"
     ]
    },
    {
     "name": "stderr",
     "output_type": "stream",
     "text": [
      "/tmp/ipykernel_2771/1281596387.py:16: DtypeWarning: Columns (78,82,83,84,85,87,90,97,99,101,102,113,116,117,120,121,122,123,124,125,128,129,136,138,139,140,141,142,143,145,149,152,158,164,166,169,173,174,181,183,184,185,186,187,188,222,223,235,239,240,243,245,247,249,253,254,258,259,263,285,292,295,296,307,311,313,317,318,322,323,326,328,330,332,336,347,355,359,363,366,370,371,375,376,380,384,388,391,395,396,397,398,399,400,401,402,404,407,408,411,412,415,419,421,485,489,500,504,505,507,560,563,564) have mixed types. Specify dtype option on import or set low_memory=False.\n",
      "  df_temp = pd.read_csv(run + pack, usecols=list(temp_features))\n"
     ]
    },
    {
     "name": "stdout",
     "output_type": "stream",
     "text": [
      "Packet to merge shape (157029, 452)\n",
      "Merged dataframe (3385921, 461)\n"
     ]
    },
    {
     "name": "stderr",
     "output_type": "stream",
     "text": [
      "/tmp/ipykernel_2771/1281596387.py:16: DtypeWarning: Columns (78,82,83,84,85,87,90,97,99,101,102,113,116,117,120,121,122,123,124,125,128,129,136,138,139,140,141,142,143,145,149,152,158,164,166,169,173,174,181,183,184,185,186,187,188,222,223,235,239,240,243,245,247,249,253,254,258,259,263,285,292,295,296,307,311,313,317,318,322,323,326,328,330,332,336,347,355,388,391,395,396,397,398,399,400,429,431,505,507,560,563,564) have mixed types. Specify dtype option on import or set low_memory=False.\n",
      "  df_temp = pd.read_csv(run + pack, usecols=list(temp_features))\n"
     ]
    },
    {
     "name": "stdout",
     "output_type": "stream",
     "text": [
      "Packet to merge shape (146265, 452)\n",
      "Merged dataframe (3532186, 461)\n"
     ]
    },
    {
     "name": "stderr",
     "output_type": "stream",
     "text": [
      "/tmp/ipykernel_2771/1281596387.py:16: DtypeWarning: Columns (78,82,83,84,85,87,90,97,99,101,102,113,116,117,120,121,122,123,124,125,128,129,136,138,139,140,141,142,143,145,149,152,158,164,166,169,173,174,181,183,184,185,186,187,188,222,223,235,239,240,243,245,247,249,253,254,258,259,263,285,292,295,296,307,311,313,317,318,322,323,326,328,330,332,336,347,355,359,363,366,370,371,375,376,380,384,388,391,395,396,397,398,399,400,401,402,404,407,408,411,412,415,419,421,429,431,485,489,500,504,505,507,560,563,564) have mixed types. Specify dtype option on import or set low_memory=False.\n",
      "  df_temp = pd.read_csv(run + pack, usecols=list(temp_features))\n"
     ]
    },
    {
     "name": "stdout",
     "output_type": "stream",
     "text": [
      "Packet to merge shape (165165, 452)\n",
      "Merged dataframe (3697351, 461)\n"
     ]
    },
    {
     "name": "stderr",
     "output_type": "stream",
     "text": [
      "/tmp/ipykernel_2771/1281596387.py:16: DtypeWarning: Columns (78,82,83,84,85,87,90,97,99,101,102,106,113,116,117,120,121,122,123,124,125,128,129,136,138,139,140,141,142,143,145,149,152,158,164,166,169,173,174,181,183,184,185,186,187,188,222,223,235,239,240,243,245,247,249,253,254,258,259,263,285,292,295,296,307,311,313,317,318,322,323,326,328,330,332,336,347,355,359,363,366,370,371,375,376,380,384,388,391,395,396,397,398,399,400,401,402,404,407,408,411,412,415,419,421,446,447,458,462,464,468,505,507,560,563,564) have mixed types. Specify dtype option on import or set low_memory=False.\n",
      "  df_temp = pd.read_csv(run + pack, usecols=list(temp_features))\n"
     ]
    },
    {
     "name": "stdout",
     "output_type": "stream",
     "text": [
      "Packet to merge shape (162642, 452)\n",
      "Merged dataframe (3859993, 461)\n"
     ]
    },
    {
     "name": "stderr",
     "output_type": "stream",
     "text": [
      "/tmp/ipykernel_2771/1281596387.py:16: DtypeWarning: Columns (21,78,82,83,84,85,87,90,97,99,101,102,106,113,116,117,120,121,122,123,124,125,128,129,136,138,139,140,141,142,143,145,149,152,158,164,166,169,173,174,181,183,184,185,186,187,188,222,223,235,239,240,243,245,247,249,253,254,258,259,263,285,292,295,296,307,311,313,317,318,322,323,326,328,330,332,336,347,355,384,388,391,395,396,397,398,399,400,401,402,404,407,408,411,412,415,419,421,446,447,458,462,464,468,505,507,516,525,560,563,564) have mixed types. Specify dtype option on import or set low_memory=False.\n",
      "  df_temp = pd.read_csv(run + pack, usecols=list(temp_features))\n"
     ]
    },
    {
     "name": "stdout",
     "output_type": "stream",
     "text": [
      "Packet to merge shape (164006, 452)\n",
      "Merged dataframe (4023999, 461)\n",
      "Packet to merge shape (1113, 452)\n"
     ]
    },
    {
     "name": "stderr",
     "output_type": "stream",
     "text": [
      "/tmp/ipykernel_2771/1281596387.py:16: DtypeWarning: Columns (21,106,222,223,235,239,240,243,245,247,249,253,285,318,322,323,326,328,330,332,336,347,355,359,363,371,375,376,380,384) have mixed types. Specify dtype option on import or set low_memory=False.\n",
      "  df_temp = pd.read_csv(run + pack, usecols=list(temp_features))\n"
     ]
    },
    {
     "name": "stdout",
     "output_type": "stream",
     "text": [
      "Merged dataframe (4025112, 461)\n",
      "Packet to merge shape (1047, 452)\n"
     ]
    },
    {
     "name": "stderr",
     "output_type": "stream",
     "text": [
      "/tmp/ipykernel_2771/1281596387.py:16: DtypeWarning: Columns (113,116,117,120,121,122,123,124,125,128,129,136,138,139,140,141,142,143,164,166,169,173,174,181,183,184,185,186,187,188,222,223,235,239,240,243,245,247,249,253,285,292,295,296,318,322,323,326,328,330,332,336,355,366,370,384,505,507) have mixed types. Specify dtype option on import or set low_memory=False.\n",
      "  df_temp = pd.read_csv(run + pack, usecols=list(temp_features))\n"
     ]
    },
    {
     "name": "stdout",
     "output_type": "stream",
     "text": [
      "Merged dataframe (4026159, 461)\n"
     ]
    },
    {
     "name": "stderr",
     "output_type": "stream",
     "text": [
      "/tmp/ipykernel_2771/1281596387.py:16: DtypeWarning: Columns (78,82,85,92,93,97,99,104,107,108,111,112,113,114,115,116,119,120,127,129,130,131,132,133,134,136,137,138,150,154,155,158,160,162,164,168,170,174,175,176,177,179,184,186,189,193,194,201,203,204,205,206,207,208,240,244,247,253,259,262,266,267,268,269,270,271,272,273,275,278,279,282,283,286,290,307,312,320,323,324,335,339,341,345,346,350,351,354,356,358,360,364,368,372,378,382,388,392,402,407,414,418,424,433,437,438,442,443,447,448,452,574,577,578) have mixed types. Specify dtype option on import or set low_memory=False.\n",
      "  df_temp = pd.read_csv(run + pack, usecols=list(temp_features))\n"
     ]
    },
    {
     "name": "stdout",
     "output_type": "stream",
     "text": [
      "Packet to merge shape (171400, 451)\n",
      "Merged dataframe (4197559, 461)\n"
     ]
    },
    {
     "name": "stderr",
     "output_type": "stream",
     "text": [
      "/tmp/ipykernel_2771/1281596387.py:16: DtypeWarning: Columns (78,82,85,92,93,97,99,104,107,108,111,112,113,114,115,116,119,120,127,129,130,131,132,133,134,136,137,138,150,154,155,158,160,162,164,168,170,174,175,176,177,179,184,186,189,193,194,201,203,204,205,206,207,208,240,244,247,253,259,262,266,267,268,269,270,271,272,273,275,278,279,282,283,286,290,307,312,320,323,324,335,339,341,345,346,350,351,354,356,358,360,364,368,372,402,407,414,418,424,433,437,438,442,443,447,479,481,487,574,577,578) have mixed types. Specify dtype option on import or set low_memory=False.\n",
      "  df_temp = pd.read_csv(run + pack, usecols=list(temp_features))\n"
     ]
    },
    {
     "name": "stdout",
     "output_type": "stream",
     "text": [
      "Packet to merge shape (161119, 451)\n",
      "Merged dataframe (4358678, 461)\n",
      "Packet to merge shape (1117, 451)\n"
     ]
    },
    {
     "name": "stderr",
     "output_type": "stream",
     "text": [
      "/tmp/ipykernel_2771/1281596387.py:16: DtypeWarning: Columns (64,240,244,247,253,312,402,448,452) have mixed types. Specify dtype option on import or set low_memory=False.\n",
      "  df_temp = pd.read_csv(run + pack, usecols=list(temp_features))\n"
     ]
    },
    {
     "name": "stdout",
     "output_type": "stream",
     "text": [
      "Merged dataframe (4359795, 461)\n"
     ]
    },
    {
     "name": "stderr",
     "output_type": "stream",
     "text": [
      "/tmp/ipykernel_2771/1281596387.py:16: DtypeWarning: Columns (82,85,92,97,99,104,107,108,111,112,113,114,115,116,119,120,127,129,130,131,132,133,134,136,137,138,150,154,155,158,160,162,164,168,170,174,175,176,177,184,186,189,193,194,201,203,204,205,206,207,208,240,244,247,253,259,262,266,267,268,269,270,271,272,273,275,278,279,282,283,286,290,307,312,320,323,324,335,339,341,345,346,350,351,354,356,358,360,364,368,372,402,407,414,418,424,438,442,574,577,578) have mixed types. Specify dtype option on import or set low_memory=False.\n",
      "  df_temp = pd.read_csv(run + pack, usecols=list(temp_features))\n"
     ]
    },
    {
     "name": "stdout",
     "output_type": "stream",
     "text": [
      "Packet to merge shape (159005, 451)\n",
      "Merged dataframe (4518800, 461)\n"
     ]
    },
    {
     "name": "stderr",
     "output_type": "stream",
     "text": [
      "/tmp/ipykernel_2771/1281596387.py:16: DtypeWarning: Columns (82,85,92,97,99,104,107,108,111,112,113,114,115,116,119,120,127,129,130,131,132,133,134,136,137,138,150,154,155,158,160,162,164,168,170,174,175,176,177,184,186,189,193,194,201,203,204,205,206,207,208,240,244,247,253,259,262,266,267,268,269,270,271,272,273,275,278,279,282,283,286,290,307,312,320,323,324,335,339,341,345,346,350,351,354,356,358,360,364,368,372,402,407,414,418,424,433,437,438,442,443,447,448,452,574,577,578) have mixed types. Specify dtype option on import or set low_memory=False.\n",
      "  df_temp = pd.read_csv(run + pack, usecols=list(temp_features))\n"
     ]
    },
    {
     "name": "stdout",
     "output_type": "stream",
     "text": [
      "Packet to merge shape (168421, 451)\n",
      "Merged dataframe (4687221, 461)\n"
     ]
    },
    {
     "name": "stderr",
     "output_type": "stream",
     "text": [
      "/tmp/ipykernel_2771/1281596387.py:16: DtypeWarning: Columns (82,85,92,97,99,104,107,108,111,112,113,114,115,116,119,120,127,129,130,131,132,133,134,136,137,138,150,154,155,158,160,162,164,168,170,174,175,176,177,184,186,189,193,194,201,203,204,205,206,207,208,240,244,247,253,259,262,266,267,268,269,270,271,272,273,275,278,279,282,283,286,290,307,312,320,323,324,335,339,341,345,346,350,351,354,356,358,360,364,368,372,402,407,414,418,424,433,437,438,442,443,447,448,452,479,481,574,577,578) have mixed types. Specify dtype option on import or set low_memory=False.\n",
      "  df_temp = pd.read_csv(run + pack, usecols=list(temp_features))\n"
     ]
    },
    {
     "name": "stdout",
     "output_type": "stream",
     "text": [
      "Packet to merge shape (162917, 451)\n",
      "Merged dataframe (4850138, 461)\n"
     ]
    },
    {
     "name": "stderr",
     "output_type": "stream",
     "text": [
      "/tmp/ipykernel_2771/1281596387.py:16: DtypeWarning: Columns (82,85,92,97,99,104,107,108,111,112,113,114,115,116,119,120,127,129,130,131,132,133,134,136,137,138,150,154,155,158,160,162,164,168,170,174,175,176,177,184,186,189,193,194,201,203,204,205,206,207,208,240,244,247,253,259,262,266,267,268,269,270,271,272,273,275,278,279,282,283,286,290,307,312,320,323,324,335,339,341,345,346,350,351,354,356,358,360,364,368,372,402,407,414,418,424,443,447,479,481,574,577,578) have mixed types. Specify dtype option on import or set low_memory=False.\n",
      "  df_temp = pd.read_csv(run + pack, usecols=list(temp_features))\n"
     ]
    },
    {
     "name": "stdout",
     "output_type": "stream",
     "text": [
      "Packet to merge shape (162726, 451)\n",
      "Merged dataframe (5012864, 461)\n"
     ]
    },
    {
     "name": "stderr",
     "output_type": "stream",
     "text": [
      "/tmp/ipykernel_2771/1281596387.py:16: DtypeWarning: Columns (82,85,92,97,99,104,107,108,111,112,113,114,115,116,119,120,127,129,130,131,132,133,134,136,137,138,150,154,155,158,160,162,164,168,170,174,175,176,177,184,186,189,193,194,201,203,204,205,206,207,208,240,244,247,253,259,262,266,267,268,269,270,271,307,312,320,323,324,335,339,341,345,346,350,351,354,356,358,360,364,368,372,402,407,414,418,424,433,437,438,442,443,447,448,452,493,494,505,509,574,577,578) have mixed types. Specify dtype option on import or set low_memory=False.\n",
      "  df_temp = pd.read_csv(run + pack, usecols=list(temp_features))\n"
     ]
    },
    {
     "name": "stdout",
     "output_type": "stream",
     "text": [
      "Packet to merge shape (161066, 451)\n",
      "Merged dataframe (5173930, 461)\n",
      "Packet to merge shape (436, 451)\n",
      "Merged dataframe (5174366, 461)\n"
     ]
    },
    {
     "name": "stderr",
     "output_type": "stream",
     "text": [
      "/tmp/ipykernel_2771/1281596387.py:16: DtypeWarning: Columns (82,85,92,97,99,104,107,108,111,112,113,114,115,116,119,120,127,129,130,131,132,133,134,136,137,138,150,154,155,158,160,162,164,168,170,174,175,176,177,184,186,189,193,194,201,203,204,205,206,207,208,240,244,247,253,259,262,266,267,268,269,270,271,272,273,275,278,279,282,283,286,290,307,312,320,323,324,341,345,346,350,351,354,356,358,360,364,368,372,378,382,388,392,402,407,424,433,437,438,442,443,447,448,452,479,481,574,577,578) have mixed types. Specify dtype option on import or set low_memory=False.\n",
      "  df_temp = pd.read_csv(run + pack, usecols=list(temp_features))\n"
     ]
    },
    {
     "name": "stdout",
     "output_type": "stream",
     "text": [
      "Packet to merge shape (162060, 451)\n",
      "Merged dataframe (5336426, 461)\n",
      "Packet to merge shape (488, 451)\n",
      "Merged dataframe (5336914, 461)\n"
     ]
    },
    {
     "name": "stderr",
     "output_type": "stream",
     "text": [
      "/tmp/ipykernel_2771/1281596387.py:16: DtypeWarning: Columns (82,85,92,94,96,99,101,105,106,107,108,111,113,116,120,121,128,130,131,132,133,134,135,171,174,175,178,179,180,181,182,183,186,187,194,196,197,198,199,200,201,203,207,210,216,225,246,249,253,254,255,256,257,258,259,260,262,265,266,269,270,273,277,279,280,292,296,297,300,302,304,306,310,311,315,320,323,324,335,339,340,343,345,347,349,353,355,359,360,364,365,369,373,377,383,387,391,397,408,410,416,420,421,425,520,523,524) have mixed types. Specify dtype option on import or set low_memory=False.\n",
      "  df_temp = pd.read_csv(run + pack, usecols=list(temp_features))\n"
     ]
    },
    {
     "name": "stdout",
     "output_type": "stream",
     "text": [
      "Packet to merge shape (162812, 432)\n",
      "Merged dataframe (5499726, 461)\n",
      "Packet to merge shape (457, 432)\n",
      "Merged dataframe (5500183, 461)\n"
     ]
    },
    {
     "name": "stderr",
     "output_type": "stream",
     "text": [
      "/tmp/ipykernel_2771/1281596387.py:16: DtypeWarning: Columns (64,78,82,85,92,94,96,99,101,105,106,107,108,111,113,116,120,121,128,130,131,132,133,134,135,171,174,175,178,179,180,181,182,183,186,187,194,196,197,198,199,200,201,203,207,210,216,225,246,249,253,254,255,256,257,258,259,260,262,265,266,269,270,273,277,279,280,292,296,297,300,302,304,306,310,311,315,320,323,324,335,339,340,343,345,347,355,359,360,364,365,369,373,377,383,387,391,397,408,410,416,420,421,425,428,430,435,439,445,449,520,523,524) have mixed types. Specify dtype option on import or set low_memory=False.\n",
      "  df_temp = pd.read_csv(run + pack, usecols=list(temp_features))\n"
     ]
    },
    {
     "name": "stdout",
     "output_type": "stream",
     "text": [
      "Packet to merge shape (162835, 432)\n",
      "Merged dataframe (5663018, 461)\n"
     ]
    },
    {
     "name": "stderr",
     "output_type": "stream",
     "text": [
      "/tmp/ipykernel_2771/1281596387.py:16: DtypeWarning: Columns (82,85,92,94,96,99,101,105,106,107,108,111,113,116,120,121,128,130,131,132,133,134,135,171,174,175,178,179,180,181,182,183,186,187,194,196,197,198,199,200,201,203,207,210,216,225,246,249,253,254,255,256,257,258,259,260,262,265,266,269,270,273,277,279,280,292,296,297,300,302,304,306,310,311,315,320,323,324,335,339,340,343,345,347,349,353,355,359,360,364,365,369,373,377,383,387,391,397,408,410,416,420,421,425,520,523,524) have mixed types. Specify dtype option on import or set low_memory=False.\n",
      "  df_temp = pd.read_csv(run + pack, usecols=list(temp_features))\n"
     ]
    },
    {
     "name": "stdout",
     "output_type": "stream",
     "text": [
      "Packet to merge shape (161347, 432)\n",
      "Merged dataframe (5824365, 461)\n"
     ]
    },
    {
     "name": "stderr",
     "output_type": "stream",
     "text": [
      "/tmp/ipykernel_2771/1281596387.py:16: DtypeWarning: Columns (82,85,92,94,96,99,101,105,106,107,108,111,113,116,120,121,128,130,131,132,133,134,135,171,174,175,178,179,180,181,182,183,186,187,194,196,197,198,199,200,201,203,207,210,216,225,246,249,253,254,255,256,257,258,279,280,297,300,302,304,306,310,311,315,320,323,324,335,339,340,343,345,347,349,353,355,359,373,377,391,397,408,410,421,425,520,523,524) have mixed types. Specify dtype option on import or set low_memory=False.\n",
      "  df_temp = pd.read_csv(run + pack, usecols=list(temp_features))\n"
     ]
    },
    {
     "name": "stdout",
     "output_type": "stream",
     "text": [
      "Packet to merge shape (162440, 432)\n",
      "Merged dataframe (5986805, 461)\n"
     ]
    },
    {
     "name": "stderr",
     "output_type": "stream",
     "text": [
      "/tmp/ipykernel_2771/1281596387.py:16: DtypeWarning: Columns (82,85,92,94,96,99,101,105,106,107,108,111,113,116,120,121,128,130,131,132,133,134,135,171,174,175,178,179,180,181,182,183,186,187,194,196,197,198,199,200,201,203,207,210,216,225,246,249,253,254,255,256,257,258,259,260,262,265,266,269,270,273,277,279,280,292,296,297,300,302,304,306,310,311,315,320,323,324,335,339,340,343,345,347,349,353,355,359,360,364,365,369,373,377,383,387,391,397,408,410,416,420,421,425,520,523,524) have mixed types. Specify dtype option on import or set low_memory=False.\n",
      "  df_temp = pd.read_csv(run + pack, usecols=list(temp_features))\n"
     ]
    },
    {
     "name": "stdout",
     "output_type": "stream",
     "text": [
      "Packet to merge shape (161128, 432)\n",
      "Merged dataframe (6147933, 461)\n"
     ]
    },
    {
     "name": "stderr",
     "output_type": "stream",
     "text": [
      "/tmp/ipykernel_2771/1281596387.py:16: DtypeWarning: Columns (82,85,92,94,96,99,101,105,106,107,108,111,113,116,120,121,128,130,131,132,133,134,135,171,174,175,178,179,180,181,182,183,186,187,194,196,197,198,199,200,201,203,207,210,216,225,246,249,253,254,255,256,257,258,259,260,262,265,266,269,270,273,277,279,280,292,296,297,300,302,304,306,310,311,315,320,323,324,335,339,340,343,345,347,349,353,355,359,360,364,365,369,373,377,383,387,391,397,408,410,416,420,421,425,428,430,459,460,471,475,477,481,520,523,524) have mixed types. Specify dtype option on import or set low_memory=False.\n",
      "  df_temp = pd.read_csv(run + pack, usecols=list(temp_features))\n"
     ]
    },
    {
     "name": "stdout",
     "output_type": "stream",
     "text": [
      "Packet to merge shape (170667, 432)\n",
      "Merged dataframe (6318600, 461)\n",
      "Packet to merge shape (436, 432)\n",
      "Merged dataframe (6319036, 461)\n"
     ]
    },
    {
     "name": "stderr",
     "output_type": "stream",
     "text": [
      "/tmp/ipykernel_2771/1281596387.py:16: DtypeWarning: Columns (21,82,85,92,94,96,99,101,105,106,107,108,111,113,116,120,121,128,130,131,132,133,134,135,171,174,175,178,179,180,181,182,183,186,187,194,196,197,198,199,200,201,203,207,210,216,225,246,249,253,254,255,256,257,258,259,260,262,265,266,269,270,273,277,279,280,292,296,297,300,302,304,306,310,311,315,320,323,324,335,339,340,343,345,347,349,353,355,359,360,364,365,369,373,377,383,387,391,397,408,410,421,425,459,460,471,475,477,481,520,523,524) have mixed types. Specify dtype option on import or set low_memory=False.\n",
      "  df_temp = pd.read_csv(run + pack, usecols=list(temp_features))\n"
     ]
    },
    {
     "name": "stdout",
     "output_type": "stream",
     "text": [
      "Packet to merge shape (170040, 432)\n",
      "Merged dataframe (6489076, 461)\n"
     ]
    },
    {
     "name": "stderr",
     "output_type": "stream",
     "text": [
      "/tmp/ipykernel_2771/1281596387.py:16: DtypeWarning: Columns (82,85,92,94,96,99,101,105,106,107,108,111,113,116,120,121,128,130,131,132,133,134,135,171,174,175,178,179,180,181,182,183,186,187,194,196,197,198,199,200,201,203,207,210,216,225,246,249,253,254,255,256,257,258,259,260,262,265,266,269,270,273,277,279,280,297,300,302,304,306,310,311,315,320,323,324,335,339,340,343,345,347,349,353,355,359,373,377,391,397,408,410,416,420,421,425,428,430,520,523,524) have mixed types. Specify dtype option on import or set low_memory=False.\n",
      "  df_temp = pd.read_csv(run + pack, usecols=list(temp_features))\n"
     ]
    },
    {
     "name": "stdout",
     "output_type": "stream",
     "text": [
      "Packet to merge shape (167483, 432)\n",
      "Merged dataframe (6656559, 461)\n",
      "Packet to merge shape (457, 432)\n",
      "Merged dataframe (6657016, 461)\n",
      "Packet to merge shape (458, 456)\n",
      "Merged dataframe (6657474, 461)\n"
     ]
    },
    {
     "name": "stderr",
     "output_type": "stream",
     "text": [
      "/tmp/ipykernel_2771/1281596387.py:16: DtypeWarning: Columns (85,88,89,92,93,94,95,96,97,100,101,108,110,111,112,113,114,115,117,119,122,129,131,133,141,145,146,147,148,151,154,158,159,160,161,162,163,181,182,194,198,199,202,204,206,208,212,215,217,220,224,225,232,234,235,236,237,238,239,272,275,279,282,292,295,297,320,321,323,326,327,330,331,334,338,344,347,348,359,363,365,369,370,373,375,377,379,383,384,388,395,406,415,419,420,424,425,429,430,434,435,439,575,578,579) have mixed types. Specify dtype option on import or set low_memory=False.\n",
      "  df_temp = pd.read_csv(run + pack, usecols=list(temp_features))\n"
     ]
    },
    {
     "name": "stdout",
     "output_type": "stream",
     "text": [
      "Packet to merge shape (167401, 456)\n",
      "Merged dataframe (6824875, 461)\n"
     ]
    },
    {
     "name": "stderr",
     "output_type": "stream",
     "text": [
      "/tmp/ipykernel_2771/1281596387.py:16: DtypeWarning: Columns (85,88,89,92,93,94,95,96,97,100,101,108,110,111,112,113,114,115,117,119,122,129,131,133,141,145,146,147,148,151,154,158,159,160,161,162,163,166,168,181,182,194,198,199,202,204,206,208,212,215,217,220,224,225,232,234,235,236,237,238,239,272,275,279,282,292,295,297,320,321,323,326,327,330,331,334,338,344,347,348,359,363,365,369,370,373,375,377,379,383,384,388,395,406,415,419,420,424,575,578,579) have mixed types. Specify dtype option on import or set low_memory=False.\n",
      "  df_temp = pd.read_csv(run + pack, usecols=list(temp_features))\n"
     ]
    },
    {
     "name": "stdout",
     "output_type": "stream",
     "text": [
      "Packet to merge shape (170511, 456)\n",
      "Merged dataframe (6995386, 461)\n"
     ]
    },
    {
     "name": "stderr",
     "output_type": "stream",
     "text": [
      "/tmp/ipykernel_2771/1281596387.py:16: DtypeWarning: Columns (85,88,89,92,93,94,95,96,97,100,101,108,110,111,112,113,114,115,117,119,122,129,131,133,141,145,146,147,148,151,154,158,159,160,161,162,163,181,182,194,198,199,202,204,206,208,212,215,217,220,224,225,232,234,235,236,237,238,239,272,275,279,282,292,295,297,320,321,323,326,327,330,331,334,338,344,347,348,365,369,370,373,375,377,379,383,384,388,395,406,415,419,425,429,430,434,435,439,445,449,460,464,575,578,579) have mixed types. Specify dtype option on import or set low_memory=False.\n",
      "  df_temp = pd.read_csv(run + pack, usecols=list(temp_features))\n"
     ]
    },
    {
     "name": "stdout",
     "output_type": "stream",
     "text": [
      "Packet to merge shape (170700, 456)\n",
      "Merged dataframe (7166086, 461)\n"
     ]
    },
    {
     "name": "stderr",
     "output_type": "stream",
     "text": [
      "/tmp/ipykernel_2771/1281596387.py:16: DtypeWarning: Columns (21,85,88,89,92,93,94,95,96,97,100,101,108,110,111,112,113,114,115,117,119,122,129,131,133,141,145,146,147,148,151,154,158,159,160,161,162,163,166,168,181,182,194,198,199,202,204,206,208,212,215,217,220,224,225,232,234,235,236,237,238,239,272,275,279,282,292,295,297,320,321,323,326,327,330,331,334,338,344,347,348,365,369,370,373,375,377,379,383,384,388,395,406,415,419,425,429,430,434,435,439,575,578,579) have mixed types. Specify dtype option on import or set low_memory=False.\n",
      "  df_temp = pd.read_csv(run + pack, usecols=list(temp_features))\n"
     ]
    },
    {
     "name": "stdout",
     "output_type": "stream",
     "text": [
      "Packet to merge shape (159811, 456)\n",
      "Merged dataframe (7325897, 461)\n"
     ]
    },
    {
     "name": "stderr",
     "output_type": "stream",
     "text": [
      "/tmp/ipykernel_2771/1281596387.py:16: DtypeWarning: Columns (85,88,89,92,93,94,95,96,97,100,101,108,110,111,112,113,114,115,117,119,122,129,131,133,141,145,146,147,148,151,154,158,159,160,161,162,163,166,168,181,182,194,198,199,202,204,206,208,212,215,217,220,224,225,232,234,235,236,237,238,239,272,275,279,282,292,295,297,320,321,323,326,327,330,331,334,338,344,347,348,359,363,365,369,370,373,375,377,379,383,384,388,395,406,415,419,420,424,466,575,578,579) have mixed types. Specify dtype option on import or set low_memory=False.\n",
      "  df_temp = pd.read_csv(run + pack, usecols=list(temp_features))\n"
     ]
    },
    {
     "name": "stdout",
     "output_type": "stream",
     "text": [
      "Packet to merge shape (163211, 456)\n",
      "Merged dataframe (7489108, 461)\n",
      "Packet to merge shape (463, 456)\n",
      "Merged dataframe (7489571, 461)\n"
     ]
    },
    {
     "name": "stderr",
     "output_type": "stream",
     "text": [
      "/tmp/ipykernel_2771/1281596387.py:16: DtypeWarning: Columns (85,88,89,92,93,94,95,96,97,100,101,108,110,111,112,113,114,115,117,119,122,129,131,133,141,145,146,147,148,151,154,158,159,160,161,162,163,166,168,181,182,194,198,199,202,204,206,208,212,215,217,220,224,225,232,234,235,236,237,238,239,272,275,279,282,292,295,297,320,321,323,326,327,330,331,334,338,344,347,348,359,363,365,369,370,373,375,377,379,383,384,388,395,406,415,419,420,424,506,510,516,520,575,578,579) have mixed types. Specify dtype option on import or set low_memory=False.\n",
      "  df_temp = pd.read_csv(run + pack, usecols=list(temp_features))\n"
     ]
    },
    {
     "name": "stdout",
     "output_type": "stream",
     "text": [
      "Packet to merge shape (165132, 456)\n",
      "Merged dataframe (7654703, 461)\n"
     ]
    },
    {
     "name": "stderr",
     "output_type": "stream",
     "text": [
      "/tmp/ipykernel_2771/1281596387.py:16: DtypeWarning: Columns (21,78,85,88,89,92,93,94,95,96,97,100,101,108,110,111,112,113,114,115,117,119,122,129,131,133,141,145,146,147,148,151,154,158,159,160,161,162,163,181,182,194,198,199,202,204,206,208,212,215,217,220,224,225,232,234,235,236,237,238,239,272,275,279,282,292,295,297,320,321,323,326,327,330,331,334,338,344,347,348,359,363,365,369,370,373,375,377,379,383,384,388,395,406,415,419,420,424,425,429,430,434,435,439,440,444,469,470,506,510,516,520,526,528,531,535,537,541,575,578,579) have mixed types. Specify dtype option on import or set low_memory=False.\n",
      "  df_temp = pd.read_csv(run + pack, usecols=list(temp_features))\n"
     ]
    },
    {
     "name": "stdout",
     "output_type": "stream",
     "text": [
      "Packet to merge shape (161676, 456)\n",
      "Merged dataframe (7816379, 461)\n"
     ]
    },
    {
     "name": "stderr",
     "output_type": "stream",
     "text": [
      "/tmp/ipykernel_2771/1281596387.py:16: DtypeWarning: Columns (21,64,78,85,88,89,92,93,94,95,96,97,100,101,108,110,111,112,113,114,115,117,119,122,129,131,133,141,145,146,147,148,151,154,158,159,160,161,162,163,166,168,178,181,182,194,198,199,202,204,206,208,212,215,217,220,224,225,232,234,235,236,237,238,239,272,275,279,282,292,295,297,320,321,323,326,327,330,331,334,338,344,347,348,359,363,365,369,370,373,375,377,379,383,384,388,395,406,415,419,420,424,425,429,430,434,435,439,440,444,466,506,510,516,520,526,528,575,578,579) have mixed types. Specify dtype option on import or set low_memory=False.\n",
      "  df_temp = pd.read_csv(run + pack, usecols=list(temp_features))\n"
     ]
    },
    {
     "name": "stdout",
     "output_type": "stream",
     "text": [
      "Packet to merge shape (180749, 456)\n",
      "Merged dataframe (7997128, 461)\n"
     ]
    },
    {
     "name": "stderr",
     "output_type": "stream",
     "text": [
      "/tmp/ipykernel_2771/1281596387.py:16: DtypeWarning: Columns (82,85,92,94,96,99,103,106,112,117,121,122,123,124,125,130,133,134,137,138,139,140,141,142,145,146,153,155,156,157,158,159,160,164,166,169,173,174,181,183,184,185,186,187,188,226,229,230,241,245,246,249,251,253,255,259,260,264,271,272,287,291,292,295,297,299,309,312,316,317,318,319,320,321,322,323,325,328,329,332,333,336,340,343,347,364,373,377,381,387,392,396,397,401,405,407,413,417,418,422,540,543,544) have mixed types. Specify dtype option on import or set low_memory=False.\n",
      "  df_temp = pd.read_csv(run + pack, usecols=list(temp_features))\n"
     ]
    },
    {
     "name": "stdout",
     "output_type": "stream",
     "text": [
      "Packet to merge shape (160992, 445)\n",
      "Merged dataframe (8158120, 461)\n"
     ]
    },
    {
     "name": "stderr",
     "output_type": "stream",
     "text": [
      "/tmp/ipykernel_2771/1281596387.py:16: DtypeWarning: Columns (82,85,92,94,96,99,103,106,112,117,121,122,123,124,125,130,133,134,137,138,139,140,141,142,145,146,153,155,156,157,158,159,160,164,166,169,173,174,181,183,184,185,186,187,188,226,229,230,241,245,246,249,251,253,255,259,271,272,287,291,292,295,297,299,309,312,316,317,318,319,320,321,322,323,325,328,329,332,333,336,340,343,347,364,381,387,392,396,397,401,405,407,413,417,418,422,426,430,436,440,441,445,448,450,540,543,544) have mixed types. Specify dtype option on import or set low_memory=False.\n",
      "  df_temp = pd.read_csv(run + pack, usecols=list(temp_features))\n"
     ]
    },
    {
     "name": "stdout",
     "output_type": "stream",
     "text": [
      "Packet to merge shape (168629, 445)\n",
      "Merged dataframe (8326749, 461)\n"
     ]
    },
    {
     "name": "stderr",
     "output_type": "stream",
     "text": [
      "/tmp/ipykernel_2771/1281596387.py:16: DtypeWarning: Columns (82,85,92,94,96,99,103,106,112,117,121,122,123,124,125,130,133,134,137,138,139,140,141,142,145,146,153,155,156,157,158,159,160,164,166,169,173,174,181,183,184,185,186,187,188,226,229,230,241,245,246,249,251,253,255,259,260,264,271,272,287,291,292,295,297,299,309,312,316,317,318,319,320,321,322,323,325,328,329,332,333,336,340,343,347,364,381,387,392,396,397,401,405,407,413,417,418,422,426,430,431,435,436,440,441,445,448,450,540,543,544) have mixed types. Specify dtype option on import or set low_memory=False.\n",
      "  df_temp = pd.read_csv(run + pack, usecols=list(temp_features))\n"
     ]
    },
    {
     "name": "stdout",
     "output_type": "stream",
     "text": [
      "Packet to merge shape (157964, 445)\n",
      "Merged dataframe (8484713, 461)\n"
     ]
    },
    {
     "name": "stderr",
     "output_type": "stream",
     "text": [
      "/tmp/ipykernel_2771/1281596387.py:16: DtypeWarning: Columns (82,85,92,94,96,99,103,106,112,117,121,122,123,124,125,130,133,134,137,138,139,140,141,142,145,146,153,155,156,157,158,159,160,164,166,169,173,174,181,183,184,185,186,187,188,226,229,230,241,245,246,249,251,253,255,259,271,272,287,291,292,295,297,299,309,312,316,317,318,319,320,321,343,347,364,381,387,392,396,397,401,405,407,413,417,418,422,448,450,455,459,465,469,540,543,544) have mixed types. Specify dtype option on import or set low_memory=False.\n",
      "  df_temp = pd.read_csv(run + pack, usecols=list(temp_features))\n"
     ]
    },
    {
     "name": "stdout",
     "output_type": "stream",
     "text": [
      "Packet to merge shape (163379, 445)\n",
      "Merged dataframe (8648092, 461)\n"
     ]
    },
    {
     "name": "stderr",
     "output_type": "stream",
     "text": [
      "/tmp/ipykernel_2771/1281596387.py:16: DtypeWarning: Columns (82,85,92,94,96,99,103,106,112,117,121,122,123,124,125,130,133,134,137,138,139,140,141,142,145,146,153,155,156,157,158,159,160,164,166,169,173,174,181,183,184,185,186,187,188,226,229,230,241,245,246,249,251,253,255,259,271,272,287,291,292,295,297,299,309,312,316,317,318,319,320,321,322,323,325,328,329,332,333,336,340,343,347,381,405,407,540,543,544) have mixed types. Specify dtype option on import or set low_memory=False.\n",
      "  df_temp = pd.read_csv(run + pack, usecols=list(temp_features))\n"
     ]
    },
    {
     "name": "stdout",
     "output_type": "stream",
     "text": [
      "Packet to merge shape (160879, 445)\n",
      "Merged dataframe (8808971, 461)\n",
      "Packet to merge shape (464, 445)\n",
      "Merged dataframe (8809435, 461)\n"
     ]
    },
    {
     "name": "stderr",
     "output_type": "stream",
     "text": [
      "/tmp/ipykernel_2771/1281596387.py:16: DtypeWarning: Columns (82,85,92,94,96,99,103,106,112,117,121,122,123,124,125,130,133,134,137,138,139,140,141,142,145,146,153,155,156,157,158,159,160,164,166,169,173,174,181,183,184,185,186,187,188,226,229,230,241,245,246,249,251,253,255,259,271,272,287,291,292,295,297,299,309,312,316,317,318,319,320,321,322,323,325,328,329,332,333,336,340,343,347,364,373,377,381,387,392,396,397,401,405,407,413,417,418,422,426,430,436,440,475,476,487,491,493,497,504,540,543,544) have mixed types. Specify dtype option on import or set low_memory=False.\n",
      "  df_temp = pd.read_csv(run + pack, usecols=list(temp_features))\n"
     ]
    },
    {
     "name": "stdout",
     "output_type": "stream",
     "text": [
      "Packet to merge shape (170371, 445)\n",
      "Merged dataframe (8979806, 461)\n"
     ]
    },
    {
     "name": "stderr",
     "output_type": "stream",
     "text": [
      "/tmp/ipykernel_2771/1281596387.py:16: DtypeWarning: Columns (82,85,92,94,96,99,103,106,112,117,121,122,123,124,125,130,133,134,137,138,139,140,141,142,145,146,153,155,156,157,158,159,160,164,166,169,173,174,181,183,184,185,186,187,188,226,229,230,241,245,246,249,251,253,255,259,271,272,287,291,292,295,297,299,309,312,316,317,318,319,320,321,322,323,325,328,329,332,333,336,340,343,347,364,381,387,392,396,397,401,405,407,413,417,418,422,426,430,431,435,436,440,475,476,487,491,493,497,540,543,544) have mixed types. Specify dtype option on import or set low_memory=False.\n",
      "  df_temp = pd.read_csv(run + pack, usecols=list(temp_features))\n"
     ]
    },
    {
     "name": "stdout",
     "output_type": "stream",
     "text": [
      "Packet to merge shape (168838, 445)\n",
      "Merged dataframe (9148644, 461)\n"
     ]
    },
    {
     "name": "stderr",
     "output_type": "stream",
     "text": [
      "/tmp/ipykernel_2771/1281596387.py:16: DtypeWarning: Columns (82,85,92,94,96,99,103,106,112,117,121,122,123,124,125,130,133,134,137,138,139,140,141,142,145,146,153,155,156,157,158,159,160,164,166,169,173,174,181,183,184,185,186,187,188,226,229,230,241,245,246,249,251,253,255,259,271,272,287,291,292,295,297,299,309,312,316,317,318,319,320,321,322,323,325,328,329,332,333,336,340,343,347,364,381,387,392,396,397,401,405,407,413,417,418,422,540,543,544) have mixed types. Specify dtype option on import or set low_memory=False.\n",
      "  df_temp = pd.read_csv(run + pack, usecols=list(temp_features))\n"
     ]
    },
    {
     "name": "stdout",
     "output_type": "stream",
     "text": [
      "Packet to merge shape (160581, 445)\n",
      "Merged dataframe (9309225, 461)\n"
     ]
    },
    {
     "name": "stderr",
     "output_type": "stream",
     "text": [
      "/tmp/ipykernel_2771/1281596387.py:16: DtypeWarning: Columns (21,82,85,92,94,96,99,103,106,112,117,121,122,123,124,125,130,133,134,137,138,139,140,141,142,145,146,153,155,156,157,158,159,160,164,166,169,173,174,181,183,184,185,186,187,188,226,229,230,241,245,246,249,251,253,255,259,271,272,287,291,292,295,297,299,309,312,316,317,318,319,320,321,322,323,325,328,329,332,333,336,340,343,347,364,381,387,392,396,397,401,405,407,413,417,418,422,426,430,436,440,441,445,540,543,544) have mixed types. Specify dtype option on import or set low_memory=False.\n",
      "  df_temp = pd.read_csv(run + pack, usecols=list(temp_features))\n"
     ]
    },
    {
     "name": "stdout",
     "output_type": "stream",
     "text": [
      "Packet to merge shape (169067, 445)\n",
      "Merged dataframe (9478292, 461)\n"
     ]
    },
    {
     "name": "stderr",
     "output_type": "stream",
     "text": [
      "/tmp/ipykernel_2771/1281596387.py:16: DtypeWarning: Columns (82,86,87,88,89,91,94,101,103,105,109,114,117,118,121,122,123,124,125,126,129,130,137,139,140,141,142,143,144,148,150,153,157,158,165,167,168,169,170,171,172,204,208,211,217,223,224,236,240,241,244,246,248,250,254,258,265,268,269,280,284,285,288,290,292,294,298,314,318,319,323,324,328,330,334,342,345,349,350,351,352,353,354,357,359,365,375,382,384,390,394,395,396,398,401,402,405,406,409,413,415,419,420,424,425,429,554,557,558) have mixed types. Specify dtype option on import or set low_memory=False.\n",
      "  df_temp = pd.read_csv(run + pack, usecols=list(temp_features))\n"
     ]
    },
    {
     "name": "stdout",
     "output_type": "stream",
     "text": [
      "Packet to merge shape (160884, 447)\n",
      "Merged dataframe (9639176, 461)\n"
     ]
    },
    {
     "name": "stderr",
     "output_type": "stream",
     "text": [
      "/tmp/ipykernel_2771/1281596387.py:16: DtypeWarning: Columns (82,86,87,88,89,91,94,101,103,105,109,114,117,118,121,122,123,124,125,126,129,130,137,139,140,141,142,143,144,148,150,153,157,158,165,167,168,169,170,171,172,204,208,211,217,223,224,236,240,241,244,246,248,250,254,258,265,268,269,280,284,285,288,290,292,294,298,314,318,319,323,324,328,330,334,342,345,349,350,351,352,353,354,365,375,382,384,395,396,398,401,402,405,406,409,413,554,557,558) have mixed types. Specify dtype option on import or set low_memory=False.\n",
      "  df_temp = pd.read_csv(run + pack, usecols=list(temp_features))\n"
     ]
    },
    {
     "name": "stdout",
     "output_type": "stream",
     "text": [
      "Packet to merge shape (159353, 447)\n",
      "Merged dataframe (9798529, 461)\n"
     ]
    },
    {
     "name": "stderr",
     "output_type": "stream",
     "text": [
      "/tmp/ipykernel_2771/1281596387.py:16: DtypeWarning: Columns (82,86,87,88,89,91,94,101,103,105,109,114,117,118,121,122,123,124,125,126,129,130,137,139,140,141,142,143,144,148,150,153,157,158,165,167,168,169,170,171,172,204,208,211,217,223,224,236,240,241,244,246,248,250,254,258,265,268,269,280,284,285,288,290,292,294,298,314,318,319,323,324,328,330,334,342,345,349,350,351,352,353,354,365,375,382,384,395,396,398,401,402,405,406,409,413,420,424,425,429,554,557,558) have mixed types. Specify dtype option on import or set low_memory=False.\n",
      "  df_temp = pd.read_csv(run + pack, usecols=list(temp_features))\n"
     ]
    },
    {
     "name": "stdout",
     "output_type": "stream",
     "text": [
      "Packet to merge shape (166402, 447)\n",
      "Merged dataframe (9964931, 461)\n"
     ]
    },
    {
     "name": "stderr",
     "output_type": "stream",
     "text": [
      "/tmp/ipykernel_2771/1281596387.py:16: DtypeWarning: Columns (82,86,87,88,89,91,94,101,103,105,109,114,117,118,121,122,123,124,125,126,129,130,137,139,140,141,142,143,144,148,150,153,157,158,165,167,168,169,170,171,172,204,208,211,217,223,224,236,240,241,244,246,248,250,254,258,265,268,269,280,284,285,288,290,292,294,298,314,318,324,328,330,334,342,345,349,350,351,352,353,354,365,375,382,384,390,394,395,396,398,401,402,405,406,409,413,415,419,420,424,425,429,554,557,558) have mixed types. Specify dtype option on import or set low_memory=False.\n",
      "  df_temp = pd.read_csv(run + pack, usecols=list(temp_features))\n"
     ]
    },
    {
     "name": "stdout",
     "output_type": "stream",
     "text": [
      "Packet to merge shape (158876, 447)\n",
      "Merged dataframe (10123807, 461)\n",
      "Packet to merge shape (1083, 447)\n"
     ]
    },
    {
     "name": "stderr",
     "output_type": "stream",
     "text": [
      "/tmp/ipykernel_2771/1281596387.py:16: DtypeWarning: Columns (21,78,82,86,87,88,89,148,150,153,157,158,165,167,168,169,170,171,172,223,224,241,244,246,248,258,265,268,269,285,288,290,292,294,298,324,328,330,334,342,345,349,350,351,352,353,354,365,382,395,396,398,401,402,405,406,409,413,445,449,465,469) have mixed types. Specify dtype option on import or set low_memory=False.\n",
      "  df_temp = pd.read_csv(run + pack, usecols=list(temp_features))\n"
     ]
    },
    {
     "name": "stdout",
     "output_type": "stream",
     "text": [
      "Merged dataframe (10124890, 461)\n"
     ]
    },
    {
     "name": "stderr",
     "output_type": "stream",
     "text": [
      "/tmp/ipykernel_2771/1281596387.py:16: DtypeWarning: Columns (78,82,86,87,88,89,91,94,101,103,105,109,114,117,118,121,122,123,124,125,126,129,130,137,139,140,141,142,143,144,148,150,153,157,158,165,167,168,169,170,171,172,204,208,211,217,223,224,236,240,241,244,246,248,250,254,258,265,268,269,280,284,285,288,290,292,294,298,314,318,319,323,324,328,330,334,342,345,349,350,351,352,353,354,357,359,365,375,382,390,394,395,396,398,401,402,405,406,409,413,415,419,420,424,425,429,455,457,473,477,488,492,554,557,558) have mixed types. Specify dtype option on import or set low_memory=False.\n",
      "  df_temp = pd.read_csv(run + pack, usecols=list(temp_features))\n"
     ]
    },
    {
     "name": "stdout",
     "output_type": "stream",
     "text": [
      "Packet to merge shape (170991, 447)\n",
      "Merged dataframe (10295881, 461)\n"
     ]
    },
    {
     "name": "stderr",
     "output_type": "stream",
     "text": [
      "/tmp/ipykernel_2771/1281596387.py:16: DtypeWarning: Columns (78,82,86,87,88,89,91,94,101,103,105,109,114,117,118,121,122,123,124,125,126,129,130,137,139,140,141,142,143,144,148,150,153,157,158,165,167,168,169,170,171,172,204,208,211,217,223,224,236,240,241,244,246,248,250,254,258,265,268,269,280,284,285,288,290,292,294,298,342,345,349,350,351,352,353,354,382,384,395,396,398,401,402,405,406,409,413,455,457,554,557,558) have mixed types. Specify dtype option on import or set low_memory=False.\n",
      "  df_temp = pd.read_csv(run + pack, usecols=list(temp_features))\n"
     ]
    },
    {
     "name": "stdout",
     "output_type": "stream",
     "text": [
      "Packet to merge shape (164353, 447)\n",
      "Merged dataframe (10460234, 461)\n"
     ]
    },
    {
     "name": "stderr",
     "output_type": "stream",
     "text": [
      "/tmp/ipykernel_2771/1281596387.py:16: DtypeWarning: Columns (78,82,86,87,88,89,91,94,101,103,105,109,114,117,118,121,122,123,124,125,126,129,130,137,139,140,141,142,143,144,148,150,153,157,158,165,167,168,169,170,171,172,204,208,211,217,223,224,236,240,241,244,246,248,250,254,258,265,268,269,280,284,285,288,290,292,294,298,342,345,349,350,351,352,353,354,382,384,395,396,398,401,402,405,406,409,413,455,457,493,494,511,515,517,521,554,557,558) have mixed types. Specify dtype option on import or set low_memory=False.\n",
      "  df_temp = pd.read_csv(run + pack, usecols=list(temp_features))\n"
     ]
    },
    {
     "name": "stdout",
     "output_type": "stream",
     "text": [
      "Packet to merge shape (159538, 447)\n",
      "Merged dataframe (10619772, 461)\n"
     ]
    },
    {
     "name": "stderr",
     "output_type": "stream",
     "text": [
      "/tmp/ipykernel_2771/1281596387.py:16: DtypeWarning: Columns (78,82,86,87,88,89,91,94,101,103,105,109,114,117,118,121,122,123,124,125,126,129,130,137,139,140,141,142,143,144,148,150,153,157,158,165,167,168,169,170,171,172,204,208,211,217,223,224,236,240,241,244,246,248,250,254,258,265,268,269,280,284,285,288,290,292,294,298,314,318,319,323,324,328,330,334,342,345,349,350,351,352,353,354,357,359,365,375,382,390,394,395,396,398,401,402,405,406,409,413,415,419,420,424,425,429,455,457,554,557,558) have mixed types. Specify dtype option on import or set low_memory=False.\n",
      "  df_temp = pd.read_csv(run + pack, usecols=list(temp_features))\n"
     ]
    },
    {
     "name": "stdout",
     "output_type": "stream",
     "text": [
      "Packet to merge shape (159439, 447)\n",
      "Merged dataframe (10779211, 461)\n"
     ]
    },
    {
     "name": "stderr",
     "output_type": "stream",
     "text": [
      "/tmp/ipykernel_2771/1281596387.py:16: DtypeWarning: Columns (82,86,87,88,89,91,94,101,103,105,109,114,117,118,121,122,123,124,125,126,129,130,137,139,140,141,142,143,144,148,150,153,157,158,165,167,168,169,170,171,172,204,208,211,217,223,224,236,240,241,244,246,248,250,254,258,265,268,269,280,284,285,288,290,292,294,298,319,323,330,334,342,345,349,350,351,352,353,354,357,359,365,375,395,396,398,401,402,405,406,409,413,554,557,558) have mixed types. Specify dtype option on import or set low_memory=False.\n",
      "  df_temp = pd.read_csv(run + pack, usecols=list(temp_features))\n"
     ]
    },
    {
     "name": "stdout",
     "output_type": "stream",
     "text": [
      "Packet to merge shape (159545, 447)\n",
      "Merged dataframe (10938756, 461)\n"
     ]
    },
    {
     "name": "stderr",
     "output_type": "stream",
     "text": [
      "/tmp/ipykernel_2771/1281596387.py:16: DtypeWarning: Columns (78,82,83,84,85,87,90,97,99,101,102,113,116,117,120,121,122,123,124,125,128,129,136,138,139,140,141,142,143,162,165,169,170,171,172,173,174,197,199,202,206,207,214,216,217,218,219,220,221,253,257,260,266,274,279,280,292,296,297,300,302,304,306,310,315,318,319,330,334,341,345,346,349,351,353,355,359,377,383,394,398,399,403,404,408,409,413,417,419,531,534,535) have mixed types. Specify dtype option on import or set low_memory=False.\n",
      "  df_temp = pd.read_csv(run + pack, usecols=list(temp_features))\n"
     ]
    },
    {
     "name": "stdout",
     "output_type": "stream",
     "text": [
      "Packet to merge shape (162788, 440)\n",
      "Merged dataframe (11101544, 461)\n"
     ]
    },
    {
     "name": "stderr",
     "output_type": "stream",
     "text": [
      "/tmp/ipykernel_2771/1281596387.py:16: DtypeWarning: Columns (78,82,83,84,85,87,90,97,99,101,102,113,116,117,120,121,122,123,124,125,128,129,136,138,139,140,141,142,143,162,165,169,170,171,172,173,174,175,176,178,181,182,185,186,189,193,197,199,202,206,207,214,216,217,218,219,220,221,253,257,260,266,274,279,280,292,296,297,300,302,304,306,310,315,318,319,330,334,341,345,346,349,351,353,355,359,363,367,377,383,387,391,394,398,399,403,404,408,409,413,417,419,427,531,534,535) have mixed types. Specify dtype option on import or set low_memory=False.\n",
      "  df_temp = pd.read_csv(run + pack, usecols=list(temp_features))\n"
     ]
    },
    {
     "name": "stdout",
     "output_type": "stream",
     "text": [
      "Packet to merge shape (167798, 440)\n",
      "Merged dataframe (11269342, 461)\n"
     ]
    },
    {
     "name": "stderr",
     "output_type": "stream",
     "text": [
      "/tmp/ipykernel_2771/1281596387.py:16: DtypeWarning: Columns (78,82,83,84,85,87,90,97,99,101,102,113,116,117,120,121,122,123,124,125,128,129,136,138,139,140,141,142,143,162,165,169,170,171,172,173,174,175,176,178,181,182,185,186,189,193,197,199,202,206,207,214,216,217,218,219,220,221,253,257,260,266,274,279,280,292,296,297,300,302,304,306,310,315,318,319,341,345,346,349,351,353,355,359,432,434,531,534,535) have mixed types. Specify dtype option on import or set low_memory=False.\n",
      "  df_temp = pd.read_csv(run + pack, usecols=list(temp_features))\n"
     ]
    },
    {
     "name": "stdout",
     "output_type": "stream",
     "text": [
      "Packet to merge shape (166842, 440)\n",
      "Merged dataframe (11436184, 461)\n"
     ]
    },
    {
     "name": "stderr",
     "output_type": "stream",
     "text": [
      "/tmp/ipykernel_2771/1281596387.py:16: DtypeWarning: Columns (78,82,83,84,85,87,90,97,99,101,102,113,116,117,120,121,122,123,124,125,128,129,136,138,139,140,141,142,143,162,165,169,170,171,172,173,174,175,176,178,181,182,185,186,189,193,197,199,202,206,207,214,216,217,218,219,220,221,253,257,260,266,274,279,280,292,296,297,300,302,304,306,310,315,318,319,336,340,341,345,346,349,351,353,355,359,377,383,394,398,399,403,404,408,409,413,417,419,432,434,531,534,535) have mixed types. Specify dtype option on import or set low_memory=False.\n",
      "  df_temp = pd.read_csv(run + pack, usecols=list(temp_features))\n"
     ]
    },
    {
     "name": "stdout",
     "output_type": "stream",
     "text": [
      "Packet to merge shape (160378, 440)\n",
      "Merged dataframe (11596562, 461)\n",
      "Packet to merge shape (440, 440)\n",
      "Merged dataframe (11597002, 461)\n"
     ]
    },
    {
     "name": "stderr",
     "output_type": "stream",
     "text": [
      "/tmp/ipykernel_2771/1281596387.py:16: DtypeWarning: Columns (78,82,83,84,85,87,90,97,99,101,102,113,116,117,120,121,122,123,124,125,128,129,136,138,139,140,141,142,143,162,165,169,170,171,172,173,174,175,176,178,181,182,185,186,189,193,197,199,202,206,207,214,216,217,218,219,220,221,253,257,260,266,274,279,280,292,296,297,300,302,304,306,310,315,318,319,330,334,336,340,341,345,346,349,351,353,355,359,363,367,377,383,387,391,399,403,409,413,417,419,432,434,445,446,457,461,463,467,470,475,479,485,489,531,534,535) have mixed types. Specify dtype option on import or set low_memory=False.\n",
      "  df_temp = pd.read_csv(run + pack, usecols=list(temp_features))\n"
     ]
    },
    {
     "name": "stdout",
     "output_type": "stream",
     "text": [
      "Packet to merge shape (161257, 440)\n",
      "Merged dataframe (11758259, 461)\n"
     ]
    },
    {
     "name": "stderr",
     "output_type": "stream",
     "text": [
      "/tmp/ipykernel_2771/1281596387.py:16: DtypeWarning: Columns (78,82,83,84,85,87,90,97,99,101,102,113,116,117,120,121,122,123,124,125,128,129,136,138,139,140,141,142,143,162,165,169,170,171,172,173,174,175,176,178,181,182,185,186,189,193,197,199,202,206,207,214,216,217,218,219,220,221,253,257,260,266,274,279,280,292,296,297,300,302,304,306,310,315,318,319,330,334,336,340,341,345,346,349,351,353,355,359,363,367,377,383,387,391,394,398,404,408,409,413,417,419,445,446,457,461,463,467,485,489,531,534,535) have mixed types. Specify dtype option on import or set low_memory=False.\n",
      "  df_temp = pd.read_csv(run + pack, usecols=list(temp_features))\n"
     ]
    },
    {
     "name": "stdout",
     "output_type": "stream",
     "text": [
      "Packet to merge shape (168831, 440)\n",
      "Merged dataframe (11927090, 461)\n"
     ]
    },
    {
     "name": "stderr",
     "output_type": "stream",
     "text": [
      "/tmp/ipykernel_2771/1281596387.py:16: DtypeWarning: Columns (78,82,83,84,85,87,90,97,99,101,102,113,116,117,120,121,122,123,124,125,128,129,136,138,139,140,141,142,143,162,165,169,170,171,172,173,174,175,176,178,181,182,185,186,189,193,197,199,202,206,207,214,216,217,218,219,220,221,253,257,260,266,274,279,280,292,296,297,300,302,304,306,310,315,318,319,341,345,346,349,351,353,355,359,377,383,394,398,399,403,404,408,409,413,417,419,531,534,535) have mixed types. Specify dtype option on import or set low_memory=False.\n",
      "  df_temp = pd.read_csv(run + pack, usecols=list(temp_features))\n"
     ]
    },
    {
     "name": "stdout",
     "output_type": "stream",
     "text": [
      "Packet to merge shape (157276, 440)\n",
      "Merged dataframe (12084366, 461)\n"
     ]
    },
    {
     "name": "stderr",
     "output_type": "stream",
     "text": [
      "/tmp/ipykernel_2771/1281596387.py:16: DtypeWarning: Columns (78,82,83,84,85,87,90,97,99,101,102,113,116,117,120,121,122,123,124,125,128,129,136,138,139,140,141,142,143,162,165,169,170,171,172,173,174,175,176,178,181,182,185,186,189,193,197,199,202,206,207,214,216,217,218,219,220,221,253,257,260,266,274,279,280,292,296,297,300,302,304,306,310,315,318,319,330,334,336,340,341,345,346,349,351,353,355,359,363,367,377,383,394,398,399,403,409,413,531,534,535) have mixed types. Specify dtype option on import or set low_memory=False.\n",
      "  df_temp = pd.read_csv(run + pack, usecols=list(temp_features))\n"
     ]
    },
    {
     "name": "stdout",
     "output_type": "stream",
     "text": [
      "Packet to merge shape (159920, 440)\n",
      "Merged dataframe (12244286, 461)\n"
     ]
    },
    {
     "name": "stderr",
     "output_type": "stream",
     "text": [
      "/tmp/ipykernel_2771/1281596387.py:16: DtypeWarning: Columns (21,78,82,83,84,85,87,90,97,99,101,102,113,116,117,120,121,122,123,124,125,128,129,136,138,139,140,141,142,143,162,165,169,170,171,172,173,174,175,176,178,181,182,185,186,189,193,197,199,202,206,207,214,216,217,218,219,220,221,253,257,260,266,274,279,280,292,296,297,300,302,304,306,310,315,318,319,330,334,336,340,341,345,346,349,351,353,355,359,363,367,377,383,387,391,394,398,399,403,404,408,409,413,417,419,531,534,535) have mixed types. Specify dtype option on import or set low_memory=False.\n",
      "  df_temp = pd.read_csv(run + pack, usecols=list(temp_features))\n"
     ]
    },
    {
     "name": "stdout",
     "output_type": "stream",
     "text": [
      "Packet to merge shape (160817, 440)\n",
      "Merged dataframe (12405103, 461)\n"
     ]
    },
    {
     "name": "stderr",
     "output_type": "stream",
     "text": [
      "/tmp/ipykernel_2771/1281596387.py:16: DtypeWarning: Columns (21,78,81,88,89,93,95,97,100,105,108,109,112,113,114,115,116,117,120,121,128,130,131,132,133,134,135,138,142,143,144,145,146,150,153,159,164,169,171,174,178,179,186,188,189,190,191,192,193,225,226,238,242,243,246,248,250,252,256,258,282,285,286,297,301,302,305,307,309,311,315,318,321,325,326,327,328,329,330,333,335,340,341,343,346,347,350,351,354,358,360,363,367,368,372,374,377,381,383,387,398,408,413,422,429,433,434,438,439,443,2505,2508,2509) have mixed types. Specify dtype option on import or set low_memory=False.\n",
      "  df_temp = pd.read_csv(run + pack, usecols=list(temp_features))\n"
     ]
    },
    {
     "name": "stdout",
     "output_type": "stream",
     "text": [
      "Packet to merge shape (162444, 482)\n",
      "Merged dataframe (12567547, 482)\n"
     ]
    },
    {
     "name": "stderr",
     "output_type": "stream",
     "text": [
      "/tmp/ipykernel_2771/1281596387.py:16: DtypeWarning: Columns (21,64,78,81,88,89,93,95,97,100,105,108,109,112,113,114,115,116,117,120,121,128,130,131,132,133,134,135,138,142,143,144,145,146,150,153,159,164,169,171,174,178,179,186,188,189,190,191,192,193,225,226,238,242,243,246,248,250,252,256,258,282,285,286,297,301,302,305,307,309,311,315,318,321,325,326,327,328,329,330,333,335,340,341,343,346,347,350,351,354,358,360,363,367,368,372,374,377,381,383,387,398,408,413,422,429,433,434,438,439,443,448,452,465,466,477,481,483,487,489,493,500,504,510,514,526,530,536,540,567,714,715,716,717,721,724,726,727,729,835,863,866,867,868,2505,2508,2509) have mixed types. Specify dtype option on import or set low_memory=False.\n",
      "  df_temp = pd.read_csv(run + pack, usecols=list(temp_features))\n"
     ]
    },
    {
     "name": "stdout",
     "output_type": "stream",
     "text": [
      "Packet to merge shape (258724, 482)\n",
      "Merged dataframe (12826271, 482)\n"
     ]
    },
    {
     "name": "stderr",
     "output_type": "stream",
     "text": [
      "/tmp/ipykernel_2771/1281596387.py:16: DtypeWarning: Columns (21,64,89,97,105,108,109,112,113,114,115,116,117,120,121,128,130,131,132,133,134,135,138,142,143,144,145,146,150,153,159,164,169,171,174,178,179,186,188,189,190,191,192,193,225,226,238,242,243,246,248,250,252,256,258,282,285,286,297,301,302,305,307,309,311,315,318,321,325,326,327,328,329,330,333,335,340,341,343,346,347,350,351,354,358,360,363,367,368,372,374,377,381,383,387,398,408,413,422,429,433,434,438,439,443,448,452,465,466,477,481,483,487,489,493,500,504,510,514,567,714,715,716,717,721,724,726,727,729,835,863,866,867,868,2505,2508,2509) have mixed types. Specify dtype option on import or set low_memory=False.\n",
      "  df_temp = pd.read_csv(run + pack, usecols=list(temp_features))\n"
     ]
    },
    {
     "name": "stdout",
     "output_type": "stream",
     "text": [
      "Packet to merge shape (263070, 482)\n",
      "Merged dataframe (13089341, 482)\n"
     ]
    },
    {
     "name": "stderr",
     "output_type": "stream",
     "text": [
      "/tmp/ipykernel_2771/1281596387.py:16: DtypeWarning: Columns (21,64,89,97,105,108,109,112,113,114,115,116,117,120,121,128,130,131,132,133,134,135,138,142,143,144,145,146,150,153,159,164,169,171,174,178,179,186,188,189,190,191,192,193,225,226,238,242,243,246,248,250,252,256,258,282,285,286,297,301,302,305,307,309,311,315,318,321,325,326,327,328,329,330,333,335,340,341,343,346,347,350,351,354,358,360,363,367,368,372,374,377,381,383,387,398,408,413,422,429,433,434,438,439,443,448,452,465,466,477,481,483,487,489,493,500,504,510,514,526,530,536,540,567,714,715,716,717,721,724,726,727,729,835,863,866,867,868,2505,2508,2509) have mixed types. Specify dtype option on import or set low_memory=False.\n",
      "  df_temp = pd.read_csv(run + pack, usecols=list(temp_features))\n"
     ]
    },
    {
     "name": "stdout",
     "output_type": "stream",
     "text": [
      "Packet to merge shape (261138, 482)\n",
      "Merged dataframe (13350479, 482)\n"
     ]
    },
    {
     "name": "stderr",
     "output_type": "stream",
     "text": [
      "/tmp/ipykernel_2771/1281596387.py:16: DtypeWarning: Columns (21,64,89,97,105,108,109,112,113,114,115,116,117,120,121,128,130,131,132,133,134,135,138,142,143,144,145,146,150,153,159,164,169,171,174,178,179,186,188,189,190,191,192,193,225,226,238,242,243,246,248,250,252,256,258,282,285,286,297,301,302,305,307,309,311,315,318,321,325,326,327,328,329,330,333,335,340,341,343,346,347,350,351,354,358,360,363,367,368,372,374,377,381,383,387,398,408,413,422,429,433,434,438,439,443,448,452,465,466,477,481,483,487,489,493,500,504,510,514,526,530,536,540,567,714,715,716,717,721,724,726,727,729,835,863,866,867,868,2505,2508,2509) have mixed types. Specify dtype option on import or set low_memory=False.\n",
      "  df_temp = pd.read_csv(run + pack, usecols=list(temp_features))\n"
     ]
    },
    {
     "name": "stdout",
     "output_type": "stream",
     "text": [
      "Packet to merge shape (262263, 482)\n",
      "Merged dataframe (13612742, 482)\n"
     ]
    },
    {
     "name": "stderr",
     "output_type": "stream",
     "text": [
      "/tmp/ipykernel_2771/1281596387.py:16: DtypeWarning: Columns (21,64,89,97,105,108,109,112,113,114,115,116,117,120,121,128,130,131,132,133,134,135,138,142,143,144,145,146,150,153,159,164,169,171,174,178,179,186,188,189,190,191,192,193,225,226,238,242,243,246,248,250,252,256,258,282,285,286,297,301,302,305,307,309,311,315,318,321,325,326,327,328,329,330,333,335,340,341,343,346,347,350,351,354,358,360,363,367,368,372,374,377,381,383,387,398,408,413,422,429,433,434,438,439,443,448,452,465,466,477,481,483,487,489,493,500,504,510,514,526,530,536,540,714,715,716,717,721,724,726,727,729,835,863,866,867,868,2505,2508,2509) have mixed types. Specify dtype option on import or set low_memory=False.\n",
      "  df_temp = pd.read_csv(run + pack, usecols=list(temp_features))\n"
     ]
    },
    {
     "name": "stdout",
     "output_type": "stream",
     "text": [
      "Packet to merge shape (267442, 482)\n",
      "Merged dataframe (13880184, 482)\n"
     ]
    },
    {
     "name": "stderr",
     "output_type": "stream",
     "text": [
      "/tmp/ipykernel_2771/1281596387.py:16: DtypeWarning: Columns (21,64,89,97,105,108,109,112,113,114,115,116,117,120,121,128,130,131,132,133,134,135,138,142,143,144,145,146,150,153,159,164,169,171,174,178,179,186,188,189,190,191,192,193,225,226,238,242,243,246,248,250,252,256,258,282,285,286,297,301,302,305,307,309,311,315,318,321,325,326,327,328,329,330,333,335,340,341,343,346,347,350,351,354,358,360,363,367,368,372,374,377,381,383,387,398,408,413,422,429,433,434,438,439,443,448,452,465,466,477,481,483,487,489,493,500,504,510,514,526,530,536,540,567,714,715,716,717,721,724,726,727,729,835,863,866,867,868,2505,2508,2509) have mixed types. Specify dtype option on import or set low_memory=False.\n",
      "  df_temp = pd.read_csv(run + pack, usecols=list(temp_features))\n"
     ]
    },
    {
     "name": "stdout",
     "output_type": "stream",
     "text": [
      "Packet to merge shape (270208, 482)\n",
      "Merged dataframe (14150392, 482)\n"
     ]
    },
    {
     "name": "stderr",
     "output_type": "stream",
     "text": [
      "/tmp/ipykernel_2771/1281596387.py:16: DtypeWarning: Columns (21,64,89,97,105,108,109,112,113,114,115,116,117,120,121,128,130,131,132,133,134,135,138,142,143,144,145,146,150,153,159,164,169,171,174,178,179,186,188,189,190,191,192,193,225,226,238,242,243,246,248,250,252,256,258,282,285,286,297,301,302,305,307,309,311,315,318,321,325,326,327,328,329,330,333,335,340,341,343,346,347,350,351,354,358,360,363,367,368,372,374,377,381,383,387,398,408,413,422,429,433,434,438,439,443,448,452,465,466,477,481,483,487,489,493,714,715,716,717,721,724,726,727,729,835,863,866,867,868,2505,2508,2509) have mixed types. Specify dtype option on import or set low_memory=False.\n",
      "  df_temp = pd.read_csv(run + pack, usecols=list(temp_features))\n"
     ]
    },
    {
     "name": "stdout",
     "output_type": "stream",
     "text": [
      "Packet to merge shape (244587, 482)\n",
      "Merged dataframe (14394979, 482)\n"
     ]
    },
    {
     "name": "stderr",
     "output_type": "stream",
     "text": [
      "/tmp/ipykernel_2771/1281596387.py:16: DtypeWarning: Columns (94,97,98,116,119,123,124,125,126,127,128,129,130,133,134,135,136,137,138,141,142,149,151,152,153,154,155,156,160,162,165,169,170,177,179,180,181,182,183,184,189,192,193,210,214,218,219,222,224,226,228,232,234,238,239,240,241,243,246,250,253,261,265,269,273,274,277,279,281,283,287,288,290,300,301,302,303,307,310,312,313,315,323,339,352,362,365,366,367,384,385,387,390,391,394,395,398,402,409,425,429,430,434,435,439,441,445,452,476,481,483,484,485,501,505,507,511,513,517,525,531,533,537,538,542,543,547,548,552,607,611,617,621,746,750,756,760,868,2444,2447,2448) have mixed types. Specify dtype option on import or set low_memory=False.\n",
      "  df_temp = pd.read_csv(run + pack, usecols=list(temp_features))\n"
     ]
    },
    {
     "name": "stdout",
     "output_type": "stream",
     "text": [
      "Packet to merge shape (262256, 482)\n",
      "Merged dataframe (14657235, 482)\n"
     ]
    },
    {
     "name": "stderr",
     "output_type": "stream",
     "text": [
      "/tmp/ipykernel_2771/1281596387.py:16: DtypeWarning: Columns (94,97,98,116,119,123,124,125,126,127,128,129,130,133,134,135,136,137,138,141,142,149,151,152,153,154,155,156,160,162,165,169,170,177,179,180,181,182,183,184,189,192,193,210,214,218,219,222,224,226,228,232,234,238,239,240,241,243,246,250,253,261,265,269,273,274,277,279,281,283,287,288,290,300,301,302,303,307,310,312,313,315,323,339,352,362,365,366,367,384,385,387,390,391,394,395,398,402,409,425,429,430,434,435,439,441,445,452,476,481,483,484,485,501,505,507,511,513,517,525,531,533,537,538,542,543,547,548,552,607,611,617,621,746,750,756,760,2444,2447,2448) have mixed types. Specify dtype option on import or set low_memory=False.\n",
      "  df_temp = pd.read_csv(run + pack, usecols=list(temp_features))\n"
     ]
    },
    {
     "name": "stdout",
     "output_type": "stream",
     "text": [
      "Packet to merge shape (268608, 482)\n",
      "Merged dataframe (14925843, 482)\n"
     ]
    },
    {
     "name": "stderr",
     "output_type": "stream",
     "text": [
      "/tmp/ipykernel_2771/1281596387.py:16: DtypeWarning: Columns (94,97,98,116,119,123,124,125,126,127,128,129,130,133,134,135,136,137,138,141,142,149,151,152,153,154,155,156,160,162,165,169,170,177,179,180,181,182,183,184,189,192,193,210,214,218,219,222,224,226,228,232,234,238,239,240,241,243,246,250,253,261,265,269,273,274,277,279,281,283,287,288,290,300,301,302,303,307,310,312,313,315,323,339,352,362,365,366,367,384,385,387,390,391,394,395,398,402,409,425,429,430,434,435,439,441,445,452,476,481,483,484,485,501,505,507,511,513,517,525,531,533,537,538,542,543,547,548,552,607,611,617,621,746,750,756,760,868,2444,2447,2448) have mixed types. Specify dtype option on import or set low_memory=False.\n",
      "  df_temp = pd.read_csv(run + pack, usecols=list(temp_features))\n"
     ]
    },
    {
     "name": "stdout",
     "output_type": "stream",
     "text": [
      "Packet to merge shape (262426, 482)\n",
      "Merged dataframe (15188269, 482)\n"
     ]
    },
    {
     "name": "stderr",
     "output_type": "stream",
     "text": [
      "/tmp/ipykernel_2771/1281596387.py:16: DtypeWarning: Columns (94,97,98,116,119,123,124,125,126,127,128,129,130,133,134,135,136,137,138,141,142,149,151,152,153,154,155,156,160,162,165,169,170,177,179,180,181,182,183,184,189,192,193,210,214,218,219,222,224,226,228,232,234,238,239,240,241,243,246,250,253,261,265,269,273,274,277,279,281,283,287,288,290,300,301,302,303,307,310,312,313,315,323,339,352,362,365,366,367,384,385,387,390,391,394,395,398,402,409,425,429,430,434,435,439,441,445,452,476,481,483,484,485,501,505,507,511,513,517,525,531,533,537,538,542,543,547,548,552,607,611,617,621,2444,2447,2448) have mixed types. Specify dtype option on import or set low_memory=False.\n",
      "  df_temp = pd.read_csv(run + pack, usecols=list(temp_features))\n"
     ]
    },
    {
     "name": "stdout",
     "output_type": "stream",
     "text": [
      "Packet to merge shape (260846, 482)\n",
      "Merged dataframe (15449115, 482)\n"
     ]
    },
    {
     "name": "stderr",
     "output_type": "stream",
     "text": [
      "/tmp/ipykernel_2771/1281596387.py:16: DtypeWarning: Columns (94,97,98,116,119,123,124,125,126,127,128,129,130,133,134,135,136,137,138,141,142,149,151,152,153,154,155,156,160,162,165,169,170,177,179,180,181,182,183,184,189,192,193,210,214,218,219,222,224,226,228,232,234,238,239,240,241,243,246,250,253,261,265,269,273,274,277,279,281,283,287,288,290,300,301,302,303,307,310,312,313,315,323,339,352,362,365,366,367,384,385,387,390,391,394,395,398,402,409,425,429,430,434,435,439,441,445,452,476,481,483,484,485,501,505,507,511,513,517,525,531,533,537,538,542,543,547,548,552,746,750,756,760,2444,2447,2448) have mixed types. Specify dtype option on import or set low_memory=False.\n",
      "  df_temp = pd.read_csv(run + pack, usecols=list(temp_features))\n"
     ]
    },
    {
     "name": "stdout",
     "output_type": "stream",
     "text": [
      "Packet to merge shape (267022, 482)\n",
      "Merged dataframe (15716137, 482)\n"
     ]
    },
    {
     "name": "stderr",
     "output_type": "stream",
     "text": [
      "/tmp/ipykernel_2771/1281596387.py:16: DtypeWarning: Columns (94,97,98,116,119,123,124,125,126,127,128,129,130,133,134,135,136,137,138,141,142,149,151,152,153,154,155,156,160,162,165,169,170,177,179,180,181,182,183,184,189,192,193,210,214,218,219,222,224,226,228,232,234,238,239,240,241,243,246,250,253,261,265,269,273,274,277,279,281,283,287,288,290,300,301,302,303,307,310,312,313,315,323,339,352,362,365,366,367,384,385,387,390,391,394,395,398,402,409,425,429,430,434,435,439,441,445,452,476,481,483,484,485,501,505,507,511,513,517,525,531,533,537,538,542,543,547,548,552,607,611,617,621,746,750,756,760,868,2444,2447,2448) have mixed types. Specify dtype option on import or set low_memory=False.\n",
      "  df_temp = pd.read_csv(run + pack, usecols=list(temp_features))\n"
     ]
    },
    {
     "name": "stdout",
     "output_type": "stream",
     "text": [
      "Packet to merge shape (206099, 482)\n",
      "Merged dataframe (15922236, 482)\n"
     ]
    }
   ],
   "source": [
    "for run in RUNS:\n",
    "    all_packets = os.listdir(run)\n",
    "    all_packets.sort()\n",
    "    print(all_packets)\n",
    "    df_head = pd.read_csv(run + all_packets[0], nrows=2)\n",
    "    temp_features = list(set(df_head.columns) & set(features))\n",
    "    merged_df = pd.read_csv(run + all_packets[0], usecols=list(temp_features))\n",
    "    all_packets.remove(all_packets[0])\n",
    "    print(\"First packet shape {}\".format(merged_df.shape))\n",
    "    for pack in all_packets:\n",
    "        if not os.path.isfile(run + pack):\n",
    "            all_packets.remove(pack)\n",
    "            break\n",
    "        df_head = pd.read_csv(run + pack, nrows=2)\n",
    "        temp_features = list(set(df_head.columns) & set(features))\n",
    "        df_temp = pd.read_csv(run + pack, usecols=list(temp_features))\n",
    "        print(\"Packet to merge shape {}\".format(df_temp.shape))\n",
    "        merged_df = pd.concat([merged_df, df_temp], axis=0)\n",
    "        print(\"Merged dataframe {}\".format(merged_df.shape))\n",
    "    merged_df.to_csv('/data/puccetti/space_data/run_19/final/run_19_all_features.csv')"
   ]
  },
  {
   "cell_type": "markdown",
   "id": "8568e0b9",
   "metadata": {},
   "source": [
    "# Merge run/experiments to compose the final Dataset"
   ]
  },
  {
   "cell_type": "code",
   "execution_count": 5,
   "id": "acaece2e",
   "metadata": {},
   "outputs": [],
   "source": [
    "RUNS = ['/data/puccetti/space_data/run_13/final/run_13_all_features.csv',\n",
    "        '/data/puccetti/space_data/run_17/final/run_17_all_features.csv',\n",
    "        '/data/puccetti/space_data/run_18/final/run_18_all_features.csv',\n",
    "        '/data/puccetti/space_data/run_19/final/run_19_all_features.csv']"
   ]
  },
  {
   "cell_type": "code",
   "execution_count": 6,
   "id": "a4e6d5ef",
   "metadata": {},
   "outputs": [
    {
     "name": "stderr",
     "output_type": "stream",
     "text": [
      "/tmp/ipykernel_2728/3104707194.py:3: DtypeWarning: Columns (123,124,136,140,141,144,146,148,150,154,165,167,170,218,223,227,228,232,233,237,262,265,269,270,271,272,273,274,286,288,294,313,319,322,326,327,334,336,337,338,339,340,341,346,349,350,361,365,366,369,371,373,375,379,380,384,386,390,396,400,422,431,438,439,450,454,456,460,462,466,513,514,517,518,521,522,525,541,545,546,550,555,571,667,671,672,676,685,712,716,722,726,733,854) have mixed types. Specify dtype option on import or set low_memory=False.\n",
      "  merged_df = pd.read_csv('/data/puccetti/space_data/cinqui_tiny.csv', usecols=temp_features)\n"
     ]
    },
    {
     "name": "stdout",
     "output_type": "stream",
     "text": [
      "(1000000, 482)\n"
     ]
    },
    {
     "name": "stderr",
     "output_type": "stream",
     "text": [
      "/tmp/ipykernel_2728/3104707194.py:8: DtypeWarning: Columns (83,84,91,94,95,108,111,115,116,117,118,119,120,121,124,128,131,137,138,139,140,143,146,148,149,150,151,154,155,158,159,162,163,164,165,166,167,170,171,178,180,181,182,183,184,185,187,198,201,202,203,204,205,207,210,211,214,215,218,222,224,225,237,241,242,245,247,249,254,258,259,263,264,268,269,272,273,278,280,281,288,290,293,297,298,305,307,308,309,310,311,312,317,320,324,326,330,336,339,347,351,352,356,357,358,369,373,374,377,379,381,383,387,388,392,393,397,402,407,412,415,419,421,425,426,430,432,436,437,441,442,446,447,451,477,480,481) have mixed types. Specify dtype option on import or set low_memory=False.\n",
      "  df_temp = pd.read_csv(run, usecols=temp_features)\n"
     ]
    },
    {
     "name": "stdout",
     "output_type": "stream",
     "text": [
      "(3991058, 482)\n"
     ]
    },
    {
     "name": "stderr",
     "output_type": "stream",
     "text": [
      "/tmp/ipykernel_2728/3104707194.py:8: DtypeWarning: Columns (101,113,115,119,124,126,129,133,134,141,143,144,145,146,147,148,153,156,157,168,172,173,177,179,183,184,185,186,187,190,191,194,197,201,204,210,214,215,216,228,232,233,236,238,240,242,245,247,249,251,255,256,260,263,266,270,271,272,273,274,275,276,280,284,288,295,298,299,302,305,309,313,316,324,326,327,328,339,343,345,349,350,354,355,359,361,362,364,367,368,371,372,375,379,383,387,388,392,393,397,399,401,406,410,411,415,416,420,422,453,456,457,459,460,461,462,465,468,470,471,472,473,474,477,478,479,480) have mixed types. Specify dtype option on import or set low_memory=False.\n",
      "  df_temp = pd.read_csv(run, usecols=temp_features)\n"
     ]
    },
    {
     "name": "stdout",
     "output_type": "stream",
     "text": [
      "(5877120, 482)\n"
     ]
    },
    {
     "name": "stderr",
     "output_type": "stream",
     "text": [
      "/tmp/ipykernel_2728/3104707194.py:8: DtypeWarning: Columns (17,20,24,25,26,27,28,29,30,31,34,38,42,43,50,52,53,54,55,56,57,62,65,66,69,70,71,72,73,74,77,78,85,87,88,89,90,91,92,94,104,115,119,122,125,134,136,141,145,146,147,148,149,151,154,156,159,163,164,171,173,174,175,176,177,178,183,186,187,198,202,203,207,208,213,219,222,226,229,234,240,243,244,245,257,261,262,265,267,269,271,275,276,280,281,284,286,288,290,294,300,303,307,308,319,323,325,329,332,337,341,347,352,356,358,361,362,365,366,369,373,375,379,380,384,385,389,390,394,395,399,400,404,431,434,435,437,440,444,445,449,450,452,456,458,459,462,463,464,465,468,471,473,474,475,476,477,480,481,482) have mixed types. Specify dtype option on import or set low_memory=False.\n",
      "  df_temp = pd.read_csv(run, usecols=temp_features)\n"
     ]
    },
    {
     "name": "stdout",
     "output_type": "stream",
     "text": [
      "(14324814, 482)\n"
     ]
    },
    {
     "name": "stderr",
     "output_type": "stream",
     "text": [
      "/tmp/ipykernel_2728/3104707194.py:8: DtypeWarning: Columns (64,67,76,78,80,81,84,87,92,94,97,101,102,109,111,112,113,114,115,116,121,124,125,136,140,141,144,146,148,150,153,157,159,163,164,165,166,171,174,177,181,184,190,191,203,207,208,211,213,215,217,221,222,225,226,229,230,233,234,235,236,237,238,241,242,249,251,252,253,254,255,256,258,260,264,265,269,279,283,290,294,295,299,300,304,305,309,312,315,319,320,321,322,323,324,325,326,328,331,332,335,336,339,343,347,349,350,354,355,359,360,364,365,369,370,373,374,385,389,393,401,404,408,410,414,416,420,421,425,426,456,459,460,462,463,464,465,468,471,473,474,475,476,477,480,481,482) have mixed types. Specify dtype option on import or set low_memory=False.\n",
      "  df_temp = pd.read_csv(run, usecols=temp_features)\n"
     ]
    },
    {
     "name": "stdout",
     "output_type": "stream",
     "text": [
      "(30247050, 482)\n"
     ]
    }
   ],
   "source": [
    "df_head = pd.read_csv('/data/puccetti/space_data/cinqui_tiny.csv', nrows=2)\n",
    "temp_features = list(set(df_head.columns) & set(features))\n",
    "merged_df = pd.read_csv('/data/puccetti/space_data/cinqui_tiny.csv', usecols=temp_features)\n",
    "print(merged_df.shape)\n",
    "for run in RUNS:\n",
    "    df_head = pd.read_csv(run, nrows=2)\n",
    "    temp_features = list(set(df_head.columns) & set(features))\n",
    "    df_temp = pd.read_csv(run, usecols=temp_features)\n",
    "    df_temp = df_temp.sort_values('timestamp')\n",
    "    merged_df = pd.concat([merged_df, df_temp], axis=0)\n",
    "    print(merged_df.shape)\n",
    "    del df_temp"
   ]
  },
  {
   "cell_type": "code",
   "execution_count": 7,
   "id": "98d418f0",
   "metadata": {},
   "outputs": [],
   "source": [
    "merged_df.to_csv('/data/puccetti/space_data/final_merging_all_features.csv')"
   ]
  },
  {
   "cell_type": "code",
   "execution_count": 8,
   "id": "e207e064",
   "metadata": {},
   "outputs": [
    {
     "name": "stdout",
     "output_type": "stream",
     "text": [
      "0           2023-03-16 14:26:13.254204416\n",
      "1           2023-03-16 19:45:21.152042752\n",
      "2           2023-03-16 20:17:30.410588160\n",
      "3           2023-03-16 15:18:00.754676992\n",
      "4           2023-03-16 19:58:56.206301696\n",
      "                        ...              \n",
      "15922231    2023-06-16 19:58:12.266677760\n",
      "15922232    2023-06-16 19:58:12.267390208\n",
      "15922233    2023-06-16 19:58:12.267472640\n",
      "15922234    2023-06-16 19:58:12.267490048\n",
      "15922235    2023-06-16 19:58:12.309100288\n",
      "Name: timestamp, Length: 30247050, dtype: object\n"
     ]
    }
   ],
   "source": [
    "print(merged_df['timestamp'])"
   ]
  },
  {
   "cell_type": "code",
   "execution_count": 9,
   "id": "5eed023e",
   "metadata": {},
   "outputs": [
    {
     "name": "stdout",
     "output_type": "stream",
     "text": [
      "555474      2023-03-16 14:22:23.903192576\n",
      "625388      2023-03-16 14:22:23.903765248\n",
      "946493      2023-03-16 14:22:23.904402432\n",
      "625976      2023-03-16 14:22:23.904744448\n",
      "871706      2023-03-16 14:22:23.905764096\n",
      "                        ...              \n",
      "15922231    2023-06-16 19:58:12.266677760\n",
      "15922232    2023-06-16 19:58:12.267390208\n",
      "15922233    2023-06-16 19:58:12.267472640\n",
      "15922234    2023-06-16 19:58:12.267490048\n",
      "15922235    2023-06-16 19:58:12.309100288\n",
      "Name: timestamp, Length: 30247050, dtype: object\n"
     ]
    }
   ],
   "source": [
    "merged_df = merged_df.sort_values('timestamp')\n",
    "print(merged_df['timestamp'])"
   ]
  },
  {
   "cell_type": "code",
   "execution_count": 10,
   "id": "dbf0288a",
   "metadata": {},
   "outputs": [],
   "source": [
    "merged_df.to_csv('/data/puccetti/space_data/final_merging_all_feature_ordered.csv')"
   ]
  }
 ],
 "metadata": {
  "kernelspec": {
   "display_name": "space_paper",
   "language": "python",
   "name": "space_paper"
  },
  "language_info": {
   "codemirror_mode": {
    "name": "ipython",
    "version": 3
   },
   "file_extension": ".py",
   "mimetype": "text/x-python",
   "name": "python",
   "nbconvert_exporter": "python",
   "pygments_lexer": "ipython3",
   "version": "3.10.9"
  }
 },
 "nbformat": 4,
 "nbformat_minor": 5
}
